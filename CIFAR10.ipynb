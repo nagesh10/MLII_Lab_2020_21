{
 "cells": [
  {
   "cell_type": "code",
   "execution_count": 1,
   "metadata": {},
   "outputs": [],
   "source": [
    "from tensorflow.keras.datasets import cifar10\n",
    "from matplotlib import pyplot as plt\n",
    "from tensorflow import keras\n",
    "import tensorflow.compat.v2 as tf\n",
    "from sklearn.model_selection import train_test_split\n",
    "from tensorflow.keras.utils import to_categorical as tcg\n",
    "from tensorflow.keras.models import Sequential\n",
    "from tensorflow.keras.layers import Dense, Flatten"
   ]
  },
  {
   "cell_type": "code",
   "execution_count": 2,
   "metadata": {},
   "outputs": [],
   "source": [
    "(xtr,ytr),(xte,yte)=cifar10.load_data()"
   ]
  },
  {
   "cell_type": "code",
   "execution_count": 4,
   "metadata": {},
   "outputs": [
    {
     "data": {
      "text/plain": [
       "<matplotlib.image.AxesImage at 0x2252764e808>"
      ]
     },
     "execution_count": 4,
     "metadata": {},
     "output_type": "execute_result"
    },
    {
     "data": {
      "image/png": "[encoded data removed]",
      "text/plain": [
       "<Figure size 432x288 with 1 Axes>"
      ]
     },
     "metadata": {
      "needs_background": "light"
     },
     "output_type": "display_data"
    }
   ],
   "source": [
    "plt.imshow(xtr[93], cmap='gray')"
   ]
  },
  {
   "cell_type": "code",
   "execution_count": 5,
   "metadata": {},
   "outputs": [
    {
     "data": {
      "text/plain": [
       "array([0], dtype=uint8)"
      ]
     },
     "execution_count": 5,
     "metadata": {},
     "output_type": "execute_result"
    }
   ],
   "source": [
    "ytr[93]"
   ]
  },
  {
   "cell_type": "code",
   "execution_count": 6,
   "metadata": {},
   "outputs": [
    {
     "data": {
      "text/plain": [
       "<matplotlib.image.AxesImage at 0x225276c7fc8>"
      ]
     },
     "execution_count": 6,
     "metadata": {},
     "output_type": "execute_result"
    },
    {
     "data": {
      "image/png": "[encoded data removed]",
      "text/plain": [
       "<Figure size 432x288 with 1 Axes>"
      ]
     },
     "metadata": {
      "needs_background": "light"
     },
     "output_type": "display_data"
    }
   ],
   "source": [
    "plt.imshow(xte[93], cmap='gray')"
   ]
  },
  {
   "cell_type": "code",
   "execution_count": 8,
   "metadata": {},
   "outputs": [
    {
     "data": {
      "text/plain": [
       "array([6], dtype=uint8)"
      ]
     },
     "execution_count": 8,
     "metadata": {},
     "output_type": "execute_result"
    }
   ],
   "source": [
    "yte[93]"
   ]
  },
  {
   "cell_type": "code",
   "execution_count": 9,
   "metadata": {},
   "outputs": [],
   "source": [
    "ytr=tcg(ytr)\n",
    "yte=tcg(yte)"
   ]
  },
  {
   "cell_type": "code",
   "execution_count": 10,
   "metadata": {},
   "outputs": [],
   "source": [
    "xte=xte.reshape(xte.shape[0],xte.shape[1],xte.shape[2],3).astype('float32')/255\n",
    "xtr=xtr.reshape(xtr.shape[0],xtr.shape[1],xtr.shape[2],3).astype('float32')/255"
   ]
  },
  {
   "cell_type": "code",
   "execution_count": 11,
   "metadata": {},
   "outputs": [],
   "source": [
    "model = Sequential([\n",
    "  Flatten(input_shape=(32, 32, 3)),\n",
    "  Dense(256, activation='relu'),\n",
    "  Dense(128, activation='relu', kernel_initializer='he_uniform'),\n",
    "  Dense(64, activation='relu'),\n",
    "  Dense(10, activation='softmax'),\n",
    "  \n",
    "])"
   ]
  },
  {
   "cell_type": "code",
   "execution_count": 13,
   "metadata": {},
   "outputs": [],
   "source": [
    "model.compile(loss='categorical_crossentropy',optimizer='adam', metrics=['accuracy'])"
   ]
  },
  {
   "cell_type": "code",
   "execution_count": 14,
   "metadata": {},
   "outputs": [
    {
     "name": "stdout",
     "output_type": "stream",
     "text": [
      "Train on 50000 samples, validate on 10000 samples\n",
      "Epoch 1/13\n",
      "50000/50000 [==============================] - 6s 128us/sample - loss: 1.8893 - accuracy: 0.3129 - val_loss: 1.7371 - val_accuracy: 0.3737\n",
      "Epoch 2/13\n",
      "50000/50000 [==============================] - 6s 112us/sample - loss: 1.7070 - accuracy: 0.3838 - val_loss: 1.6586 - val_accuracy: 0.4059\n",
      "Epoch 3/13\n",
      "50000/50000 [==============================] - 6s 114us/sample - loss: 1.6179 - accuracy: 0.4179 - val_loss: 1.5795 - val_accuracy: 0.4382\n",
      "Epoch 4/13\n",
      "50000/50000 [==============================] - 6s 111us/sample - loss: 1.5684 - accuracy: 0.4384 - val_loss: 1.5501 - val_accuracy: 0.4444\n",
      "Epoch 5/13\n",
      "50000/50000 [==============================] - 6s 112us/sample - loss: 1.5185 - accuracy: 0.4574 - val_loss: 1.5316 - val_accuracy: 0.4480\n",
      "Epoch 6/13\n",
      "50000/50000 [==============================] - 6s 113us/sample - loss: 1.4792 - accuracy: 0.4721 - val_loss: 1.4836 - val_accuracy: 0.4746\n",
      "Epoch 7/13\n",
      "50000/50000 [==============================] - 6s 112us/sample - loss: 1.4473 - accuracy: 0.4840 - val_loss: 1.5178 - val_accuracy: 0.4558\n",
      "Epoch 8/13\n",
      "50000/50000 [==============================] - 6s 112us/sample - loss: 1.4251 - accuracy: 0.4919 - val_loss: 1.4990 - val_accuracy: 0.4642\n",
      "Epoch 9/13\n",
      "50000/50000 [==============================] - 6s 114us/sample - loss: 1.4008 - accuracy: 0.5004 - val_loss: 1.4971 - val_accuracy: 0.4719\n",
      "Epoch 10/13\n",
      "50000/50000 [==============================] - 6s 111us/sample - loss: 1.3852 - accuracy: 0.5061 - val_loss: 1.4371 - val_accuracy: 0.4911\n",
      "Epoch 11/13\n",
      "50000/50000 [==============================] - 6s 110us/sample - loss: 1.3634 - accuracy: 0.5133 - val_loss: 1.4399 - val_accuracy: 0.4876\n",
      "Epoch 12/13\n",
      "50000/50000 [==============================] - 6s 114us/sample - loss: 1.3404 - accuracy: 0.5226 - val_loss: 1.4194 - val_accuracy: 0.4975\n",
      "Epoch 13/13\n",
      "50000/50000 [==============================] - 6s 112us/sample - loss: 1.3235 - accuracy: 0.5290 - val_loss: 1.4338 - val_accuracy: 0.4959\n"
     ]
    }
   ],
   "source": [
    "history = model.fit(xtr,ytr, validation_data=(xte,yte),epochs=13, batch_size=64)"
   ]
  },
  {
   "cell_type": "code",
   "execution_count": 15,
   "metadata": {},
   "outputs": [
    {
     "name": "stdout",
     "output_type": "stream",
     "text": [
      "50000/50000 [==============================] - 3s 59us/sample - loss: 1.2886 - accuracy: 0.5425\n"
     ]
    },
    {
     "data": {
      "text/plain": [
       "[1.2885661120986938, 0.54248]"
      ]
     },
     "execution_count": 15,
     "metadata": {},
     "output_type": "execute_result"
    }
   ],
   "source": [
    "model.evaluate(xtr,ytr)"
   ]
  },
  {
   "cell_type": "code",
   "execution_count": 16,
   "metadata": {},
   "outputs": [
    {
     "name": "stdout",
     "output_type": "stream",
     "text": [
      "10000/10000 [==============================] - 1s 63us/sample - loss: 1.4338 - accuracy: 0.4959\n"
     ]
    }
   ],
   "source": [
    "score = model.evaluate(xte,yte)"
   ]
  },
  {
   "cell_type": "code",
   "execution_count": 17,
   "metadata": {},
   "outputs": [
    {
     "name": "stdout",
     "output_type": "stream",
     "text": [
      "Test loss: 1.4338203010559083\n",
      "Test accuracy: 0.4959\n"
     ]
    }
   ],
   "source": [
    "print('Test loss:', score[0])\n",
    "print('Test accuracy:', score[1])"
   ]
  },
  {
   "cell_type": "code",
   "execution_count": 18,
   "metadata": {},
   "outputs": [
    {
     "data": {
      "image/png": "[encoded data removed]",
      "text/plain": [
       "<Figure size 432x288 with 1 Axes>"
      ]
     },
     "metadata": {
      "needs_background": "light"
     },
     "output_type": "display_data"
    }
   ],
   "source": [
    "plt.plot(history.history['accuracy'])\n",
    "plt.plot(history.history['val_accuracy'])\n",
    "plt.title('model accuracy')\n",
    "plt.ylabel('accuracy')\n",
    "plt.xlabel('epoch')\n",
    "plt.legend(['train', 'test'], loc='upper left')\n",
    "plt.show()"
   ]
  },
  {
   "cell_type": "code",
   "execution_count": 19,
   "metadata": {},
   "outputs": [
    {
     "data": {
      "image/png": "[encoded data removed]",
      "text/plain": [
       "<Figure size 432x288 with 1 Axes>"
      ]
     },
     "metadata": {
      "needs_background": "light"
     },
     "output_type": "display_data"
    }
   ],
   "source": [
    "plt.plot(history.history['loss'])\n",
    "plt.plot(history.history['val_loss'])\n",
    "plt.title('model loss')\n",
    "plt.ylabel('loss')\n",
    "plt.xlabel('epoch')\n",
    "plt.legend(['train', 'test'], loc='upper left')\n",
    "plt.show()"
   ]
  },
  {
   "cell_type": "code",
   "execution_count": null,
   "metadata": {},
   "outputs": [],
   "source": []
  }
 ],
 "metadata": {
  "kernelspec": {
   "display_name": "Python 3",
   "language": "python",
   "name": "python3"
  },
  "language_info": {
   "codemirror_mode": {
    "name": "ipython",
    "version": 3
   },
   "file_extension": ".py",
   "mimetype": "text/x-python",
   "name": "python",
   "nbconvert_exporter": "python",
   "pygments_lexer": "ipython3",
   "version": "3.7.7"
  }
 },
 "nbformat": 4,
 "nbformat_minor": 4
}
