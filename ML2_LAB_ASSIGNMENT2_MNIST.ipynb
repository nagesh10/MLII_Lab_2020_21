{
  "nbformat": 4,
  "nbformat_minor": 0,
  "metadata": {
    "colab": {
      "name": "ML2_LAB_ASSIGNMENT2_MNIST.ipynb",
      "provenance": [],
      "collapsed_sections": []
    },
    "kernelspec": {
      "name": "python3",
      "display_name": "Python 3"
    }
  },
  "cells": [
    {
      "cell_type": "markdown",
      "metadata": {
        "id": "9W6td9jdVOWE",
        "colab_type": "text"
      },
      "source": [
        "**Name - Atharva Gondkar**\n",
        "\n",
        "**Class - IS2**\n",
        "\n",
        "**Roll Number - 2176032**\n",
        "\n",
        "**Enrollment Number - MITU17BTMA0013**\n",
        "\n",
        "\n",
        "---\n",
        "\n",
        "**EXPERIMENT #2** \n",
        "\n",
        "**DATE: 01-09-2020**\n",
        "\n",
        "---\n",
        "\n",
        "\n",
        "#**TITLE : ML II ASSIGNMENT 2**\n",
        "\n",
        "---\n",
        "\n",
        "\n",
        "#**AIM**\n",
        "\n",
        "Perform Digit Recognizer using MNIST dataset.\n",
        "\n",
        "\n",
        "#**OBJECTIVE**\n",
        "1. Implement DNN for Digit Recogniton using MNIST dataset.\n",
        "\n",
        "\n",
        "\n",
        "**DRIVE LINK** - *https://drive.google.com/drive/u/0/folders/1VFRRP-IpjH_iq-Beojnorny4Rm53uT6E*\n",
        "\n",
        "  **Notebook, code, pdf, output snapshots have been stored on the above given drive link.*"
      ]
    },
    {
      "cell_type": "markdown",
      "metadata": {
        "id": "S0TwmJhSSNip",
        "colab_type": "text"
      },
      "source": [
        "# **MNIST**"
      ]
    },
    {
      "cell_type": "code",
      "metadata": {
        "id": "4EHvKLbawPfx",
        "colab_type": "code",
        "colab": {}
      },
      "source": [
        "from tensorflow.keras.datasets import mnist\n",
        "from matplotlib import pyplot as plt\n",
        "from tensorflow import keras\n",
        "import tensorflow as tf\n",
        "import numpy as np\n",
        "from sklearn.model_selection import train_test_split\n",
        "from tensorflow.keras.utils import to_categorical as tcg\n",
        "from tensorflow.keras.models import Sequential\n",
        "from tensorflow.keras.layers import Dense, Flatten"
      ],
      "execution_count": null,
      "outputs": []
    },
    {
      "cell_type": "code",
      "metadata": {
        "id": "SMrjszw7xZFw",
        "colab_type": "code",
        "colab": {}
      },
      "source": [
        "(xtr,ytr),(xte,yte)=mnist.load_data()"
      ],
      "execution_count": null,
      "outputs": []
    },
    {
      "cell_type": "code",
      "metadata": {
        "id": "hjZkN-tH0rxh",
        "colab_type": "code",
        "colab": {
          "base_uri": "https://localhost:8080/",
          "height": 34
        },
        "outputId": "2ff83a82-56ec-4b54-eb11-9a52566fd597"
      },
      "source": [
        "xtr.shape"
      ],
      "execution_count": null,
      "outputs": [
        {
          "output_type": "execute_result",
          "data": {
            "text/plain": [
              "(60000, 28, 28)"
            ]
          },
          "metadata": {
            "tags": []
          },
          "execution_count": 211
        }
      ]
    },
    {
      "cell_type": "code",
      "metadata": {
        "id": "4K1G54bHBx66",
        "colab_type": "code",
        "colab": {
          "base_uri": "https://localhost:8080/",
          "height": 282
        },
        "outputId": "c6ceea72-1d63-4b56-847d-db57b0d0a7b2"
      },
      "source": [
        "plt.imshow(xtr[99], cmap='gray')"
      ],
      "execution_count": null,
      "outputs": [
        {
          "output_type": "execute_result",
          "data": {
            "text/plain": [
              "<matplotlib.image.AxesImage at 0x7f564902bcc0>"
            ]
          },
          "metadata": {
            "tags": []
          },
          "execution_count": 212
        },
        {
          "output_type": "display_data",
          "data": {
            "image/png": "[encoded data removed]",
            "text/plain": [
              "<Figure size 432x288 with 1 Axes>"
            ]
          },
          "metadata": {
            "tags": [],
            "needs_background": "light"
          }
        }
      ]
    },
    {
      "cell_type": "code",
      "metadata": {
        "id": "WH68wwrMZWUS",
        "colab_type": "code",
        "colab": {}
      },
      "source": [
        ""
      ],
      "execution_count": null,
      "outputs": []
    },
    {
      "cell_type": "code",
      "metadata": {
        "id": "P4NfYkwQDNA-",
        "colab_type": "code",
        "colab": {
          "base_uri": "https://localhost:8080/",
          "height": 34
        },
        "outputId": "e7d120c8-638d-4a59-9ba1-b026ad06fa88"
      },
      "source": [
        "ytr[99]"
      ],
      "execution_count": null,
      "outputs": [
        {
          "output_type": "execute_result",
          "data": {
            "text/plain": [
              "1"
            ]
          },
          "metadata": {
            "tags": []
          },
          "execution_count": 213
        }
      ]
    },
    {
      "cell_type": "code",
      "metadata": {
        "id": "-TRlMrFhxaHS",
        "colab_type": "code",
        "colab": {}
      },
      "source": [
        "xte=xte.reshape(xte.shape[0],xte.shape[1],xte.shape[2],1).astype('float32')/255\n",
        "xtr=xtr.reshape(xtr.shape[0],xtr.shape[1],xtr.shape[2],1).astype('float32')/255"
      ],
      "execution_count": null,
      "outputs": []
    },
    {
      "cell_type": "code",
      "metadata": {
        "id": "HJYo9hSEoDWj",
        "colab_type": "code",
        "colab": {
          "base_uri": "https://localhost:8080/",
          "height": 34
        },
        "outputId": "4b5b1523-8b23-4b05-fbf8-46e52dec75cd"
      },
      "source": [
        "xtr.shape\n",
        "xte.shape"
      ],
      "execution_count": null,
      "outputs": [
        {
          "output_type": "execute_result",
          "data": {
            "text/plain": [
              "(10000, 28, 28, 1)"
            ]
          },
          "metadata": {
            "tags": []
          },
          "execution_count": 215
        }
      ]
    },
    {
      "cell_type": "code",
      "metadata": {
        "id": "ZKJ7-AwK0q2w",
        "colab_type": "code",
        "colab": {}
      },
      "source": [
        "ytr=tcg(ytr)\n",
        "yte=tcg(yte)"
      ],
      "execution_count": null,
      "outputs": []
    },
    {
      "cell_type": "code",
      "metadata": {
        "id": "488ekMPttqQP",
        "colab_type": "code",
        "colab": {}
      },
      "source": [
        "model = Sequential([\n",
        "  Flatten(input_shape=(28, 28, 1)),\n",
        "  Dense(784, activation='relu'),\n",
        "  Dense(512, activation='relu'),\n",
        "  Dense(392, activation='relu'),\n",
        "  Dense(256, activation='relu'),\n",
        "  Dense(128, activation='relu'),\n",
        "  Dense(64, activation='relu'),\n",
        "  Dense(32, activation='relu'),\n",
        "  Dense(16, activation='relu'),\n",
        "  Dense(10, activation='softmax'),\n",
        "])"
      ],
      "execution_count": null,
      "outputs": []
    },
    {
      "cell_type": "code",
      "metadata": {
        "id": "Cwvo7vHlYfxh",
        "colab_type": "code",
        "colab": {}
      },
      "source": [
        "model.compile(loss='categorical_crossentropy',optimizer='adam', metrics=['accuracy'])"
      ],
      "execution_count": null,
      "outputs": []
    },
    {
      "cell_type": "code",
      "metadata": {
        "id": "I8o2xttXm1kY",
        "colab_type": "code",
        "colab": {}
      },
      "source": [
        "x_train,x_valid = xtr[5000:],xtr[:5000]\n",
        "y_train,y_valid = ytr[5000:],ytr[:5000]"
      ],
      "execution_count": null,
      "outputs": []
    },
    {
      "cell_type": "code",
      "metadata": {
        "id": "xufOKyQkYvTe",
        "colab_type": "code",
        "colab": {
          "base_uri": "https://localhost:8080/",
          "height": 554
        },
        "outputId": "1cecc5ad-3f69-4d52-9c22-2c8570a6c1d1"
      },
      "source": [
        "from keras.callbacks import ModelCheckpoint\n",
        "\n",
        "checkpoint = ModelCheckpoint(filepath = 'best_model.h5',save_best_only = True,verbose=1)\n",
        "\n",
        "history = model.fit(x_train,y_train,batch_size=256, epochs = 8,\n",
        "          validation_data=(x_valid,y_valid),\n",
        "          callbacks=[checkpoint],\n",
        "          verbose=2, shuffle=True)\n"
      ],
      "execution_count": null,
      "outputs": [
        {
          "output_type": "stream",
          "text": [
            "Epoch 1/8\n",
            "\n",
            "Epoch 00001: val_loss improved from inf to 0.16810, saving model to best_model.h5\n",
            "215/215 - 8s - loss: 0.4184 - accuracy: 0.8697 - val_loss: 0.1681 - val_accuracy: 0.9510\n",
            "Epoch 2/8\n",
            "\n",
            "Epoch 00002: val_loss improved from 0.16810 to 0.09107, saving model to best_model.h5\n",
            "215/215 - 8s - loss: 0.1131 - accuracy: 0.9670 - val_loss: 0.0911 - val_accuracy: 0.9752\n",
            "Epoch 3/8\n",
            "\n",
            "Epoch 00003: val_loss did not improve from 0.09107\n",
            "215/215 - 8s - loss: 0.0734 - accuracy: 0.9777 - val_loss: 0.1067 - val_accuracy: 0.9706\n",
            "Epoch 4/8\n",
            "\n",
            "Epoch 00004: val_loss improved from 0.09107 to 0.08936, saving model to best_model.h5\n",
            "215/215 - 8s - loss: 0.0577 - accuracy: 0.9820 - val_loss: 0.0894 - val_accuracy: 0.9752\n",
            "Epoch 5/8\n",
            "\n",
            "Epoch 00005: val_loss improved from 0.08936 to 0.08676, saving model to best_model.h5\n",
            "215/215 - 8s - loss: 0.0399 - accuracy: 0.9878 - val_loss: 0.0868 - val_accuracy: 0.9772\n",
            "Epoch 6/8\n",
            "\n",
            "Epoch 00006: val_loss improved from 0.08676 to 0.07425, saving model to best_model.h5\n",
            "215/215 - 8s - loss: 0.0356 - accuracy: 0.9891 - val_loss: 0.0743 - val_accuracy: 0.9802\n",
            "Epoch 7/8\n",
            "\n",
            "Epoch 00007: val_loss did not improve from 0.07425\n",
            "215/215 - 8s - loss: 0.0269 - accuracy: 0.9916 - val_loss: 0.0865 - val_accuracy: 0.9784\n",
            "Epoch 8/8\n",
            "\n",
            "Epoch 00008: val_loss did not improve from 0.07425\n",
            "215/215 - 8s - loss: 0.0233 - accuracy: 0.9923 - val_loss: 0.0866 - val_accuracy: 0.9808\n"
          ],
          "name": "stdout"
        }
      ]
    },
    {
      "cell_type": "code",
      "metadata": {
        "id": "t3_HRv8-bz90",
        "colab_type": "code",
        "colab": {}
      },
      "source": [
        "np.save('my_history.npy',history.history)"
      ],
      "execution_count": null,
      "outputs": []
    },
    {
      "cell_type": "code",
      "metadata": {
        "id": "MpJH_mtNb4WR",
        "colab_type": "code",
        "colab": {}
      },
      "source": [
        "history=np.load('my_history.npy',allow_pickle='TRUE').item()"
      ],
      "execution_count": null,
      "outputs": []
    },
    {
      "cell_type": "code",
      "metadata": {
        "id": "32TQxVrFcRwd",
        "colab_type": "code",
        "colab": {
          "base_uri": "https://localhost:8080/",
          "height": 295
        },
        "outputId": "d79b502e-bdeb-4df9-bfba-38a43a8802a2"
      },
      "source": [
        "plt.plot(history['accuracy'])\n",
        "plt.plot(history['val_accuracy'])\n",
        "plt.title('model accuracy')\n",
        "plt.ylabel('accuracy')\n",
        "plt.xlabel('epoch')\n",
        "plt.legend(['train', 'test'], loc='upper left')\n",
        "plt.show()"
      ],
      "execution_count": null,
      "outputs": [
        {
          "output_type": "display_data",
          "data": {
            "image/png": "[encoded data removed]",
            "text/plain": [
              "<Figure size 432x288 with 1 Axes>"
            ]
          },
          "metadata": {
            "tags": [],
            "needs_background": "light"
          }
        }
      ]
    },
    {
      "cell_type": "code",
      "metadata": {
        "id": "EInMzdXLd5o8",
        "colab_type": "code",
        "colab": {
          "base_uri": "https://localhost:8080/",
          "height": 50
        },
        "outputId": "d910b7be-3dc3-42b5-edbe-6401a290ed2d"
      },
      "source": [
        "model.evaluate(xtr,ytr)"
      ],
      "execution_count": null,
      "outputs": [
        {
          "output_type": "stream",
          "text": [
            "1875/1875 [==============================] - 5s 3ms/step - loss: 0.0162 - accuracy: 0.9952\n"
          ],
          "name": "stdout"
        },
        {
          "output_type": "execute_result",
          "data": {
            "text/plain": [
              "[0.016175806522369385, 0.9951500296592712]"
            ]
          },
          "metadata": {
            "tags": []
          },
          "execution_count": 180
        }
      ]
    },
    {
      "cell_type": "code",
      "metadata": {
        "id": "NX3dcCLwOTP4",
        "colab_type": "code",
        "colab": {
          "base_uri": "https://localhost:8080/",
          "height": 34
        },
        "outputId": "9a3f1ca5-b94a-4276-a316-218b773e7c79"
      },
      "source": [
        "score = model.evaluate(xte,yte)"
      ],
      "execution_count": null,
      "outputs": [
        {
          "output_type": "stream",
          "text": [
            "313/313 [==============================] - 1s 4ms/step - loss: 0.0864 - accuracy: 0.9788\n"
          ],
          "name": "stdout"
        }
      ]
    },
    {
      "cell_type": "code",
      "metadata": {
        "id": "SHmlsgxbA_Bk",
        "colab_type": "code",
        "colab": {
          "base_uri": "https://localhost:8080/",
          "height": 50
        },
        "outputId": "b0567718-c4d4-412b-891a-ccb256fa143d"
      },
      "source": [
        "print('Test loss:', score[0])\n",
        "print('Test accuracy:', score[1])"
      ],
      "execution_count": null,
      "outputs": [
        {
          "output_type": "stream",
          "text": [
            "Test loss: 0.07490140944719315\n",
            "Test accuracy: 0.9797999858856201\n"
          ],
          "name": "stdout"
        }
      ]
    }
  ]
}