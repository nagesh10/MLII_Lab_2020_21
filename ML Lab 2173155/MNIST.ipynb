{
  "nbformat": 4,
  "nbformat_minor": 0,
  "metadata": {
    "colab": {
      "name": "MNIST.ipynb",
      "provenance": [],
      "collapsed_sections": []
    },
    "kernelspec": {
      "name": "python3",
      "display_name": "Python 3"
    }
  },
  "cells": [
    {
      "cell_type": "markdown",
      "metadata": {
        "id": "Mp8cfF0UhMra",
        "colab_type": "text"
      },
      "source": [
        "**Assignment Lab 2**\n",
        "\n",
        "**MNIST**\n",
        "\n"
      ]
    },
    {
      "cell_type": "markdown",
      "metadata": {
        "id": "MjwcMRXxl0QX",
        "colab_type": "text"
      },
      "source": [
        "Impoet the data"
      ]
    },
    {
      "cell_type": "code",
      "metadata": {
        "id": "LGb0uk697whR",
        "colab_type": "code",
        "colab": {}
      },
      "source": [
        "from tensorflow.keras.datasets import mnist\n",
        "from matplotlib import pyplot as plt\n",
        "from tensorflow import keras\n",
        "import tensorflow.compat.v2 as tf\n",
        "from sklearn.model_selection import train_test_split\n",
        "from tensorflow.keras.utils import to_categorical as tcg\n",
        "from tensorflow.keras.models import Sequential\n",
        "from tensorflow.keras.layers import Dense, Flatten"
      ],
      "execution_count": 8,
      "outputs": []
    },
    {
      "cell_type": "markdown",
      "metadata": {
        "id": "w4USx_cRlvwf",
        "colab_type": "text"
      },
      "source": [
        "Explore Data"
      ]
    },
    {
      "cell_type": "code",
      "metadata": {
        "id": "Xbo1_BayhLQ1",
        "colab_type": "code",
        "colab": {}
      },
      "source": [
        "(xtr,ytr),(xte,yte)=mnist.load_data()"
      ],
      "execution_count": 9,
      "outputs": []
    },
    {
      "cell_type": "code",
      "metadata": {
        "id": "n_HaOVaTi3tV",
        "colab_type": "code",
        "colab": {
          "base_uri": "https://localhost:8080/",
          "height": 33
        },
        "outputId": "ce39c1a7-756f-4f21-af18-e806fe5a5cd3"
      },
      "source": [
        "xtr.shape"
      ],
      "execution_count": 10,
      "outputs": [
        {
          "output_type": "execute_result",
          "data": {
            "text/plain": [
              "(60000, 28, 28)"
            ]
          },
          "metadata": {
            "tags": []
          },
          "execution_count": 10
        }
      ]
    },
    {
      "cell_type": "code",
      "metadata": {
        "id": "vNE-okR2i_GE",
        "colab_type": "code",
        "colab": {
          "base_uri": "https://localhost:8080/",
          "height": 281
        },
        "outputId": "4595f2db-9905-4d1e-9e8a-985527d9b068"
      },
      "source": [
        "plt.imshow(xtr[99], cmap='gray')"
      ],
      "execution_count": 11,
      "outputs": [
        {
          "output_type": "execute_result",
          "data": {
            "text/plain": [
              "<matplotlib.image.AxesImage at 0x7fcc8f8aed30>"
            ]
          },
          "metadata": {
            "tags": []
          },
          "execution_count": 11
        },
        {
          "output_type": "display_data",
          "data": {
            "image/png": "[encoded data removed]",
            "text/plain": [
              "<Figure size 432x288 with 1 Axes>"
            ]
          },
          "metadata": {
            "tags": [],
            "needs_background": "light"
          }
        }
      ]
    },
    {
      "cell_type": "code",
      "metadata": {
        "id": "0twZScQ4lOkX",
        "colab_type": "code",
        "colab": {
          "base_uri": "https://localhost:8080/",
          "height": 33
        },
        "outputId": "a611d08e-4f1f-4681-95a7-acceed602202"
      },
      "source": [
        "ytr[99]"
      ],
      "execution_count": 12,
      "outputs": [
        {
          "output_type": "execute_result",
          "data": {
            "text/plain": [
              "1"
            ]
          },
          "metadata": {
            "tags": []
          },
          "execution_count": 12
        }
      ]
    },
    {
      "cell_type": "code",
      "metadata": {
        "id": "OPnYkmnWlQx5",
        "colab_type": "code",
        "colab": {}
      },
      "source": [
        "xtr=xtr.reshape(xtr.shape[0],xtr.shape[1],xtr.shape[2],1).astype('float32')/255\n",
        "ytr=tcg(ytr)\n",
        "yte=tcg(yte)\n",
        "\n"
      ],
      "execution_count": 14,
      "outputs": []
    },
    {
      "cell_type": "markdown",
      "metadata": {
        "id": "Vd8_Jt10mBKT",
        "colab_type": "text"
      },
      "source": [
        "Define the Model"
      ]
    },
    {
      "cell_type": "code",
      "metadata": {
        "id": "PNYlT34Ill0K",
        "colab_type": "code",
        "colab": {}
      },
      "source": [
        "model = Sequential([\n",
        "  Flatten(input_shape=(28, 28, 1)),\n",
        "  Dense(256, activation='relu'),\n",
        "  Dense(128, activation='relu'),\n",
        "  Dense(64, activation='relu'),\n",
        "  Dense(10, activation='softmax'),\n",
        "])"
      ],
      "execution_count": 16,
      "outputs": []
    },
    {
      "cell_type": "markdown",
      "metadata": {
        "id": "3p4FhgaNmTXy",
        "colab_type": "text"
      },
      "source": [
        "Train the Model"
      ]
    },
    {
      "cell_type": "code",
      "metadata": {
        "id": "5y4Vb-Kcllvd",
        "colab_type": "code",
        "colab": {
          "base_uri": "https://localhost:8080/",
          "height": 686
        },
        "outputId": "a1f882b3-1a9d-496a-d15e-9339d6cfdc2f"
      },
      "source": [
        "model.compile(loss='categorical_crossentropy',optimizer='adam', metrics=['accuracy'])\n",
        "history = model.fit(xtr,ytr, validation_data=(xte,yte),epochs=20, batch_size=256)"
      ],
      "execution_count": 19,
      "outputs": [
        {
          "output_type": "stream",
          "text": [
            "Epoch 1/20\n",
            "235/235 [==============================] - 2s 10ms/step - loss: 0.3611 - accuracy: 0.8925 - val_loss: 8183.0366 - val_accuracy: 0.8432\n",
            "Epoch 2/20\n",
            "235/235 [==============================] - 2s 9ms/step - loss: 0.3244 - accuracy: 0.9040 - val_loss: 7493.2334 - val_accuracy: 0.8587\n",
            "Epoch 3/20\n",
            "235/235 [==============================] - 2s 10ms/step - loss: 0.2959 - accuracy: 0.9119 - val_loss: 6837.2969 - val_accuracy: 0.8749\n",
            "Epoch 4/20\n",
            "235/235 [==============================] - 2s 10ms/step - loss: 0.2703 - accuracy: 0.9193 - val_loss: 6656.4312 - val_accuracy: 0.8806\n",
            "Epoch 5/20\n",
            "235/235 [==============================] - 2s 10ms/step - loss: 0.2446 - accuracy: 0.9281 - val_loss: 5955.2222 - val_accuracy: 0.8956\n",
            "Epoch 6/20\n",
            "235/235 [==============================] - 2s 10ms/step - loss: 0.2245 - accuracy: 0.9331 - val_loss: 5373.1587 - val_accuracy: 0.9099\n",
            "Epoch 7/20\n",
            "235/235 [==============================] - 2s 10ms/step - loss: 0.2041 - accuracy: 0.9389 - val_loss: 5540.7466 - val_accuracy: 0.9088\n",
            "Epoch 8/20\n",
            "235/235 [==============================] - 2s 10ms/step - loss: 0.1858 - accuracy: 0.9445 - val_loss: 5060.7529 - val_accuracy: 0.9165\n",
            "Epoch 9/20\n",
            "235/235 [==============================] - 2s 9ms/step - loss: 0.1706 - accuracy: 0.9492 - val_loss: 4521.2729 - val_accuracy: 0.9274\n",
            "Epoch 10/20\n",
            "235/235 [==============================] - 2s 9ms/step - loss: 0.1593 - accuracy: 0.9527 - val_loss: 4327.5576 - val_accuracy: 0.9303\n",
            "Epoch 11/20\n",
            "235/235 [==============================] - 2s 10ms/step - loss: 0.1459 - accuracy: 0.9560 - val_loss: 4255.2856 - val_accuracy: 0.9343\n",
            "Epoch 12/20\n",
            "235/235 [==============================] - 2s 9ms/step - loss: 0.1370 - accuracy: 0.9588 - val_loss: 4047.3789 - val_accuracy: 0.9373\n",
            "Epoch 13/20\n",
            "235/235 [==============================] - 2s 9ms/step - loss: 0.1281 - accuracy: 0.9615 - val_loss: 4195.8120 - val_accuracy: 0.9353\n",
            "Epoch 14/20\n",
            "235/235 [==============================] - 2s 9ms/step - loss: 0.1178 - accuracy: 0.9653 - val_loss: 4129.1523 - val_accuracy: 0.9390\n",
            "Epoch 15/20\n",
            "235/235 [==============================] - 2s 10ms/step - loss: 0.1124 - accuracy: 0.9667 - val_loss: 4100.4526 - val_accuracy: 0.9387\n",
            "Epoch 16/20\n",
            "235/235 [==============================] - 2s 10ms/step - loss: 0.1055 - accuracy: 0.9688 - val_loss: 4902.6318 - val_accuracy: 0.9278\n",
            "Epoch 17/20\n",
            "235/235 [==============================] - 2s 10ms/step - loss: 0.0995 - accuracy: 0.9707 - val_loss: 4277.6548 - val_accuracy: 0.9370\n",
            "Epoch 18/20\n",
            "235/235 [==============================] - 2s 10ms/step - loss: 0.0942 - accuracy: 0.9715 - val_loss: 4253.5337 - val_accuracy: 0.9378\n",
            "Epoch 19/20\n",
            "235/235 [==============================] - 2s 10ms/step - loss: 0.0883 - accuracy: 0.9739 - val_loss: 5090.0811 - val_accuracy: 0.9265\n",
            "Epoch 20/20\n",
            "235/235 [==============================] - 2s 10ms/step - loss: 0.0826 - accuracy: 0.9756 - val_loss: 5692.6074 - val_accuracy: 0.9176\n"
          ],
          "name": "stdout"
        }
      ]
    },
    {
      "cell_type": "markdown",
      "metadata": {
        "id": "UuAOjAKBmrnz",
        "colab_type": "text"
      },
      "source": [
        "Evaluate the data"
      ]
    },
    {
      "cell_type": "code",
      "metadata": {
        "id": "sxlJcH4fmbRe",
        "colab_type": "code",
        "colab": {
          "base_uri": "https://localhost:8080/",
          "height": 50
        },
        "outputId": "d2d0ac8c-2108-4e32-82bf-649dbab489e4"
      },
      "source": [
        "model.evaluate(xtr,ytr)"
      ],
      "execution_count": 20,
      "outputs": [
        {
          "output_type": "stream",
          "text": [
            "1875/1875 [==============================] - 4s 2ms/step - loss: 0.0845 - accuracy: 0.9746\n"
          ],
          "name": "stdout"
        },
        {
          "output_type": "execute_result",
          "data": {
            "text/plain": [
              "[0.08445791155099869, 0.9745833277702332]"
            ]
          },
          "metadata": {
            "tags": []
          },
          "execution_count": 20
        }
      ]
    },
    {
      "cell_type": "code",
      "metadata": {
        "id": "redBsjCmmm_R",
        "colab_type": "code",
        "colab": {
          "base_uri": "https://localhost:8080/",
          "height": 67
        },
        "outputId": "1ef63e71-8079-43b1-dece-3021c2b77234"
      },
      "source": [
        "score = model.evaluate(xte,yte)\n",
        "print('Test loss:', score[0])\n",
        "print('Test accuracy:', score[1])"
      ],
      "execution_count": 22,
      "outputs": [
        {
          "output_type": "stream",
          "text": [
            "313/313 [==============================] - 0s 1ms/step - loss: 5692.6050 - accuracy: 0.9176\n",
            "Test loss: 5692.60498046875\n",
            "Test accuracy: 0.9175999760627747\n"
          ],
          "name": "stdout"
        }
      ]
    },
    {
      "cell_type": "markdown",
      "metadata": {
        "id": "xGBoioDem8v-",
        "colab_type": "text"
      },
      "source": [
        "Plot Loss and accuracy curve"
      ]
    },
    {
      "cell_type": "code",
      "metadata": {
        "id": "LbOoN5Y3m_3n",
        "colab_type": "code",
        "colab": {
          "base_uri": "https://localhost:8080/",
          "height": 295
        },
        "outputId": "648e0df5-b1e3-4aef-c279-d1ba3b09eee2"
      },
      "source": [
        "plt.plot(history.history['accuracy'])\n",
        "plt.plot(history.history['val_accuracy'])\n",
        "plt.title('model accuracy')\n",
        "plt.ylabel('accuracy')\n",
        "plt.xlabel('epoch')\n",
        "plt.legend(['train', 'test'], loc='upper left')\n",
        "plt.show()"
      ],
      "execution_count": 23,
      "outputs": [
        {
          "output_type": "display_data",
          "data": {
            "image/png": "[encoded data removed]",
            "text/plain": [
              "<Figure size 432x288 with 1 Axes>"
            ]
          },
          "metadata": {
            "tags": [],
            "needs_background": "light"
          }
        }
      ]
    },
    {
      "cell_type": "code",
      "metadata": {
        "id": "KhdgYGebnBtK",
        "colab_type": "code",
        "colab": {
          "base_uri": "https://localhost:8080/",
          "height": 295
        },
        "outputId": "714659c4-cc3d-41b2-810a-eb5a4406cee5"
      },
      "source": [
        "plt.plot(history.history['loss'])\n",
        "plt.plot(history.history['val_loss'])\n",
        "plt.title('model loss')\n",
        "plt.ylabel('loss')\n",
        "plt.xlabel('epoch')\n",
        "plt.legend(['train', 'test'], loc='upper left')\n",
        "plt.show()"
      ],
      "execution_count": 24,
      "outputs": [
        {
          "output_type": "display_data",
          "data": {
            "image/png": "[encoded data removed]",
            "text/plain": [
              "<Figure size 432x288 with 1 Axes>"
            ]
          },
          "metadata": {
            "tags": [],
            "needs_background": "light"
          }
        }
      ]
    },
    {
      "cell_type": "markdown",
      "metadata": {
        "id": "5p4VjOdonHlH",
        "colab_type": "text"
      },
      "source": [
        "Save the Model"
      ]
    },
    {
      "cell_type": "code",
      "metadata": {
        "id": "kTpljwkynLSZ",
        "colab_type": "code",
        "colab": {}
      },
      "source": [
        "model.save(\"mnist.h5\")"
      ],
      "execution_count": 25,
      "outputs": []
    },
    {
      "cell_type": "markdown",
      "metadata": {
        "id": "BaXYydNMnSCT",
        "colab_type": "text"
      },
      "source": [
        "Load the data"
      ]
    },
    {
      "cell_type": "code",
      "metadata": {
        "id": "YD8PqoLVnUVo",
        "colab_type": "code",
        "colab": {
          "base_uri": "https://localhost:8080/",
          "height": 318
        },
        "outputId": "d104c8a8-bf98-4250-b274-56dbaff602c8"
      },
      "source": [
        "model.load_weights(\"mnist.h5\")\n",
        "loaded_model = tf.keras.models.load_model(\"mnist.h5\")\n",
        "\n",
        "loaded_model.summary()"
      ],
      "execution_count": 27,
      "outputs": [
        {
          "output_type": "stream",
          "text": [
            "Model: \"sequential_1\"\n",
            "_________________________________________________________________\n",
            "Layer (type)                 Output Shape              Param #   \n",
            "=================================================================\n",
            "flatten_1 (Flatten)          (None, 784)               0         \n",
            "_________________________________________________________________\n",
            "dense_4 (Dense)              (None, 256)               200960    \n",
            "_________________________________________________________________\n",
            "dense_5 (Dense)              (None, 128)               32896     \n",
            "_________________________________________________________________\n",
            "dense_6 (Dense)              (None, 64)                8256      \n",
            "_________________________________________________________________\n",
            "dense_7 (Dense)              (None, 10)                650       \n",
            "=================================================================\n",
            "Total params: 242,762\n",
            "Trainable params: 242,762\n",
            "Non-trainable params: 0\n",
            "_________________________________________________________________\n"
          ],
          "name": "stdout"
        }
      ]
    },
    {
      "cell_type": "markdown",
      "metadata": {
        "id": "dsEcNGkLqz7y",
        "colab_type": "text"
      },
      "source": [
        "Prediction"
      ]
    },
    {
      "cell_type": "code",
      "metadata": {
        "id": "h7yPrG3LpC58",
        "colab_type": "code",
        "colab": {
          "base_uri": "https://localhost:8080/",
          "height": 33
        },
        "outputId": "a6b5c59a-c01c-4071-9a16-103d074bc6ce"
      },
      "source": [
        "xte.shape\n"
      ],
      "execution_count": 33,
      "outputs": [
        {
          "output_type": "execute_result",
          "data": {
            "text/plain": [
              "(10000, 28, 28)"
            ]
          },
          "metadata": {
            "tags": []
          },
          "execution_count": 33
        }
      ]
    },
    {
      "cell_type": "code",
      "metadata": {
        "id": "F-DTiy99peV7",
        "colab_type": "code",
        "colab": {
          "base_uri": "https://localhost:8080/",
          "height": 282
        },
        "outputId": "69cc9c08-d351-49e5-e063-400182e61cec"
      },
      "source": [
        "plt.imshow(xte[199], cmap='gray')"
      ],
      "execution_count": 34,
      "outputs": [
        {
          "output_type": "execute_result",
          "data": {
            "text/plain": [
              "<matplotlib.image.AxesImage at 0x7fcc82dbbe80>"
            ]
          },
          "metadata": {
            "tags": []
          },
          "execution_count": 34
        },
        {
          "output_type": "display_data",
          "data": {
            "image/png": "[encoded data removed]",
            "text/plain": [
              "<Figure size 432x288 with 1 Axes>"
            ]
          },
          "metadata": {
            "tags": [],
            "needs_background": "light"
          }
        }
      ]
    },
    {
      "cell_type": "code",
      "metadata": {
        "id": "7o10Le_SpiS4",
        "colab_type": "code",
        "colab": {
          "base_uri": "https://localhost:8080/",
          "height": 282
        },
        "outputId": "8b25faf4-8606-4767-b914-4e4f61a4f5b8"
      },
      "source": [
        "plt.imshow(xte[832])"
      ],
      "execution_count": 35,
      "outputs": [
        {
          "output_type": "execute_result",
          "data": {
            "text/plain": [
              "<matplotlib.image.AxesImage at 0x7fcc848e8630>"
            ]
          },
          "metadata": {
            "tags": []
          },
          "execution_count": 35
        },
        {
          "output_type": "display_data",
          "data": {
            "image/png": "[encoded data removed]",
            "text/plain": [
              "<Figure size 432x288 with 1 Axes>"
            ]
          },
          "metadata": {
            "tags": [],
            "needs_background": "light"
          }
        }
      ]
    },
    {
      "cell_type": "code",
      "metadata": {
        "id": "4KGGddORppy2",
        "colab_type": "code",
        "colab": {
          "base_uri": "https://localhost:8080/",
          "height": 50
        },
        "outputId": "648dc9f8-dfe6-4fd7-9347-3e0910bb416f"
      },
      "source": [
        "print(\"Predicted sign: \"+ str( \n",
        "        loaded_model.predict(xte[832].reshape(1, 28, 28, 1))))\n",
        "\n",
        "print('---------------------------------------------------------------------------')"
      ],
      "execution_count": 36,
      "outputs": [
        {
          "output_type": "stream",
          "text": [
            "Predicted sign: [[0. 0. 0. 0. 0. 0. 0. 1. 0. 0.]]\n",
            "---------------------------------------------------------------------------\n"
          ],
          "name": "stdout"
        }
      ]
    },
    {
      "cell_type": "code",
      "metadata": {
        "id": "1pG9pSdoptvN",
        "colab_type": "code",
        "colab": {
          "base_uri": "https://localhost:8080/",
          "height": 34
        },
        "outputId": "aea25cbf-caa1-4f38-ad62-ac3d82ddede0"
      },
      "source": [
        "print(\"Predicted Sign\" + str(loaded_model.predict_classes(xte[832].reshape(1, 28, 28, 1))))"
      ],
      "execution_count": 43,
      "outputs": [
        {
          "output_type": "stream",
          "text": [
            "Predicted Sign[7]\n"
          ],
          "name": "stdout"
        }
      ]
    }
  ]
}