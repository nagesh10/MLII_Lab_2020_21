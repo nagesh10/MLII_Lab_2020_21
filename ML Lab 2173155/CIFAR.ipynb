{
  "nbformat": 4,
  "nbformat_minor": 0,
  "metadata": {
    "colab": {
      "name": "CIFAR.ipynb",
      "provenance": [],
      "collapsed_sections": []
    },
    "kernelspec": {
      "name": "python3",
      "display_name": "Python 3"
    }
  },
  "cells": [
    {
      "cell_type": "markdown",
      "metadata": {
        "id": "zQF7PjutnjzK",
        "colab_type": "text"
      },
      "source": [
        "**Assignment Lab 2**\n",
        "\n",
        "\n",
        "**CIFAR IMAGE CLASSIFICATION using CNN**\n",
        "\n",
        "*   List item\n",
        "*   List item\n",
        "\n"
      ]
    },
    {
      "cell_type": "code",
      "metadata": {
        "id": "RHc9f88Vm4tv",
        "colab_type": "code",
        "colab": {}
      },
      "source": [
        "from __future__ import print_function\n",
        "import numpy as np\n",
        "import matplotlib.pyplot as plt\n",
        "%matplotlib inline\n",
        "import keras\n",
        "from keras.models import Sequential\n",
        "from keras.layers import Dense, Conv2D, MaxPooling2D, Dropout, Flatten\n",
        "from tensorflow.keras.datasets import mnist\n",
        "\n",
        "from tensorflow import keras\n",
        "import tensorflow.compat.v2 as tf\n",
        "from sklearn.model_selection import train_test_split\n",
        "from tensorflow.keras.utils import to_categorical as tcg\n"
      ],
      "execution_count": 39,
      "outputs": []
    },
    {
      "cell_type": "markdown",
      "metadata": {
        "id": "xRksRhvanvGx",
        "colab_type": "text"
      },
      "source": [
        "**Import Data**\n",
        "\n",
        "I use CIFAR dataset which comes with keras. It has 50,000 training images and 10000 test images. And there are 10 classes like airplane, bird, dog, cat, frog, horse, ship and truck."
      ]
    },
    {
      "cell_type": "code",
      "metadata": {
        "id": "KfyrXmxznIoe",
        "colab_type": "code",
        "colab": {
          "base_uri": "https://localhost:8080/",
          "height": 50
        },
        "outputId": "0c48c439-fe6a-493c-c3f1-f237ab1c16f6"
      },
      "source": [
        "from keras.datasets import cifar10\n",
        "(train_images, train_labels),(test_images, test_labels) = cifar10.load_data()"
      ],
      "execution_count": 3,
      "outputs": [
        {
          "output_type": "stream",
          "text": [
            "Downloading data from https://www.cs.toronto.edu/~kriz/cifar-10-python.tar.gz\n",
            "170500096/170498071 [==============================] - 6s 0us/step\n"
          ],
          "name": "stdout"
        }
      ]
    },
    {
      "cell_type": "markdown",
      "metadata": {
        "id": "o3Mlrzk9pMR9",
        "colab_type": "text"
      },
      "source": [
        "Explore the data"
      ]
    },
    {
      "cell_type": "code",
      "metadata": {
        "id": "V0330LtxnRYt",
        "colab_type": "code",
        "colab": {
          "base_uri": "https://localhost:8080/",
          "height": 50
        },
        "outputId": "270001ee-c007-40a0-8f83-071bbc2777ac"
      },
      "source": [
        "from keras.utils import to_categorical\n",
        "print('Training data shape : ', train_images.shape, train_labels.shape)\n",
        "print('Testing data shape : ', test_images.shape, test_labels.shape)\n"
      ],
      "execution_count": 4,
      "outputs": [
        {
          "output_type": "stream",
          "text": [
            "Training data shape :  (50000, 32, 32, 3) (50000, 1)\n",
            "Testing data shape :  (10000, 32, 32, 3) (10000, 1)\n"
          ],
          "name": "stdout"
        }
      ]
    },
    {
      "cell_type": "code",
      "metadata": {
        "id": "asdzNg9znd-c",
        "colab_type": "code",
        "colab": {
          "base_uri": "https://localhost:8080/",
          "height": 215
        },
        "outputId": "80968387-279b-4127-8042-ce7d7fd4def3"
      },
      "source": [
        "#Find the unique numbers from the train labels\n",
        "classes = np.unique(train_labels)\n",
        "nClasses = len(classes)\n",
        "print('Total number of outputs : ', nClasses)\n",
        "print('Output classes : ', classes)\n",
        "\n",
        "plt.figure(figsize=[4,2])\n",
        "#Display the first image in training data\n",
        "plt.subplot(121)\n",
        "plt.imshow(train_images[0,:,:], cmap='gray')\n",
        "plt.title(\"Ground Truth : {}\".format(train_labels[0]))\n",
        "\n",
        "#Display the first image in test data\n",
        "plt.subplot(122)\n",
        "plt.imshow(test_images[0,:,:],cmap='gray')\n",
        "plt.title(\"Ground Truth : {}\".format(test_labels[0]))\n"
      ],
      "execution_count": 5,
      "outputs": [
        {
          "output_type": "stream",
          "text": [
            "Total number of outputs :  10\n",
            "Output classes :  [0 1 2 3 4 5 6 7 8 9]\n"
          ],
          "name": "stdout"
        },
        {
          "output_type": "execute_result",
          "data": {
            "text/plain": [
              "Text(0.5, 1.0, 'Ground Truth : [3]')"
            ]
          },
          "metadata": {
            "tags": []
          },
          "execution_count": 5
        },
        {
          "output_type": "display_data",
          "data": {
            "image/png": "[encoded data removed]",
            "text/plain": [
              "<Figure size 288x144 with 2 Axes>"
            ]
          },
          "metadata": {
            "tags": [],
            "needs_background": "light"
          }
        }
      ]
    },
    {
      "cell_type": "markdown",
      "metadata": {
        "id": "sS1y9ihappWb",
        "colab_type": "text"
      },
      "source": [
        "Preprocess the Data\n",
        "\n",
        "perform nornalization on data and convert the labels to categorical variables to be used in keras.\n",
        "here find the shape of input images and create the variable input shape"
      ]
    },
    {
      "cell_type": "code",
      "metadata": {
        "id": "TtLlOfn4pQpL",
        "colab_type": "code",
        "colab": {
          "base_uri": "https://localhost:8080/",
          "height": 50
        },
        "outputId": "10dca03a-cda2-4297-84e8-75f03b837746"
      },
      "source": [
        "nRows, nCols, nDims = train_images.shape[1:]\n",
        "train_data = train_images.reshape(train_images.shape[0], nRows, nCols, nDims)\n",
        "test_data = test_images.reshape(test_images.shape[0],nRows,nCols,nDims)\n",
        "input_shape = (nRows, nRows, nDims)\n",
        "\n",
        "#Change to float data type\n",
        "train_data = train_data.astype('float32')\n",
        "test_data = test_data.astype('float32')\n",
        "\n",
        "# Scale the data to lie between 0 to 1\n",
        "train_data /=255\n",
        "test_data /= 255\n",
        "\n",
        "# Change the labels from integer to categorical data\n",
        "train_labels_one_hot = to_categorical(train_labels)\n",
        "test_labels_one_hot = to_categorical(test_labels)\n",
        "\n",
        "#Display the change in the label\n",
        "print('Original Label 0 :', train_labels[0])\n",
        "print('After conversion to one hot : ', train_labels_one_hot[0])"
      ],
      "execution_count": 6,
      "outputs": [
        {
          "output_type": "stream",
          "text": [
            "Original Label 0 : [6]\n",
            "After conversion to one hot :  [0. 0. 0. 0. 0. 0. 1. 0. 0. 0.]\n"
          ],
          "name": "stdout"
        }
      ]
    },
    {
      "cell_type": "markdown",
      "metadata": {
        "id": "oLRoFp0HJkeO",
        "colab_type": "text"
      },
      "source": [
        "Define the Model \n",
        "\n",
        "Create the model with CONV layer, max pooling layer, droupout layer and dense layer"
      ]
    },
    {
      "cell_type": "code",
      "metadata": {
        "id": "s5B72hN0qytr",
        "colab_type": "code",
        "colab": {}
      },
      "source": [
        "def createModel():\n",
        "    model = Sequential()\n",
        "    # The first 2 layers with 32 filters of window size 3x3\n",
        "    model.add(Conv2D(32,(3,3),padding = 'same', activation='relu', input_shape=input_shape))\n",
        "    model.add(Conv2D(32,(3,3), activation='relu'))\n",
        "    model.add(MaxPooling2D(pool_size=(2,2)))\n",
        "    model.add(Dropout(0.25))\n",
        "    \n",
        "    model.add(Conv2D(64,(3,3),padding = 'same', activation='relu'))\n",
        "    model.add(Conv2D(64,(3,3), activation='relu'))\n",
        "    model.add(MaxPooling2D(pool_size=(2,2)))\n",
        "    model.add(Dropout(0.25))\n",
        "    \n",
        "    model.add(Conv2D(64,(3,3),padding = 'same', activation='relu'))\n",
        "    model.add(Conv2D(64,(3,3), activation='relu'))\n",
        "    model.add(MaxPooling2D(pool_size=(2,2)))\n",
        "    model.add(Dropout(0.25))\n",
        "    \n",
        "    model.add(Flatten())\n",
        "    model.add(Dense(512, activation='relu'))\n",
        "    model.add(Dropout(0.5)) #You can play around with this and check the effect of Dropout\n",
        "    model.add(Dense(nClasses,activation='softmax'))\n",
        "    \n",
        "    return model"
      ],
      "execution_count": 16,
      "outputs": []
    },
    {
      "cell_type": "markdown",
      "metadata": {
        "id": "XuvdK0pHq499",
        "colab_type": "text"
      },
      "source": [
        "Train the Model "
      ]
    },
    {
      "cell_type": "code",
      "metadata": {
        "id": "fzJ16o26q3JG",
        "colab_type": "code",
        "colab": {
          "base_uri": "https://localhost:8080/",
          "height": 1000
        },
        "outputId": "8beb254b-60d1-4a83-c9c8-bf225bcaeee3"
      },
      "source": [
        "\n",
        "model1 = createModel()\n",
        "batch_size = 256\n",
        "epochs = 10\n",
        "model1.compile(optimizer='rmsprop',loss='categorical_crossentropy', metrics=['accuracy'])\n",
        "\n",
        "model1.summary()\n",
        "\n",
        "history = model1.fit(train_data, train_labels_one_hot, batch_size=batch_size, epochs = epochs, verbose = 1, validation_data = (test_data,test_labels_one_hot))\n",
        "model1.evaluate(test_data, test_labels_one_hot)\n"
      ],
      "execution_count": 9,
      "outputs": [
        {
          "output_type": "stream",
          "text": [
            "Model: \"sequential\"\n",
            "_________________________________________________________________\n",
            "Layer (type)                 Output Shape              Param #   \n",
            "=================================================================\n",
            "conv2d (Conv2D)              (None, 32, 32, 32)        896       \n",
            "_________________________________________________________________\n",
            "conv2d_1 (Conv2D)            (None, 30, 30, 32)        9248      \n",
            "_________________________________________________________________\n",
            "max_pooling2d (MaxPooling2D) (None, 15, 15, 32)        0         \n",
            "_________________________________________________________________\n",
            "dropout (Dropout)            (None, 15, 15, 32)        0         \n",
            "_________________________________________________________________\n",
            "conv2d_2 (Conv2D)            (None, 15, 15, 64)        18496     \n",
            "_________________________________________________________________\n",
            "conv2d_3 (Conv2D)            (None, 13, 13, 64)        36928     \n",
            "_________________________________________________________________\n",
            "max_pooling2d_1 (MaxPooling2 (None, 6, 6, 64)          0         \n",
            "_________________________________________________________________\n",
            "dropout_1 (Dropout)          (None, 6, 6, 64)          0         \n",
            "_________________________________________________________________\n",
            "conv2d_4 (Conv2D)            (None, 6, 6, 64)          36928     \n",
            "_________________________________________________________________\n",
            "conv2d_5 (Conv2D)            (None, 4, 4, 64)          36928     \n",
            "_________________________________________________________________\n",
            "max_pooling2d_2 (MaxPooling2 (None, 2, 2, 64)          0         \n",
            "_________________________________________________________________\n",
            "dropout_2 (Dropout)          (None, 2, 2, 64)          0         \n",
            "_________________________________________________________________\n",
            "flatten (Flatten)            (None, 256)               0         \n",
            "_________________________________________________________________\n",
            "dense (Dense)                (None, 512)               131584    \n",
            "_________________________________________________________________\n",
            "dropout_3 (Dropout)          (None, 512)               0         \n",
            "_________________________________________________________________\n",
            "dense_1 (Dense)              (None, 10)                5130      \n",
            "=================================================================\n",
            "Total params: 276,138\n",
            "Trainable params: 276,138\n",
            "Non-trainable params: 0\n",
            "_________________________________________________________________\n",
            "Epoch 1/10\n",
            "196/196 [==============================] - 202s 1s/step - loss: 2.0912 - accuracy: 0.2279 - val_loss: 2.0465 - val_accuracy: 0.2414\n",
            "Epoch 2/10\n",
            "196/196 [==============================] - 201s 1s/step - loss: 1.7104 - accuracy: 0.3744 - val_loss: 1.5822 - val_accuracy: 0.4196\n",
            "Epoch 3/10\n",
            "196/196 [==============================] - 200s 1s/step - loss: 1.5221 - accuracy: 0.4490 - val_loss: 1.3473 - val_accuracy: 0.5057\n",
            "Epoch 4/10\n",
            "196/196 [==============================] - 204s 1s/step - loss: 1.3950 - accuracy: 0.4959 - val_loss: 1.2865 - val_accuracy: 0.5428\n",
            "Epoch 5/10\n",
            "196/196 [==============================] - 203s 1s/step - loss: 1.2855 - accuracy: 0.5417 - val_loss: 1.1826 - val_accuracy: 0.5746\n",
            "Epoch 6/10\n",
            "196/196 [==============================] - 202s 1s/step - loss: 1.2033 - accuracy: 0.5736 - val_loss: 1.1866 - val_accuracy: 0.5795\n",
            "Epoch 7/10\n",
            "196/196 [==============================] - 203s 1s/step - loss: 1.1261 - accuracy: 0.6025 - val_loss: 1.0074 - val_accuracy: 0.6454\n",
            "Epoch 8/10\n",
            "196/196 [==============================] - 202s 1s/step - loss: 1.0562 - accuracy: 0.6286 - val_loss: 0.9660 - val_accuracy: 0.6544\n",
            "Epoch 9/10\n",
            "196/196 [==============================] - 201s 1s/step - loss: 0.9986 - accuracy: 0.6480 - val_loss: 0.9162 - val_accuracy: 0.6764\n",
            "Epoch 10/10\n",
            "196/196 [==============================] - 203s 1s/step - loss: 0.9591 - accuracy: 0.6645 - val_loss: 0.9851 - val_accuracy: 0.6586\n",
            "313/313 [==============================] - 10s 33ms/step - loss: 0.9851 - accuracy: 0.6586\n"
          ],
          "name": "stdout"
        },
        {
          "output_type": "execute_result",
          "data": {
            "text/plain": [
              "[0.985090434551239, 0.6585999727249146]"
            ]
          },
          "metadata": {
            "tags": []
          },
          "execution_count": 9
        }
      ]
    },
    {
      "cell_type": "markdown",
      "metadata": {
        "id": "k6oTCM4GK062",
        "colab_type": "text"
      },
      "source": [
        "Check loss and accuracy curve"
      ]
    },
    {
      "cell_type": "code",
      "metadata": {
        "id": "4LIR0KzqKz8d",
        "colab_type": "code",
        "colab": {
          "base_uri": "https://localhost:8080/",
          "height": 428
        },
        "outputId": "630decfe-dd88-4209-9964-b09eae613b8d"
      },
      "source": [
        "plt.figure(figsize=[8,6])\n",
        "plt.plot(history.history['loss'],'r',linewidth=3.0)\n",
        "plt.plot(history.history['val_loss'],'b',linewidth=3.0)\n",
        "plt.legend(['Training loss', 'Validation Loss'],fontsize=18)\n",
        "plt.xlabel('Epochs ',fontsize=16)\n",
        "plt.ylabel('Loss',fontsize=16)\n",
        "plt.title('Loss Curves',fontsize=16)"
      ],
      "execution_count": 13,
      "outputs": [
        {
          "output_type": "execute_result",
          "data": {
            "text/plain": [
              "Text(0.5, 1.0, 'Loss Curves')"
            ]
          },
          "metadata": {
            "tags": []
          },
          "execution_count": 13
        },
        {
          "output_type": "display_data",
          "data": {
            "image/png": "[encoded data removed]",
            "text/plain": [
              "<Figure size 576x432 with 1 Axes>"
            ]
          },
          "metadata": {
            "tags": [],
            "needs_background": "light"
          }
        }
      ]
    },
    {
      "cell_type": "code",
      "metadata": {
        "id": "3g-6hbManzzn",
        "colab_type": "code",
        "colab": {
          "base_uri": "https://localhost:8080/",
          "height": 428
        },
        "outputId": "82975409-e94c-4a59-c3f1-63a9a667e5bb"
      },
      "source": [
        "plt.figure(figsize=[8,6])\n",
        "#plt.plot(history.history['accuracy'],'r',linewidth=3.0)\n",
        "#plt.plot(history.history['val_acc'],'b',linewidth=3.0)\n",
        "plt.legend(['Training Accuracy', 'Validation Accuracy'])\n",
        "plt.xlabel('Epochs',fontsize=16)\n",
        "plt.ylabel('Accuracy',fontsize=16)\n",
        "plt.title('Accuracy Curves', fontsize=16)"
      ],
      "execution_count": 33,
      "outputs": [
        {
          "output_type": "execute_result",
          "data": {
            "text/plain": [
              "Text(0.5, 1.0, 'Accuracy Curves')"
            ]
          },
          "metadata": {
            "tags": []
          },
          "execution_count": 33
        },
        {
          "output_type": "display_data",
          "data": {
            "image/png": "[encoded data removed]",
            "text/plain": [
              "<Figure size 576x432 with 1 Axes>"
            ]
          },
          "metadata": {
            "tags": [],
            "needs_background": "light"
          }
        }
      ]
    },
    {
      "cell_type": "markdown",
      "metadata": {
        "id": "MbSXA1s1nip1",
        "colab_type": "text"
      },
      "source": [
        "Save the Model"
      ]
    },
    {
      "cell_type": "code",
      "metadata": {
        "id": "BQHL-jaifmrx",
        "colab_type": "code",
        "colab": {}
      },
      "source": [
        "model1.save('cifar.h5')"
      ],
      "execution_count": 26,
      "outputs": []
    },
    {
      "cell_type": "markdown",
      "metadata": {
        "id": "GjgGQH4-oJ_S",
        "colab_type": "text"
      },
      "source": [
        "Load the Model"
      ]
    },
    {
      "cell_type": "code",
      "metadata": {
        "id": "Vwqf0tXPnk29",
        "colab_type": "code",
        "colab": {
          "base_uri": "https://localhost:8080/",
          "height": 686
        },
        "outputId": "be73012d-8fde-4005-9344-3f91ca100d25"
      },
      "source": [
        "from tensorflow.keras.models import load_model\n",
        "model1.load_weights(\"cifar.h5\")\n",
        "loaded_model1 = tf.keras.models.load_model(\"cifar.h5\")\n",
        "\n",
        "loaded_model1.summary()"
      ],
      "execution_count": 47,
      "outputs": [
        {
          "output_type": "stream",
          "text": [
            "Model: \"sequential\"\n",
            "_________________________________________________________________\n",
            "Layer (type)                 Output Shape              Param #   \n",
            "=================================================================\n",
            "conv2d (Conv2D)              (None, 32, 32, 32)        896       \n",
            "_________________________________________________________________\n",
            "conv2d_1 (Conv2D)            (None, 30, 30, 32)        9248      \n",
            "_________________________________________________________________\n",
            "max_pooling2d (MaxPooling2D) (None, 15, 15, 32)        0         \n",
            "_________________________________________________________________\n",
            "dropout (Dropout)            (None, 15, 15, 32)        0         \n",
            "_________________________________________________________________\n",
            "conv2d_2 (Conv2D)            (None, 15, 15, 64)        18496     \n",
            "_________________________________________________________________\n",
            "conv2d_3 (Conv2D)            (None, 13, 13, 64)        36928     \n",
            "_________________________________________________________________\n",
            "max_pooling2d_1 (MaxPooling2 (None, 6, 6, 64)          0         \n",
            "_________________________________________________________________\n",
            "dropout_1 (Dropout)          (None, 6, 6, 64)          0         \n",
            "_________________________________________________________________\n",
            "conv2d_4 (Conv2D)            (None, 6, 6, 64)          36928     \n",
            "_________________________________________________________________\n",
            "conv2d_5 (Conv2D)            (None, 4, 4, 64)          36928     \n",
            "_________________________________________________________________\n",
            "max_pooling2d_2 (MaxPooling2 (None, 2, 2, 64)          0         \n",
            "_________________________________________________________________\n",
            "dropout_2 (Dropout)          (None, 2, 2, 64)          0         \n",
            "_________________________________________________________________\n",
            "flatten (Flatten)            (None, 256)               0         \n",
            "_________________________________________________________________\n",
            "dense (Dense)                (None, 512)               131584    \n",
            "_________________________________________________________________\n",
            "dropout_3 (Dropout)          (None, 512)               0         \n",
            "_________________________________________________________________\n",
            "dense_1 (Dense)              (None, 10)                5130      \n",
            "=================================================================\n",
            "Total params: 276,138\n",
            "Trainable params: 276,138\n",
            "Non-trainable params: 0\n",
            "_________________________________________________________________\n"
          ],
          "name": "stdout"
        }
      ]
    },
    {
      "cell_type": "markdown",
      "metadata": {
        "id": "5X0ivQ1ertrt",
        "colab_type": "text"
      },
      "source": [
        ""
      ]
    }
  ]
}