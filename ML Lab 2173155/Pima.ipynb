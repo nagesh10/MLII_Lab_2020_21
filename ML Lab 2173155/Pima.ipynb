{
  "nbformat": 4,
  "nbformat_minor": 0,
  "metadata": {
    "colab": {
      "name": "Pima.ipynb",
      "provenance": [],
      "collapsed_sections": []
    },
    "kernelspec": {
      "name": "python3",
      "display_name": "Python 3"
    }
  },
  "cells": [
    {
      "cell_type": "markdown",
      "metadata": {
        "id": "y3zTN_SVuXqW",
        "colab_type": "text"
      },
      "source": [
        "**Assignment Lab 1**\n",
        "\n",
        "Neural Networks Using Pima Dataset\n"
      ]
    },
    {
      "cell_type": "code",
      "metadata": {
        "id": "ab_MxUTUuDXK",
        "colab_type": "code",
        "colab": {
          "base_uri": "https://localhost:8080/",
          "height": 70
        },
        "outputId": "1e13a442-8ae7-4e48-c896-2f0bc5a6952d"
      },
      "source": [
        "from keras.models import Sequential\n",
        "from keras.layers import Dense\n",
        "from keras.utils.vis_utils import plot_model\n",
        "from sklearn.model_selection import train_test_split\n",
        "from sklearn.metrics import confusion_matrix,classification_report\n",
        "import pandas as pd\n",
        "import numpy as np\n",
        "import matplotlib.pyplot as plt\n",
        "from matplotlib import style\n",
        "style.use(\"fivethirtyeight\")\n",
        "import numpy as np\n",
        "import seaborn as sns\n",
        "import pydot"
      ],
      "execution_count": 1,
      "outputs": [
        {
          "output_type": "stream",
          "text": [
            "/usr/local/lib/python3.6/dist-packages/statsmodels/tools/_testing.py:19: FutureWarning: pandas.util.testing is deprecated. Use the functions in the public API at pandas.testing instead.\n",
            "  import pandas.util.testing as tm\n"
          ],
          "name": "stderr"
        }
      ]
    },
    {
      "cell_type": "markdown",
      "metadata": {
        "id": "TTNMkOo8uzBN",
        "colab_type": "text"
      },
      "source": [
        "Load the Dataset"
      ]
    },
    {
      "cell_type": "code",
      "metadata": {
        "id": "ClH18za5u2hR",
        "colab_type": "code",
        "colab": {
          "base_uri": "https://localhost:8080/",
          "height": 196
        },
        "outputId": "71a819b0-7c8e-4daa-8b86-54c46aade7be"
      },
      "source": [
        "dataset = pd.read_csv('/content/pima-indians-diabetes.csv')\n",
        "dataset.head()\n",
        "\n"
      ],
      "execution_count": 2,
      "outputs": [
        {
          "output_type": "execute_result",
          "data": {
            "text/html": [
              "<div>\n",
              "<style scoped>\n",
              "    .dataframe tbody tr th:only-of-type {\n",
              "        vertical-align: middle;\n",
              "    }\n",
              "\n",
              "    .dataframe tbody tr th {\n",
              "        vertical-align: top;\n",
              "    }\n",
              "\n",
              "    .dataframe thead th {\n",
              "        text-align: right;\n",
              "    }\n",
              "</style>\n",
              "<table border=\"1\" class=\"dataframe\">\n",
              "  <thead>\n",
              "    <tr style=\"text-align: right;\">\n",
              "      <th></th>\n",
              "      <th>6</th>\n",
              "      <th>148</th>\n",
              "      <th>72</th>\n",
              "      <th>35</th>\n",
              "      <th>0</th>\n",
              "      <th>33.6</th>\n",
              "      <th>0.627</th>\n",
              "      <th>50</th>\n",
              "      <th>1</th>\n",
              "    </tr>\n",
              "  </thead>\n",
              "  <tbody>\n",
              "    <tr>\n",
              "      <th>0</th>\n",
              "      <td>1</td>\n",
              "      <td>85</td>\n",
              "      <td>66</td>\n",
              "      <td>29</td>\n",
              "      <td>0</td>\n",
              "      <td>26.6</td>\n",
              "      <td>0.351</td>\n",
              "      <td>31</td>\n",
              "      <td>0</td>\n",
              "    </tr>\n",
              "    <tr>\n",
              "      <th>1</th>\n",
              "      <td>8</td>\n",
              "      <td>183</td>\n",
              "      <td>64</td>\n",
              "      <td>0</td>\n",
              "      <td>0</td>\n",
              "      <td>23.3</td>\n",
              "      <td>0.672</td>\n",
              "      <td>32</td>\n",
              "      <td>1</td>\n",
              "    </tr>\n",
              "    <tr>\n",
              "      <th>2</th>\n",
              "      <td>1</td>\n",
              "      <td>89</td>\n",
              "      <td>66</td>\n",
              "      <td>23</td>\n",
              "      <td>94</td>\n",
              "      <td>28.1</td>\n",
              "      <td>0.167</td>\n",
              "      <td>21</td>\n",
              "      <td>0</td>\n",
              "    </tr>\n",
              "    <tr>\n",
              "      <th>3</th>\n",
              "      <td>0</td>\n",
              "      <td>137</td>\n",
              "      <td>40</td>\n",
              "      <td>35</td>\n",
              "      <td>168</td>\n",
              "      <td>43.1</td>\n",
              "      <td>2.288</td>\n",
              "      <td>33</td>\n",
              "      <td>1</td>\n",
              "    </tr>\n",
              "    <tr>\n",
              "      <th>4</th>\n",
              "      <td>5</td>\n",
              "      <td>116</td>\n",
              "      <td>74</td>\n",
              "      <td>0</td>\n",
              "      <td>0</td>\n",
              "      <td>25.6</td>\n",
              "      <td>0.201</td>\n",
              "      <td>30</td>\n",
              "      <td>0</td>\n",
              "    </tr>\n",
              "  </tbody>\n",
              "</table>\n",
              "</div>"
            ],
            "text/plain": [
              "   6  148  72  35    0  33.6  0.627  50  1\n",
              "0  1   85  66  29    0  26.6  0.351  31  0\n",
              "1  8  183  64   0    0  23.3  0.672  32  1\n",
              "2  1   89  66  23   94  28.1  0.167  21  0\n",
              "3  0  137  40  35  168  43.1  2.288  33  1\n",
              "4  5  116  74   0    0  25.6  0.201  30  0"
            ]
          },
          "metadata": {
            "tags": []
          },
          "execution_count": 2
        }
      ]
    },
    {
      "cell_type": "markdown",
      "metadata": {
        "id": "VUzwVYVIvFBt",
        "colab_type": "text"
      },
      "source": [
        "Explore the data"
      ]
    },
    {
      "cell_type": "code",
      "metadata": {
        "id": "Lxs__wM-vGpR",
        "colab_type": "code",
        "colab": {
          "base_uri": "https://localhost:8080/",
          "height": 316
        },
        "outputId": "5153efb5-fb0c-4316-d75c-702aa6eab098"
      },
      "source": [
        "dataset.describe().transpose()"
      ],
      "execution_count": 3,
      "outputs": [
        {
          "output_type": "execute_result",
          "data": {
            "text/html": [
              "<div>\n",
              "<style scoped>\n",
              "    .dataframe tbody tr th:only-of-type {\n",
              "        vertical-align: middle;\n",
              "    }\n",
              "\n",
              "    .dataframe tbody tr th {\n",
              "        vertical-align: top;\n",
              "    }\n",
              "\n",
              "    .dataframe thead th {\n",
              "        text-align: right;\n",
              "    }\n",
              "</style>\n",
              "<table border=\"1\" class=\"dataframe\">\n",
              "  <thead>\n",
              "    <tr style=\"text-align: right;\">\n",
              "      <th></th>\n",
              "      <th>count</th>\n",
              "      <th>mean</th>\n",
              "      <th>std</th>\n",
              "      <th>min</th>\n",
              "      <th>25%</th>\n",
              "      <th>50%</th>\n",
              "      <th>75%</th>\n",
              "      <th>max</th>\n",
              "    </tr>\n",
              "  </thead>\n",
              "  <tbody>\n",
              "    <tr>\n",
              "      <th>6</th>\n",
              "      <td>767.0</td>\n",
              "      <td>3.842243</td>\n",
              "      <td>3.370877</td>\n",
              "      <td>0.000</td>\n",
              "      <td>1.0000</td>\n",
              "      <td>3.000</td>\n",
              "      <td>6.000</td>\n",
              "      <td>17.00</td>\n",
              "    </tr>\n",
              "    <tr>\n",
              "      <th>148</th>\n",
              "      <td>767.0</td>\n",
              "      <td>120.859192</td>\n",
              "      <td>31.978468</td>\n",
              "      <td>0.000</td>\n",
              "      <td>99.0000</td>\n",
              "      <td>117.000</td>\n",
              "      <td>140.000</td>\n",
              "      <td>199.00</td>\n",
              "    </tr>\n",
              "    <tr>\n",
              "      <th>72</th>\n",
              "      <td>767.0</td>\n",
              "      <td>69.101695</td>\n",
              "      <td>19.368155</td>\n",
              "      <td>0.000</td>\n",
              "      <td>62.0000</td>\n",
              "      <td>72.000</td>\n",
              "      <td>80.000</td>\n",
              "      <td>122.00</td>\n",
              "    </tr>\n",
              "    <tr>\n",
              "      <th>35</th>\n",
              "      <td>767.0</td>\n",
              "      <td>20.517601</td>\n",
              "      <td>15.954059</td>\n",
              "      <td>0.000</td>\n",
              "      <td>0.0000</td>\n",
              "      <td>23.000</td>\n",
              "      <td>32.000</td>\n",
              "      <td>99.00</td>\n",
              "    </tr>\n",
              "    <tr>\n",
              "      <th>0</th>\n",
              "      <td>767.0</td>\n",
              "      <td>79.903520</td>\n",
              "      <td>115.283105</td>\n",
              "      <td>0.000</td>\n",
              "      <td>0.0000</td>\n",
              "      <td>32.000</td>\n",
              "      <td>127.500</td>\n",
              "      <td>846.00</td>\n",
              "    </tr>\n",
              "    <tr>\n",
              "      <th>33.6</th>\n",
              "      <td>767.0</td>\n",
              "      <td>31.990482</td>\n",
              "      <td>7.889091</td>\n",
              "      <td>0.000</td>\n",
              "      <td>27.3000</td>\n",
              "      <td>32.000</td>\n",
              "      <td>36.600</td>\n",
              "      <td>67.10</td>\n",
              "    </tr>\n",
              "    <tr>\n",
              "      <th>0.627</th>\n",
              "      <td>767.0</td>\n",
              "      <td>0.471674</td>\n",
              "      <td>0.331497</td>\n",
              "      <td>0.078</td>\n",
              "      <td>0.2435</td>\n",
              "      <td>0.371</td>\n",
              "      <td>0.625</td>\n",
              "      <td>2.42</td>\n",
              "    </tr>\n",
              "    <tr>\n",
              "      <th>50</th>\n",
              "      <td>767.0</td>\n",
              "      <td>33.219035</td>\n",
              "      <td>11.752296</td>\n",
              "      <td>21.000</td>\n",
              "      <td>24.0000</td>\n",
              "      <td>29.000</td>\n",
              "      <td>41.000</td>\n",
              "      <td>81.00</td>\n",
              "    </tr>\n",
              "    <tr>\n",
              "      <th>1</th>\n",
              "      <td>767.0</td>\n",
              "      <td>0.348110</td>\n",
              "      <td>0.476682</td>\n",
              "      <td>0.000</td>\n",
              "      <td>0.0000</td>\n",
              "      <td>0.000</td>\n",
              "      <td>1.000</td>\n",
              "      <td>1.00</td>\n",
              "    </tr>\n",
              "  </tbody>\n",
              "</table>\n",
              "</div>"
            ],
            "text/plain": [
              "       count        mean         std     min      25%      50%      75%     max\n",
              "6      767.0    3.842243    3.370877   0.000   1.0000    3.000    6.000   17.00\n",
              "148    767.0  120.859192   31.978468   0.000  99.0000  117.000  140.000  199.00\n",
              "72     767.0   69.101695   19.368155   0.000  62.0000   72.000   80.000  122.00\n",
              "35     767.0   20.517601   15.954059   0.000   0.0000   23.000   32.000   99.00\n",
              "0      767.0   79.903520  115.283105   0.000   0.0000   32.000  127.500  846.00\n",
              "33.6   767.0   31.990482    7.889091   0.000  27.3000   32.000   36.600   67.10\n",
              "0.627  767.0    0.471674    0.331497   0.078   0.2435    0.371    0.625    2.42\n",
              "50     767.0   33.219035   11.752296  21.000  24.0000   29.000   41.000   81.00\n",
              "1      767.0    0.348110    0.476682   0.000   0.0000    0.000    1.000    1.00"
            ]
          },
          "metadata": {
            "tags": []
          },
          "execution_count": 3
        }
      ]
    },
    {
      "cell_type": "code",
      "metadata": {
        "id": "vxEKZPJYvMCK",
        "colab_type": "code",
        "colab": {
          "base_uri": "https://localhost:8080/",
          "height": 283
        },
        "outputId": "99f9b7ee-daf6-40b7-f9e7-789cd6aadab8"
      },
      "source": [
        "sns.heatmap(dataset.corr())"
      ],
      "execution_count": 4,
      "outputs": [
        {
          "output_type": "execute_result",
          "data": {
            "text/plain": [
              "<matplotlib.axes._subplots.AxesSubplot at 0x7f9617098278>"
            ]
          },
          "metadata": {
            "tags": []
          },
          "execution_count": 4
        },
        {
          "output_type": "display_data",
          "data": {
            "image/png": "[encoded data removed]",
            "text/plain": [
              "<Figure size 432x288 with 2 Axes>"
            ]
          },
          "metadata": {
            "tags": [],
            "needs_background": "light"
          }
        }
      ]
    },
    {
      "cell_type": "code",
      "metadata": {
        "id": "sMAg1TyGvN8Z",
        "colab_type": "code",
        "colab": {
          "base_uri": "https://localhost:8080/",
          "height": 336
        },
        "outputId": "e9d4d9b9-76ce-4528-f99e-00be9876f4b0"
      },
      "source": [
        "dataset.corr()"
      ],
      "execution_count": 5,
      "outputs": [
        {
          "output_type": "execute_result",
          "data": {
            "text/html": [
              "<div>\n",
              "<style scoped>\n",
              "    .dataframe tbody tr th:only-of-type {\n",
              "        vertical-align: middle;\n",
              "    }\n",
              "\n",
              "    .dataframe tbody tr th {\n",
              "        vertical-align: top;\n",
              "    }\n",
              "\n",
              "    .dataframe thead th {\n",
              "        text-align: right;\n",
              "    }\n",
              "</style>\n",
              "<table border=\"1\" class=\"dataframe\">\n",
              "  <thead>\n",
              "    <tr style=\"text-align: right;\">\n",
              "      <th></th>\n",
              "      <th>6</th>\n",
              "      <th>148</th>\n",
              "      <th>72</th>\n",
              "      <th>35</th>\n",
              "      <th>0</th>\n",
              "      <th>33.6</th>\n",
              "      <th>0.627</th>\n",
              "      <th>50</th>\n",
              "      <th>1</th>\n",
              "    </tr>\n",
              "  </thead>\n",
              "  <tbody>\n",
              "    <tr>\n",
              "      <th>6</th>\n",
              "      <td>1.000000</td>\n",
              "      <td>0.128846</td>\n",
              "      <td>0.141197</td>\n",
              "      <td>-0.082495</td>\n",
              "      <td>-0.072999</td>\n",
              "      <td>0.017518</td>\n",
              "      <td>-0.033927</td>\n",
              "      <td>0.544018</td>\n",
              "      <td>0.221087</td>\n",
              "    </tr>\n",
              "    <tr>\n",
              "      <th>148</th>\n",
              "      <td>0.128846</td>\n",
              "      <td>1.000000</td>\n",
              "      <td>0.152498</td>\n",
              "      <td>0.056381</td>\n",
              "      <td>0.332383</td>\n",
              "      <td>0.220955</td>\n",
              "      <td>0.136903</td>\n",
              "      <td>0.262408</td>\n",
              "      <td>0.465856</td>\n",
              "    </tr>\n",
              "    <tr>\n",
              "      <th>72</th>\n",
              "      <td>0.141197</td>\n",
              "      <td>0.152498</td>\n",
              "      <td>1.000000</td>\n",
              "      <td>0.207308</td>\n",
              "      <td>0.089098</td>\n",
              "      <td>0.281777</td>\n",
              "      <td>0.041180</td>\n",
              "      <td>0.239571</td>\n",
              "      <td>0.064882</td>\n",
              "    </tr>\n",
              "    <tr>\n",
              "      <th>35</th>\n",
              "      <td>-0.082495</td>\n",
              "      <td>0.056381</td>\n",
              "      <td>0.207308</td>\n",
              "      <td>1.000000</td>\n",
              "      <td>0.437974</td>\n",
              "      <td>0.392553</td>\n",
              "      <td>0.183498</td>\n",
              "      <td>-0.115873</td>\n",
              "      <td>0.073265</td>\n",
              "    </tr>\n",
              "    <tr>\n",
              "      <th>0</th>\n",
              "      <td>-0.072999</td>\n",
              "      <td>0.332383</td>\n",
              "      <td>0.089098</td>\n",
              "      <td>0.437974</td>\n",
              "      <td>1.000000</td>\n",
              "      <td>0.198111</td>\n",
              "      <td>0.185579</td>\n",
              "      <td>-0.040942</td>\n",
              "      <td>0.131984</td>\n",
              "    </tr>\n",
              "    <tr>\n",
              "      <th>33.6</th>\n",
              "      <td>0.017518</td>\n",
              "      <td>0.220955</td>\n",
              "      <td>0.281777</td>\n",
              "      <td>0.392553</td>\n",
              "      <td>0.198111</td>\n",
              "      <td>1.000000</td>\n",
              "      <td>0.140546</td>\n",
              "      <td>0.035911</td>\n",
              "      <td>0.292695</td>\n",
              "    </tr>\n",
              "    <tr>\n",
              "      <th>0.627</th>\n",
              "      <td>-0.033927</td>\n",
              "      <td>0.136903</td>\n",
              "      <td>0.041180</td>\n",
              "      <td>0.183498</td>\n",
              "      <td>0.185579</td>\n",
              "      <td>0.140546</td>\n",
              "      <td>1.000000</td>\n",
              "      <td>0.032738</td>\n",
              "      <td>0.173245</td>\n",
              "    </tr>\n",
              "    <tr>\n",
              "      <th>50</th>\n",
              "      <td>0.544018</td>\n",
              "      <td>0.262408</td>\n",
              "      <td>0.239571</td>\n",
              "      <td>-0.115873</td>\n",
              "      <td>-0.040942</td>\n",
              "      <td>0.035911</td>\n",
              "      <td>0.032738</td>\n",
              "      <td>1.000000</td>\n",
              "      <td>0.236417</td>\n",
              "    </tr>\n",
              "    <tr>\n",
              "      <th>1</th>\n",
              "      <td>0.221087</td>\n",
              "      <td>0.465856</td>\n",
              "      <td>0.064882</td>\n",
              "      <td>0.073265</td>\n",
              "      <td>0.131984</td>\n",
              "      <td>0.292695</td>\n",
              "      <td>0.173245</td>\n",
              "      <td>0.236417</td>\n",
              "      <td>1.000000</td>\n",
              "    </tr>\n",
              "  </tbody>\n",
              "</table>\n",
              "</div>"
            ],
            "text/plain": [
              "              6       148        72  ...     0.627        50         1\n",
              "6      1.000000  0.128846  0.141197  ... -0.033927  0.544018  0.221087\n",
              "148    0.128846  1.000000  0.152498  ...  0.136903  0.262408  0.465856\n",
              "72     0.141197  0.152498  1.000000  ...  0.041180  0.239571  0.064882\n",
              "35    -0.082495  0.056381  0.207308  ...  0.183498 -0.115873  0.073265\n",
              "0     -0.072999  0.332383  0.089098  ...  0.185579 -0.040942  0.131984\n",
              "33.6   0.017518  0.220955  0.281777  ...  0.140546  0.035911  0.292695\n",
              "0.627 -0.033927  0.136903  0.041180  ...  1.000000  0.032738  0.173245\n",
              "50     0.544018  0.262408  0.239571  ...  0.032738  1.000000  0.236417\n",
              "1      0.221087  0.465856  0.064882  ...  0.173245  0.236417  1.000000\n",
              "\n",
              "[9 rows x 9 columns]"
            ]
          },
          "metadata": {
            "tags": []
          },
          "execution_count": 5
        }
      ]
    },
    {
      "cell_type": "markdown",
      "metadata": {
        "id": "Iy840iSPvRi8",
        "colab_type": "text"
      },
      "source": [
        "Training and Testing the data"
      ]
    },
    {
      "cell_type": "code",
      "metadata": {
        "id": "_b0HI2mQvVHv",
        "colab_type": "code",
        "colab": {}
      },
      "source": [
        "#separating the data\n",
        "x_data=dataset.iloc[:,0:8].values\n",
        "y_data=dataset.iloc[:,8:].values\n",
        "#splitting the data into training and testing\n",
        "x_train,x_test,y_train,y_test=train_test_split(x_data,y_data,random_state=10)"
      ],
      "execution_count": 6,
      "outputs": []
    },
    {
      "cell_type": "markdown",
      "metadata": {
        "id": "joTdFMxVvamW",
        "colab_type": "text"
      },
      "source": [
        "Creating the Model"
      ]
    },
    {
      "cell_type": "code",
      "metadata": {
        "id": "CHUh7_O1vcao",
        "colab_type": "code",
        "colab": {}
      },
      "source": [
        "def model_creation(opt='adam',init='uniform'):\n",
        "    model=Sequential()\n",
        "    model.add(Dense(12,input_dim=8,kernel_initializer=init,activation='relu'))\n",
        "    model.add(Dense(8,kernel_initializer=init,activation='relu'))\n",
        "    model.add(Dense(8,kernel_initializer=init,activation='relu'))\n",
        "    model.add(Dense(1,kernel_initializer=init,activation='sigmoid'))\n",
        "    model.compile(loss='binary_crossentropy',optimizer=opt,metrics=['accuracy'])\n",
        "    return model\n",
        "\n",
        "model=model_creation()"
      ],
      "execution_count": 7,
      "outputs": []
    },
    {
      "cell_type": "markdown",
      "metadata": {
        "id": "fYzrDz6avmZF",
        "colab_type": "text"
      },
      "source": [
        "Traing the model"
      ]
    },
    {
      "cell_type": "code",
      "metadata": {
        "id": "mKPJSnABvkra",
        "colab_type": "code",
        "colab": {
          "base_uri": "https://localhost:8080/",
          "height": 1000
        },
        "outputId": "0d96fe8c-92f7-4ff2-f936-7825aa4a942c"
      },
      "source": [
        "values=model.fit(x_train,y_train,epochs=100,batch_size=10,verbose=1)"
      ],
      "execution_count": 9,
      "outputs": [
        {
          "output_type": "stream",
          "text": [
            "Epoch 1/100\n",
            "58/58 [==============================] - 0s 1ms/step - loss: 0.3862 - accuracy: 0.8330\n",
            "Epoch 2/100\n",
            "58/58 [==============================] - 0s 1ms/step - loss: 0.3810 - accuracy: 0.8191\n",
            "Epoch 3/100\n",
            "58/58 [==============================] - 0s 996us/step - loss: 0.3777 - accuracy: 0.8313\n",
            "Epoch 4/100\n",
            "58/58 [==============================] - 0s 963us/step - loss: 0.3839 - accuracy: 0.8313\n",
            "Epoch 5/100\n",
            "58/58 [==============================] - 0s 968us/step - loss: 0.3716 - accuracy: 0.8296\n",
            "Epoch 6/100\n",
            "58/58 [==============================] - 0s 965us/step - loss: 0.3736 - accuracy: 0.8278\n",
            "Epoch 7/100\n",
            "58/58 [==============================] - 0s 895us/step - loss: 0.3706 - accuracy: 0.8435\n",
            "Epoch 8/100\n",
            "58/58 [==============================] - 0s 973us/step - loss: 0.3742 - accuracy: 0.8278\n",
            "Epoch 9/100\n",
            "58/58 [==============================] - 0s 1ms/step - loss: 0.3762 - accuracy: 0.8313\n",
            "Epoch 10/100\n",
            "58/58 [==============================] - 0s 937us/step - loss: 0.3825 - accuracy: 0.8296\n",
            "Epoch 11/100\n",
            "58/58 [==============================] - 0s 1ms/step - loss: 0.3763 - accuracy: 0.8365\n",
            "Epoch 12/100\n",
            "58/58 [==============================] - 0s 960us/step - loss: 0.3715 - accuracy: 0.8278\n",
            "Epoch 13/100\n",
            "58/58 [==============================] - 0s 984us/step - loss: 0.3838 - accuracy: 0.8261\n",
            "Epoch 14/100\n",
            "58/58 [==============================] - 0s 923us/step - loss: 0.3666 - accuracy: 0.8383\n",
            "Epoch 15/100\n",
            "58/58 [==============================] - 0s 931us/step - loss: 0.3731 - accuracy: 0.8365\n",
            "Epoch 16/100\n",
            "58/58 [==============================] - 0s 1ms/step - loss: 0.3704 - accuracy: 0.8365\n",
            "Epoch 17/100\n",
            "58/58 [==============================] - 0s 1ms/step - loss: 0.3797 - accuracy: 0.8313\n",
            "Epoch 18/100\n",
            "58/58 [==============================] - 0s 1ms/step - loss: 0.3732 - accuracy: 0.8191\n",
            "Epoch 19/100\n",
            "58/58 [==============================] - 0s 1ms/step - loss: 0.3758 - accuracy: 0.8313\n",
            "Epoch 20/100\n",
            "58/58 [==============================] - 0s 979us/step - loss: 0.3693 - accuracy: 0.8365\n",
            "Epoch 21/100\n",
            "58/58 [==============================] - 0s 956us/step - loss: 0.3783 - accuracy: 0.8296\n",
            "Epoch 22/100\n",
            "58/58 [==============================] - 0s 966us/step - loss: 0.3623 - accuracy: 0.8504\n",
            "Epoch 23/100\n",
            "58/58 [==============================] - 0s 985us/step - loss: 0.3620 - accuracy: 0.8452\n",
            "Epoch 24/100\n",
            "58/58 [==============================] - 0s 908us/step - loss: 0.3665 - accuracy: 0.8400\n",
            "Epoch 25/100\n",
            "58/58 [==============================] - 0s 1ms/step - loss: 0.3641 - accuracy: 0.8330\n",
            "Epoch 26/100\n",
            "58/58 [==============================] - 0s 1ms/step - loss: 0.3690 - accuracy: 0.8365\n",
            "Epoch 27/100\n",
            "58/58 [==============================] - 0s 981us/step - loss: 0.3663 - accuracy: 0.8365\n",
            "Epoch 28/100\n",
            "58/58 [==============================] - 0s 989us/step - loss: 0.3766 - accuracy: 0.8296\n",
            "Epoch 29/100\n",
            "58/58 [==============================] - 0s 978us/step - loss: 0.3603 - accuracy: 0.8417\n",
            "Epoch 30/100\n",
            "58/58 [==============================] - 0s 935us/step - loss: 0.3552 - accuracy: 0.8383\n",
            "Epoch 31/100\n",
            "58/58 [==============================] - 0s 933us/step - loss: 0.3745 - accuracy: 0.8313\n",
            "Epoch 32/100\n",
            "58/58 [==============================] - 0s 947us/step - loss: 0.3932 - accuracy: 0.8157\n",
            "Epoch 33/100\n",
            "58/58 [==============================] - 0s 928us/step - loss: 0.3890 - accuracy: 0.8313\n",
            "Epoch 34/100\n",
            "58/58 [==============================] - 0s 970us/step - loss: 0.3705 - accuracy: 0.8261\n",
            "Epoch 35/100\n",
            "58/58 [==============================] - 0s 1ms/step - loss: 0.3742 - accuracy: 0.8330\n",
            "Epoch 36/100\n",
            "58/58 [==============================] - 0s 993us/step - loss: 0.3697 - accuracy: 0.8348\n",
            "Epoch 37/100\n",
            "58/58 [==============================] - 0s 1ms/step - loss: 0.3688 - accuracy: 0.8400\n",
            "Epoch 38/100\n",
            "58/58 [==============================] - 0s 1ms/step - loss: 0.3705 - accuracy: 0.8383\n",
            "Epoch 39/100\n",
            "58/58 [==============================] - 0s 1ms/step - loss: 0.3741 - accuracy: 0.8417\n",
            "Epoch 40/100\n",
            "58/58 [==============================] - 0s 951us/step - loss: 0.3700 - accuracy: 0.8296\n",
            "Epoch 41/100\n",
            "58/58 [==============================] - 0s 920us/step - loss: 0.3649 - accuracy: 0.8400\n",
            "Epoch 42/100\n",
            "58/58 [==============================] - 0s 897us/step - loss: 0.3676 - accuracy: 0.8365\n",
            "Epoch 43/100\n",
            "58/58 [==============================] - 0s 998us/step - loss: 0.3669 - accuracy: 0.8365\n",
            "Epoch 44/100\n",
            "58/58 [==============================] - 0s 992us/step - loss: 0.3743 - accuracy: 0.8383\n",
            "Epoch 45/100\n",
            "58/58 [==============================] - 0s 920us/step - loss: 0.3534 - accuracy: 0.8383\n",
            "Epoch 46/100\n",
            "58/58 [==============================] - 0s 991us/step - loss: 0.3587 - accuracy: 0.8435\n",
            "Epoch 47/100\n",
            "58/58 [==============================] - 0s 947us/step - loss: 0.3740 - accuracy: 0.8278\n",
            "Epoch 48/100\n",
            "58/58 [==============================] - 0s 986us/step - loss: 0.3581 - accuracy: 0.8383\n",
            "Epoch 49/100\n",
            "58/58 [==============================] - 0s 968us/step - loss: 0.3603 - accuracy: 0.8504\n",
            "Epoch 50/100\n",
            "58/58 [==============================] - 0s 974us/step - loss: 0.3751 - accuracy: 0.8383\n",
            "Epoch 51/100\n",
            "58/58 [==============================] - 0s 1ms/step - loss: 0.3620 - accuracy: 0.8383\n",
            "Epoch 52/100\n",
            "58/58 [==============================] - 0s 973us/step - loss: 0.3559 - accuracy: 0.8452\n",
            "Epoch 53/100\n",
            "58/58 [==============================] - 0s 976us/step - loss: 0.3603 - accuracy: 0.8348\n",
            "Epoch 54/100\n",
            "58/58 [==============================] - 0s 978us/step - loss: 0.3630 - accuracy: 0.8417\n",
            "Epoch 55/100\n",
            "58/58 [==============================] - 0s 951us/step - loss: 0.3566 - accuracy: 0.8417\n",
            "Epoch 56/100\n",
            "58/58 [==============================] - 0s 953us/step - loss: 0.3608 - accuracy: 0.8383\n",
            "Epoch 57/100\n",
            "58/58 [==============================] - 0s 989us/step - loss: 0.3638 - accuracy: 0.8383\n",
            "Epoch 58/100\n",
            "58/58 [==============================] - 0s 1ms/step - loss: 0.3691 - accuracy: 0.8487\n",
            "Epoch 59/100\n",
            "58/58 [==============================] - 0s 985us/step - loss: 0.3653 - accuracy: 0.8522\n",
            "Epoch 60/100\n",
            "58/58 [==============================] - 0s 962us/step - loss: 0.3545 - accuracy: 0.8504\n",
            "Epoch 61/100\n",
            "58/58 [==============================] - 0s 967us/step - loss: 0.3577 - accuracy: 0.8452\n",
            "Epoch 62/100\n",
            "58/58 [==============================] - 0s 1ms/step - loss: 0.3664 - accuracy: 0.8383\n",
            "Epoch 63/100\n",
            "58/58 [==============================] - 0s 977us/step - loss: 0.3641 - accuracy: 0.8539\n",
            "Epoch 64/100\n",
            "58/58 [==============================] - 0s 964us/step - loss: 0.3775 - accuracy: 0.8330\n",
            "Epoch 65/100\n",
            "58/58 [==============================] - 0s 918us/step - loss: 0.3658 - accuracy: 0.8487\n",
            "Epoch 66/100\n",
            "58/58 [==============================] - 0s 1ms/step - loss: 0.3561 - accuracy: 0.8452\n",
            "Epoch 67/100\n",
            "58/58 [==============================] - 0s 1ms/step - loss: 0.3609 - accuracy: 0.8452\n",
            "Epoch 68/100\n",
            "58/58 [==============================] - 0s 962us/step - loss: 0.3555 - accuracy: 0.8383\n",
            "Epoch 69/100\n",
            "58/58 [==============================] - 0s 1ms/step - loss: 0.3630 - accuracy: 0.8435\n",
            "Epoch 70/100\n",
            "58/58 [==============================] - 0s 1ms/step - loss: 0.3524 - accuracy: 0.8330\n",
            "Epoch 71/100\n",
            "58/58 [==============================] - 0s 927us/step - loss: 0.3668 - accuracy: 0.8330\n",
            "Epoch 72/100\n",
            "58/58 [==============================] - 0s 984us/step - loss: 0.3516 - accuracy: 0.8522\n",
            "Epoch 73/100\n",
            "58/58 [==============================] - 0s 1ms/step - loss: 0.3772 - accuracy: 0.8261\n",
            "Epoch 74/100\n",
            "58/58 [==============================] - 0s 1ms/step - loss: 0.3645 - accuracy: 0.8435\n",
            "Epoch 75/100\n",
            "58/58 [==============================] - 0s 993us/step - loss: 0.3586 - accuracy: 0.8296\n",
            "Epoch 76/100\n",
            "58/58 [==============================] - 0s 965us/step - loss: 0.3590 - accuracy: 0.8470\n",
            "Epoch 77/100\n",
            "58/58 [==============================] - 0s 995us/step - loss: 0.3567 - accuracy: 0.8209\n",
            "Epoch 78/100\n",
            "58/58 [==============================] - 0s 911us/step - loss: 0.3671 - accuracy: 0.8278\n",
            "Epoch 79/100\n",
            "58/58 [==============================] - 0s 905us/step - loss: 0.3582 - accuracy: 0.8574\n",
            "Epoch 80/100\n",
            "58/58 [==============================] - 0s 943us/step - loss: 0.3667 - accuracy: 0.8504\n",
            "Epoch 81/100\n",
            "58/58 [==============================] - 0s 1ms/step - loss: 0.3652 - accuracy: 0.8383\n",
            "Epoch 82/100\n",
            "58/58 [==============================] - 0s 1ms/step - loss: 0.3792 - accuracy: 0.8313\n",
            "Epoch 83/100\n",
            "58/58 [==============================] - 0s 1ms/step - loss: 0.3714 - accuracy: 0.8400\n",
            "Epoch 84/100\n",
            "58/58 [==============================] - 0s 982us/step - loss: 0.3557 - accuracy: 0.8383\n",
            "Epoch 85/100\n",
            "58/58 [==============================] - 0s 1ms/step - loss: 0.3557 - accuracy: 0.8504\n",
            "Epoch 86/100\n",
            "58/58 [==============================] - 0s 1ms/step - loss: 0.3578 - accuracy: 0.8400\n",
            "Epoch 87/100\n",
            "58/58 [==============================] - 0s 1ms/step - loss: 0.3644 - accuracy: 0.8487\n",
            "Epoch 88/100\n",
            "58/58 [==============================] - 0s 974us/step - loss: 0.3721 - accuracy: 0.8417\n",
            "Epoch 89/100\n",
            "58/58 [==============================] - 0s 957us/step - loss: 0.3454 - accuracy: 0.8487\n",
            "Epoch 90/100\n",
            "58/58 [==============================] - 0s 967us/step - loss: 0.3561 - accuracy: 0.8487\n",
            "Epoch 91/100\n",
            "58/58 [==============================] - 0s 975us/step - loss: 0.3639 - accuracy: 0.8383\n",
            "Epoch 92/100\n",
            "58/58 [==============================] - 0s 1ms/step - loss: 0.3660 - accuracy: 0.8452\n",
            "Epoch 93/100\n",
            "58/58 [==============================] - 0s 955us/step - loss: 0.3524 - accuracy: 0.8452\n",
            "Epoch 94/100\n",
            "58/58 [==============================] - 0s 983us/step - loss: 0.3501 - accuracy: 0.8522\n",
            "Epoch 95/100\n",
            "58/58 [==============================] - 0s 938us/step - loss: 0.3495 - accuracy: 0.8557\n",
            "Epoch 96/100\n",
            "58/58 [==============================] - 0s 943us/step - loss: 0.3469 - accuracy: 0.8487\n",
            "Epoch 97/100\n",
            "58/58 [==============================] - 0s 957us/step - loss: 0.3650 - accuracy: 0.8417\n",
            "Epoch 98/100\n",
            "58/58 [==============================] - 0s 1ms/step - loss: 0.3499 - accuracy: 0.8400\n",
            "Epoch 99/100\n",
            "58/58 [==============================] - 0s 929us/step - loss: 0.3529 - accuracy: 0.8522\n",
            "Epoch 100/100\n",
            "58/58 [==============================] - 0s 964us/step - loss: 0.3649 - accuracy: 0.8348\n"
          ],
          "name": "stdout"
        }
      ]
    },
    {
      "cell_type": "markdown",
      "metadata": {
        "id": "RxcIhOoFv6Jv",
        "colab_type": "text"
      },
      "source": [
        "Prediction "
      ]
    },
    {
      "cell_type": "code",
      "metadata": {
        "id": "j9YGUh_Iv1_G",
        "colab_type": "code",
        "colab": {
          "base_uri": "https://localhost:8080/",
          "height": 70
        },
        "outputId": "f104e815-788a-4682-b4d3-31ca4a57c714"
      },
      "source": [
        "scores=model.evaluate(x_data,y_data)\n",
        "print(model.metrics_names[1],scores[1]*100)"
      ],
      "execution_count": 10,
      "outputs": [
        {
          "output_type": "stream",
          "text": [
            "24/24 [==============================] - 0s 905us/step - loss: 0.4210 - accuracy: 0.8096\n",
            "accuracy 80.96479773521423\n"
          ],
          "name": "stdout"
        }
      ]
    },
    {
      "cell_type": "code",
      "metadata": {
        "id": "N-oexPyZv-yl",
        "colab_type": "code",
        "colab": {}
      },
      "source": [
        "y_predict=model.predict(x_test,batch_size=10)\n",
        "y_predicted_labes=[]\n",
        "\n",
        "#changing outputs in the last layer in network\n",
        "for i in range(len(y_predict)):\n",
        "    if y_predict[i]>=0.5:\n",
        "        y_predicted_labes.append(1)\n",
        "    else:\n",
        "        y_predicted_labes.append(0)"
      ],
      "execution_count": 12,
      "outputs": []
    },
    {
      "cell_type": "markdown",
      "metadata": {
        "id": "JGGvlgMPwGHZ",
        "colab_type": "text"
      },
      "source": [
        "Analysing the result"
      ]
    },
    {
      "cell_type": "code",
      "metadata": {
        "id": "Wg3hPfYawJaW",
        "colab_type": "code",
        "colab": {
          "base_uri": "https://localhost:8080/",
          "height": 201
        },
        "outputId": "d2b3cb03-55f4-4034-9290-895ab9e79b88"
      },
      "source": [
        "print(confusion_matrix(y_test,y_predicted_labes))\n",
        "print(classification_report(y_test,y_predicted_labes))"
      ],
      "execution_count": 13,
      "outputs": [
        {
          "output_type": "stream",
          "text": [
            "[[103  25]\n",
            " [ 32  32]]\n",
            "              precision    recall  f1-score   support\n",
            "\n",
            "           0       0.76      0.80      0.78       128\n",
            "           1       0.56      0.50      0.53        64\n",
            "\n",
            "    accuracy                           0.70       192\n",
            "   macro avg       0.66      0.65      0.66       192\n",
            "weighted avg       0.70      0.70      0.70       192\n",
            "\n"
          ],
          "name": "stdout"
        }
      ]
    }
  ]
}