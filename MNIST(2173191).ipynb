{
  "nbformat": 4,
  "nbformat_minor": 0,
  "metadata": {
    "colab": {
      "name": "MNIST.ipynb",
      "provenance": [],
      "collapsed_sections": []
    },
    "kernelspec": {
      "name": "python3",
      "display_name": "Python 3"
    }
  },
  "cells": [
    {
      "cell_type": "code",
      "metadata": {
        "id": "_Btn7Nd7VJUA",
        "colab_type": "code",
        "colab": {}
      },
      "source": [
        "import numpy as np\n",
        "import matplotlib.pyplot as plt\n",
        "import pandas as pd\n",
        "import tensorflow as tf\n",
        "from tensorflow import keras"
      ],
      "execution_count": null,
      "outputs": []
    },
    {
      "cell_type": "code",
      "metadata": {
        "id": "P7GfgBqnVPPW",
        "colab_type": "code",
        "colab": {}
      },
      "source": [
        "mnist = tf.keras.datasets.mnist"
      ],
      "execution_count": null,
      "outputs": []
    },
    {
      "cell_type": "code",
      "metadata": {
        "id": "63ZoZXDvVROi",
        "colab_type": "code",
        "colab": {
          "base_uri": "https://localhost:8080/",
          "height": 50
        },
        "outputId": "64fbbae3-8daf-4ba7-c82b-00ea5d7ebd87"
      },
      "source": [
        "(train_images, train_labels), (test_images, test_labels) = mnist.load_data() "
      ],
      "execution_count": null,
      "outputs": [
        {
          "output_type": "stream",
          "text": [
            "Downloading data from https://storage.googleapis.com/tensorflow/tf-keras-datasets/mnist.npz\n",
            "11493376/11490434 [==============================] - 0s 0us/step\n"
          ],
          "name": "stdout"
        }
      ]
    },
    {
      "cell_type": "code",
      "metadata": {
        "id": "hqmtIVGbVTYG",
        "colab_type": "code",
        "colab": {
          "base_uri": "https://localhost:8080/",
          "height": 50
        },
        "outputId": "6f2ce479-96f6-47b5-e1a6-a3497ff75396"
      },
      "source": [
        "print('Training Data: ', train_images.shape, train_labels.shape)\n",
        "print('Testing Data: ', test_images.shape, test_labels.shape)"
      ],
      "execution_count": null,
      "outputs": [
        {
          "output_type": "stream",
          "text": [
            "Training Data:  (60000, 28, 28) (60000,)\n",
            "Testing Data:  (10000, 28, 28) (10000,)\n"
          ],
          "name": "stdout"
        }
      ]
    },
    {
      "cell_type": "code",
      "metadata": {
        "id": "8QVC7oWEVW_2",
        "colab_type": "code",
        "colab": {
          "base_uri": "https://localhost:8080/",
          "height": 268
        },
        "outputId": "6ae5e0cf-4144-4047-ce84-7c10f57443a8"
      },
      "source": [
        "for i in range(0,9):\n",
        "  plt.subplot(330+1+i)\n",
        "  plt.imshow(train_images[i])"
      ],
      "execution_count": null,
      "outputs": [
        {
          "output_type": "display_data",
          "data": {
            "image/png": "[encoded data removed]",
            "text/plain": [
              "<Figure size 432x288 with 9 Axes>"
            ]
          },
          "metadata": {
            "tags": [],
            "needs_background": "light"
          }
        }
      ]
    },
    {
      "cell_type": "code",
      "metadata": {
        "id": "MuWGAE6TVZvW",
        "colab_type": "code",
        "colab": {}
      },
      "source": [
        "train_images = train_images/255.0\n",
        "test_images = test_images/255.0"
      ],
      "execution_count": null,
      "outputs": []
    },
    {
      "cell_type": "code",
      "metadata": {
        "id": "KeXBvpNqVdT_",
        "colab_type": "code",
        "colab": {
          "base_uri": "https://localhost:8080/",
          "height": 50
        },
        "outputId": "fa53d781-a138-4e5d-d3a3-370ee73faadd"
      },
      "source": [
        "print(train_images.shape)\n",
        "print(test_images.shape)"
      ],
      "execution_count": null,
      "outputs": [
        {
          "output_type": "stream",
          "text": [
            "(60000, 28, 28)\n",
            "(10000, 28, 28)\n"
          ],
          "name": "stdout"
        }
      ]
    },
    {
      "cell_type": "code",
      "metadata": {
        "id": "LETZ6aKzVfnu",
        "colab_type": "code",
        "colab": {}
      },
      "source": [
        "mod = tf.keras.models.Sequential([\n",
        "                                    tf.keras.layers.Flatten(input_shape=(28,28)),\n",
        "                                    tf.keras.layers.Dense(64, activation='relu'),\n",
        "                                    tf.keras.layers.Dense(10, activation='softmax')\n",
        "])"
      ],
      "execution_count": null,
      "outputs": []
    },
    {
      "cell_type": "code",
      "metadata": {
        "id": "rAo6deQ_VhwG",
        "colab_type": "code",
        "colab": {
          "base_uri": "https://localhost:8080/",
          "height": 252
        },
        "outputId": "826dd55e-7f41-437d-8758-245cb188d81a"
      },
      "source": [
        "mod.summary()"
      ],
      "execution_count": null,
      "outputs": [
        {
          "output_type": "stream",
          "text": [
            "Model: \"sequential\"\n",
            "_________________________________________________________________\n",
            "Layer (type)                 Output Shape              Param #   \n",
            "=================================================================\n",
            "flatten (Flatten)            (None, 784)               0         \n",
            "_________________________________________________________________\n",
            "dense (Dense)                (None, 64)                50240     \n",
            "_________________________________________________________________\n",
            "dense_1 (Dense)              (None, 10)                650       \n",
            "=================================================================\n",
            "Total params: 50,890\n",
            "Trainable params: 50,890\n",
            "Non-trainable params: 0\n",
            "_________________________________________________________________\n"
          ],
          "name": "stdout"
        }
      ]
    },
    {
      "cell_type": "code",
      "metadata": {
        "id": "aiVQdggRVkq6",
        "colab_type": "code",
        "colab": {}
      },
      "source": [
        "mod.compile(loss='binary_crossentropy', optimizer='adam', metrics=['acc'])"
      ],
      "execution_count": null,
      "outputs": []
    },
    {
      "cell_type": "code",
      "metadata": {
        "id": "o27HeE0sVnAq",
        "colab_type": "code",
        "colab": {
          "base_uri": "https://localhost:8080/",
          "height": 185
        },
        "outputId": "c83f5c30-5814-4ec0-e00d-ce6d518174d0"
      },
      "source": [
        "history = mod.fit(train_images, train_labels, epochs=5)"
      ],
      "execution_count": null,
      "outputs": [
        {
          "output_type": "stream",
          "text": [
            "Epoch 1/5\n",
            "1875/1875 [==============================] - 3s 2ms/step - loss: 10.6009 - acc: 0.2151\n",
            "Epoch 2/5\n",
            "1875/1875 [==============================] - 3s 2ms/step - loss: 9.8924 - acc: 0.1251\n",
            "Epoch 3/5\n",
            "1875/1875 [==============================] - 3s 1ms/step - loss: 9.8918 - acc: 0.1143\n",
            "Epoch 4/5\n",
            "1875/1875 [==============================] - 3s 2ms/step - loss: 9.8917 - acc: 0.1093\n",
            "Epoch 5/5\n",
            "1875/1875 [==============================] - 3s 2ms/step - loss: 9.8916 - acc: 0.1023\n"
          ],
          "name": "stdout"
        }
      ]
    },
    {
      "cell_type": "code",
      "metadata": {
        "id": "I_9jMGYfVwQK",
        "colab_type": "code",
        "colab": {
          "base_uri": "https://localhost:8080/",
          "height": 50
        },
        "outputId": "3d10c3cc-262e-4338-cf33-c86de88bb06b"
      },
      "source": [
        "mod.evaluate(test_images, test_labels)"
      ],
      "execution_count": null,
      "outputs": [
        {
          "output_type": "stream",
          "text": [
            "313/313 [==============================] - 0s 1ms/step - loss: 0.0881 - acc: 0.9725\n"
          ],
          "name": "stdout"
        },
        {
          "output_type": "execute_result",
          "data": {
            "text/plain": [
              "[0.08808070421218872, 0.9725000262260437]"
            ]
          },
          "metadata": {
            "tags": []
          },
          "execution_count": 13
        }
      ]
    },
    {
      "cell_type": "code",
      "metadata": {
        "id": "F54FzCViV0XJ",
        "colab_type": "code",
        "colab": {
          "base_uri": "https://localhost:8080/",
          "height": 562
        },
        "outputId": "dd9382cd-4cdd-4dea-91f7-b236bd9ab728"
      },
      "source": [
        "accuracy = history.history['acc']\n",
        "epochs = range(len(accuracy))\n",
        "plt.plot(epochs, accuracy)\n",
        "plt.title('Training Acuuracy')\n",
        "\n",
        "plt.figure()\n",
        "\n",
        "loss = history.history['loss']\n",
        "plt.plot(epochs, loss)\n",
        "plt.title('Training Loss')"
      ],
      "execution_count": null,
      "outputs": [
        {
          "output_type": "execute_result",
          "data": {
            "text/plain": [
              "Text(0.5, 1.0, 'Training Loss')"
            ]
          },
          "metadata": {
            "tags": []
          },
          "execution_count": 22
        },
        {
          "output_type": "display_data",
          "data": {
            "image/png": "[encoded data removed]",
            "text/plain": [
              "<Figure size 432x288 with 1 Axes>"
            ]
          },
          "metadata": {
            "tags": [],
            "needs_background": "light"
          }
        },
        {
          "output_type": "display_data",
          "data": {
            "image/png": "[encoded data removed]",
            "text/plain": [
              "<Figure size 432x288 with 1 Axes>"
            ]
          },
          "metadata": {
            "tags": [],
            "needs_background": "light"
          }
        }
      ]
    },
    {
      "cell_type": "code",
      "metadata": {
        "id": "AvQSt-0PV2Rt",
        "colab_type": "code",
        "colab": {
          "base_uri": "https://localhost:8080/",
          "height": 302
        },
        "outputId": "8f54bf18-9283-475a-f996-bed4d758097c"
      },
      "source": [
        "import numpy as np\n",
        "pred = mod.predict(test_images)\n",
        "pred = [np.argmax(x) for x in pred]\n",
        "\n",
        "from sklearn.metrics import classification_report, confusion_matrix\n",
        "print(classification_report(test_labels,pred))"
      ],
      "execution_count": null,
      "outputs": [
        {
          "output_type": "stream",
          "text": [
            "              precision    recall  f1-score   support\n",
            "\n",
            "           0       0.96      0.99      0.98       980\n",
            "           1       0.98      0.99      0.99      1135\n",
            "           2       0.98      0.96      0.97      1032\n",
            "           3       0.95      0.98      0.96      1010\n",
            "           4       0.98      0.97      0.97       982\n",
            "           5       0.98      0.96      0.97       892\n",
            "           6       0.98      0.98      0.98       958\n",
            "           7       0.99      0.97      0.98      1028\n",
            "           8       0.95      0.97      0.96       974\n",
            "           9       0.97      0.96      0.96      1009\n",
            "\n",
            "    accuracy                           0.97     10000\n",
            "   macro avg       0.97      0.97      0.97     10000\n",
            "weighted avg       0.97      0.97      0.97     10000\n",
            "\n"
          ],
          "name": "stdout"
        }
      ]
    },
    {
      "cell_type": "code",
      "metadata": {
        "id": "7VZ-1DcaV5gF",
        "colab_type": "code",
        "colab": {
          "base_uri": "https://localhost:8080/",
          "height": 185
        },
        "outputId": "3d7b35c1-6457-460a-cd58-17393ff19896"
      },
      "source": [
        "classes = ['0','1','2','3','4','5','6','7','8','9']\n",
        "con_mat=confusion_matrix(test_labels,pred)\n",
        "print(con_mat)"
      ],
      "execution_count": null,
      "outputs": [
        {
          "output_type": "stream",
          "text": [
            "[[ 972    0    1    1    1    0    3    0    2    0]\n",
            " [   0 1127    2    1    0    1    2    0    2    0]\n",
            " [  10    4  987    6    3    0    1    4   17    0]\n",
            " [   2    0    4  985    0    7    0    4    6    2]\n",
            " [   2    0    3    1  949    0    6    1    2   18]\n",
            " [   5    0    0   15    1  857    9    0    5    0]\n",
            " [   9    3    0    1    1    2  940    0    1    1]\n",
            " [   1    7    8    8    0    0    0  995    2    7]\n",
            " [   6    0    2    8    3    1    3    2  948    1]\n",
            " [   4    6    0    9   12    3    0    2    8  965]]\n"
          ],
          "name": "stdout"
        }
      ]
    },
    {
      "cell_type": "code",
      "metadata": {
        "id": "D-inChHJWAkB",
        "colab_type": "code",
        "colab": {}
      },
      "source": [
        ""
      ],
      "execution_count": null,
      "outputs": []
    }
  ]
}