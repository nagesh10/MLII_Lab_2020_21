{
 "cells": [
  {
   "cell_type": "code",
   "execution_count": 98,
   "metadata": {},
   "outputs": [],
   "source": [
    "from tensorflow.keras.datasets import mnist\n",
    "from matplotlib import pyplot as plt\n",
    "from tensorflow import keras\n",
    "import tensorflow as tf\n",
    "import numpy as np\n",
    "from sklearn.model_selection import train_test_split\n",
    "from tensorflow.keras.utils import to_categorical as tcg\n",
    "from tensorflow.keras.models import Sequential\n",
    "from tensorflow.keras.layers import Dense, Flatten"
   ]
  },
  {
   "cell_type": "code",
   "execution_count": 99,
   "metadata": {},
   "outputs": [],
   "source": [
    "(xtr,ytr),(xte,yte)=mnist.load_data()"
   ]
  },
  {
   "cell_type": "code",
   "execution_count": 100,
   "metadata": {},
   "outputs": [
    {
     "data": {
      "text/plain": [
       "<matplotlib.image.AxesImage at 0x188a689de88>"
      ]
     },
     "execution_count": 100,
     "metadata": {},
     "output_type": "execute_result"
    },
    {
     "data": {
      "image/png": "[encoded data removed]",
      "text/plain": [
       "<Figure size 432x288 with 1 Axes>"
      ]
     },
     "metadata": {
      "needs_background": "light"
     },
     "output_type": "display_data"
    }
   ],
   "source": [
    "plt.imshow(xtr[92], cmap='gray')"
   ]
  },
  {
   "cell_type": "code",
   "execution_count": 101,
   "metadata": {},
   "outputs": [
    {
     "data": {
      "text/plain": [
       "4"
      ]
     },
     "execution_count": 101,
     "metadata": {},
     "output_type": "execute_result"
    }
   ],
   "source": [
    "ytr[92]"
   ]
  },
  {
   "cell_type": "code",
   "execution_count": 102,
   "metadata": {},
   "outputs": [],
   "source": [
    "xte=xte.reshape(xte.shape[0],xte.shape[1],xte.shape[2],1).astype('float32')/255\n",
    "xtr=xtr.reshape(xtr.shape[0],xtr.shape[1],xtr.shape[2],1).astype('float32')/255"
   ]
  },
  {
   "cell_type": "code",
   "execution_count": 103,
   "metadata": {},
   "outputs": [
    {
     "data": {
      "text/plain": [
       "(10000, 28, 28, 1)"
      ]
     },
     "execution_count": 103,
     "metadata": {},
     "output_type": "execute_result"
    }
   ],
   "source": [
    "xtr.shape\n",
    "xte.shape"
   ]
  },
  {
   "cell_type": "code",
   "execution_count": 104,
   "metadata": {},
   "outputs": [],
   "source": [
    "ytr=tcg(ytr)\n",
    "yte=tcg(yte)"
   ]
  },
  {
   "cell_type": "code",
   "execution_count": 105,
   "metadata": {},
   "outputs": [],
   "source": [
    "model = Sequential([\n",
    "  Flatten(input_shape=(28, 28, 1)),\n",
    "  Dense(784, activation='relu'),\n",
    "  Dense(512, activation='relu'),\n",
    "  Dense(392, activation='relu'),\n",
    "  Dense(256, activation='relu'),\n",
    "  Dense(128, activation='relu'),\n",
    "  Dense(64, activation='relu'),\n",
    "  Dense(32, activation='relu'),\n",
    "  Dense(16, activation='relu'),\n",
    "  Dense(10, activation='softmax'),\n",
    "])"
   ]
  },
  {
   "cell_type": "code",
   "execution_count": 106,
   "metadata": {},
   "outputs": [],
   "source": [
    "model.compile(loss='categorical_crossentropy',optimizer='adam', metrics=['accuracy'])"
   ]
  },
  {
   "cell_type": "code",
   "execution_count": 107,
   "metadata": {},
   "outputs": [],
   "source": [
    "x_train,x_valid = xtr[5000:],xtr[:5000]\n",
    "y_train,y_valid = ytr[5000:],ytr[:5000]"
   ]
  },
  {
   "cell_type": "code",
   "execution_count": 108,
   "metadata": {},
   "outputs": [
    {
     "name": "stdout",
     "output_type": "stream",
     "text": [
      "Train on 55000 samples, validate on 5000 samples\n",
      "Epoch 1/8\n",
      "\n",
      "Epoch 00001: val_loss improved from inf to 0.12323, saving model to best_model.h5\n",
      "55000/55000 - 8s - loss: 0.4095 - accuracy: 0.8733 - val_loss: 0.1232 - val_accuracy: 0.9668\n",
      "Epoch 2/8\n",
      "\n",
      "Epoch 00002: val_loss improved from 0.12323 to 0.10783, saving model to best_model.h5\n",
      "55000/55000 - 7s - loss: 0.1140 - accuracy: 0.9666 - val_loss: 0.1078 - val_accuracy: 0.9724\n",
      "Epoch 3/8\n",
      "\n",
      "Epoch 00003: val_loss improved from 0.10783 to 0.09216, saving model to best_model.h5\n",
      "55000/55000 - 7s - loss: 0.0755 - accuracy: 0.9776 - val_loss: 0.0922 - val_accuracy: 0.9730\n",
      "Epoch 4/8\n",
      "\n",
      "Epoch 00004: val_loss improved from 0.09216 to 0.07672, saving model to best_model.h5\n",
      "55000/55000 - 7s - loss: 0.0517 - accuracy: 0.9845 - val_loss: 0.0767 - val_accuracy: 0.9792\n",
      "Epoch 5/8\n",
      "\n",
      "Epoch 00005: val_loss improved from 0.07672 to 0.07296, saving model to best_model.h5\n",
      "55000/55000 - 7s - loss: 0.0407 - accuracy: 0.9875 - val_loss: 0.0730 - val_accuracy: 0.9804\n",
      "Epoch 6/8\n",
      "\n",
      "Epoch 00006: val_loss did not improve from 0.07296\n",
      "55000/55000 - 6s - loss: 0.0325 - accuracy: 0.9902 - val_loss: 0.0804 - val_accuracy: 0.9806\n",
      "Epoch 7/8\n",
      "\n",
      "Epoch 00007: val_loss improved from 0.07296 to 0.07229, saving model to best_model.h5\n",
      "55000/55000 - 7s - loss: 0.0354 - accuracy: 0.9895 - val_loss: 0.0723 - val_accuracy: 0.9810\n",
      "Epoch 8/8\n",
      "\n",
      "Epoch 00008: val_loss did not improve from 0.07229\n",
      "55000/55000 - 7s - loss: 0.0259 - accuracy: 0.9919 - val_loss: 0.0802 - val_accuracy: 0.9806\n"
     ]
    }
   ],
   "source": [
    "from keras.callbacks import ModelCheckpoint\n",
    "\n",
    "checkpoint = ModelCheckpoint(filepath = 'best_model.h5',save_best_only = True,verbose=1)\n",
    "\n",
    "history = model.fit(x_train,y_train,batch_size=256, epochs = 8,\n",
    "          validation_data=(x_valid,y_valid),\n",
    "          callbacks=[checkpoint],\n",
    "          verbose=2, shuffle=True)"
   ]
  },
  {
   "cell_type": "code",
   "execution_count": 109,
   "metadata": {},
   "outputs": [],
   "source": [
    "np.save('my_history.npy',history.history)"
   ]
  },
  {
   "cell_type": "code",
   "execution_count": 110,
   "metadata": {},
   "outputs": [],
   "source": [
    "history=np.load('my_history.npy',allow_pickle='TRUE').item()"
   ]
  },
  {
   "cell_type": "code",
   "execution_count": 111,
   "metadata": {},
   "outputs": [
    {
     "data": {
      "image/png": "[encoded data removed]",
      "text/plain": [
       "<Figure size 432x288 with 1 Axes>"
      ]
     },
     "metadata": {
      "needs_background": "light"
     },
     "output_type": "display_data"
    }
   ],
   "source": [
    "plt.plot(history['accuracy'])\n",
    "plt.plot(history['val_accuracy'])\n",
    "plt.title('model accuracy')\n",
    "plt.ylabel('accuracy')\n",
    "plt.xlabel('epoch')\n",
    "plt.legend(['train', 'test'], loc='upper left')\n",
    "plt.show()"
   ]
  },
  {
   "cell_type": "code",
   "execution_count": 112,
   "metadata": {},
   "outputs": [
    {
     "name": "stdout",
     "output_type": "stream",
     "text": [
      "60000/60000 [==============================] - 13s 215us/sample - loss: 0.0173 - accuracy: 0.9953\n"
     ]
    },
    {
     "data": {
      "text/plain": [
       "[0.017282974743268762, 0.9953]"
      ]
     },
     "execution_count": 112,
     "metadata": {},
     "output_type": "execute_result"
    }
   ],
   "source": [
    "model.evaluate(xtr,ytr)"
   ]
  },
  {
   "cell_type": "code",
   "execution_count": 113,
   "metadata": {},
   "outputs": [
    {
     "name": "stdout",
     "output_type": "stream",
     "text": [
      "10000/10000 [==============================] - 1s 147us/sample - loss: 0.0843 - accuracy: 0.9801\n"
     ]
    }
   ],
   "source": [
    "score = model.evaluate(xte,yte)"
   ]
  },
  {
   "cell_type": "code",
   "execution_count": 114,
   "metadata": {},
   "outputs": [
    {
     "name": "stdout",
     "output_type": "stream",
     "text": [
      "Test loss: 0.08426947708661318\n",
      "Test accuracy: 0.9801\n"
     ]
    }
   ],
   "source": [
    "print('Test loss:', score[0])\n",
    "print('Test accuracy:', score[1])"
   ]
  },
  {
   "cell_type": "code",
   "execution_count": null,
   "metadata": {},
   "outputs": [],
   "source": []
  }
 ],
 "metadata": {
  "kernelspec": {
   "display_name": "Python 3",
   "language": "python",
   "name": "python3"
  },
  "language_info": {
   "codemirror_mode": {
    "name": "ipython",
    "version": 3
   },
   "file_extension": ".py",
   "mimetype": "text/x-python",
   "name": "python",
   "nbconvert_exporter": "python",
   "pygments_lexer": "ipython3",
   "version": "3.7.7"
  }
 },
 "nbformat": 4,
 "nbformat_minor": 4
}
