{
  "nbformat": 4,
  "nbformat_minor": 0,
  "metadata": {
    "colab": {
      "name": "CIFAR10 Harmeet Singh.ipynb",
      "provenance": [],
      "collapsed_sections": [],
      "toc_visible": true
    },
    "kernelspec": {
      "name": "python3",
      "display_name": "Python 3"
    },
    "accelerator": "GPU"
  },
  "cells": [
    {
      "cell_type": "markdown",
      "metadata": {
        "id": "S0TwmJhSSNip",
        "colab_type": "text"
      },
      "source": [
        "# **CIFAR10**"
      ]
    },
    {
      "cell_type": "code",
      "metadata": {
        "id": "4EHvKLbawPfx",
        "colab_type": "code",
        "colab": {}
      },
      "source": [
        "from tensorflow.keras.datasets import cifar10\n",
        "from matplotlib import pyplot as plt\n",
        "from tensorflow import keras\n",
        "import tensorflow.compat.v2 as tf\n",
        "from sklearn.model_selection import train_test_split\n",
        "from tensorflow.keras.utils import to_categorical as tcg\n",
        "from tensorflow.keras.models import Sequential\n",
        "from tensorflow.keras.layers import Dense, Flatten"
      ],
      "execution_count": 5,
      "outputs": []
    },
    {
      "cell_type": "code",
      "metadata": {
        "id": "SMrjszw7xZFw",
        "colab_type": "code",
        "colab": {
          "base_uri": "https://localhost:8080/",
          "height": 51
        },
        "outputId": "53bf8054-620e-4b4b-a750-88cde9c5409b"
      },
      "source": [
        "(xtr,ytr) , (xte,yte)=cifar10.load_data()"
      ],
      "execution_count": 8,
      "outputs": [
        {
          "output_type": "stream",
          "text": [
            "Downloading data from https://www.cs.toronto.edu/~kriz/cifar-10-python.tar.gz\n",
            "170500096/170498071 [==============================] - 11s 0us/step\n"
          ],
          "name": "stdout"
        }
      ]
    },
    {
      "cell_type": "code",
      "metadata": {
        "id": "hjZkN-tH0rxh",
        "colab_type": "code",
        "colab": {
          "base_uri": "https://localhost:8080/",
          "height": 34
        },
        "outputId": "2721534e-0793-4b54-e4a7-ffdddbbbd6fd"
      },
      "source": [
        "xtr.shape"
      ],
      "execution_count": 9,
      "outputs": [
        {
          "output_type": "execute_result",
          "data": {
            "text/plain": [
              "(50000, 32, 32, 3)"
            ]
          },
          "metadata": {
            "tags": []
          },
          "execution_count": 9
        }
      ]
    },
    {
      "cell_type": "code",
      "metadata": {
        "id": "4K1G54bHBx66",
        "colab_type": "code",
        "colab": {
          "base_uri": "https://localhost:8080/",
          "height": 283
        },
        "outputId": "c449021a-860e-4abf-bcbe-75ff554bb54c"
      },
      "source": [
        "plt.imshow(xtr[50], cmap='gray')"
      ],
      "execution_count": 10,
      "outputs": [
        {
          "output_type": "execute_result",
          "data": {
            "text/plain": [
              "<matplotlib.image.AxesImage at 0x7f7927dc5320>"
            ]
          },
          "metadata": {
            "tags": []
          },
          "execution_count": 10
        },
        {
          "output_type": "display_data",
          "data": {
            "image/png": "[encoded data removed]",
            "text/plain": [
              "<Figure size 432x288 with 1 Axes>"
            ]
          },
          "metadata": {
            "tags": [],
            "needs_background": "light"
          }
        }
      ]
    },
    {
      "cell_type": "code",
      "metadata": {
        "id": "P4NfYkwQDNA-",
        "colab_type": "code",
        "colab": {
          "base_uri": "https://localhost:8080/",
          "height": 34
        },
        "outputId": "3c84d26a-4488-4674-9cb1-d539e6cf0dd7"
      },
      "source": [
        "ytr[50\n",
        "    ]"
      ],
      "execution_count": 12,
      "outputs": [
        {
          "output_type": "execute_result",
          "data": {
            "text/plain": [
              "array([9], dtype=uint8)"
            ]
          },
          "metadata": {
            "tags": []
          },
          "execution_count": 12
        }
      ]
    },
    {
      "cell_type": "code",
      "metadata": {
        "id": "O3HFAc1UqETZ",
        "colab_type": "code",
        "colab": {
          "base_uri": "https://localhost:8080/",
          "height": 283
        },
        "outputId": "5a4e659f-d015-4f92-fc53-436fc349e23a"
      },
      "source": [
        "plt.imshow(xte[50], cmap='gray')"
      ],
      "execution_count": 14,
      "outputs": [
        {
          "output_type": "execute_result",
          "data": {
            "text/plain": [
              "<matplotlib.image.AxesImage at 0x7f792787bba8>"
            ]
          },
          "metadata": {
            "tags": []
          },
          "execution_count": 14
        },
        {
          "output_type": "display_data",
          "data": {
            "image/png": "[encoded data removed]",
            "text/plain": [
              "<Figure size 432x288 with 1 Axes>"
            ]
          },
          "metadata": {
            "tags": [],
            "needs_background": "light"
          }
        }
      ]
    },
    {
      "cell_type": "code",
      "metadata": {
        "id": "j6jzqki2qLmb",
        "colab_type": "code",
        "colab": {
          "base_uri": "https://localhost:8080/",
          "height": 34
        },
        "outputId": "ec04fca6-e449-483b-ccbe-635f327555ee"
      },
      "source": [
        "yte[50]"
      ],
      "execution_count": 15,
      "outputs": [
        {
          "output_type": "execute_result",
          "data": {
            "text/plain": [
              "array([9], dtype=uint8)"
            ]
          },
          "metadata": {
            "tags": []
          },
          "execution_count": 15
        }
      ]
    },
    {
      "cell_type": "code",
      "metadata": {
        "id": "ZKJ7-AwK0q2w",
        "colab_type": "code",
        "colab": {}
      },
      "source": [
        "ytr=tcg(ytr)\n",
        "yte=tcg(yte)"
      ],
      "execution_count": 16,
      "outputs": []
    },
    {
      "cell_type": "code",
      "metadata": {
        "id": "-TRlMrFhxaHS",
        "colab_type": "code",
        "colab": {}
      },
      "source": [
        "xte=xte.reshape(xte.shape[0],xte.shape[1],xte.shape[2],3).astype('float32')/255\n",
        "xtr=xtr.reshape(xtr.shape[0],xtr.shape[1],xtr.shape[2],3).astype('float32')/255"
      ],
      "execution_count": 17,
      "outputs": []
    },
    {
      "cell_type": "code",
      "metadata": {
        "id": "488ekMPttqQP",
        "colab_type": "code",
        "colab": {}
      },
      "source": [
        "model = Sequential([\n",
        "  Flatten(input_shape=(32, 32, 3)),\n",
        "  Dense(256, activation='relu'),\n",
        "  Dense(128, activation='relu'),\n",
        "  Dense(64, activation='relu'),\n",
        "  Dense(10, activation='softmax'),\n",
        "])"
      ],
      "execution_count": 18,
      "outputs": []
    },
    {
      "cell_type": "code",
      "metadata": {
        "id": "Cwvo7vHlYfxh",
        "colab_type": "code",
        "colab": {}
      },
      "source": [
        "model.compile(loss='categorical_crossentropy',optimizer='adam', metrics=['accuracy'])"
      ],
      "execution_count": 19,
      "outputs": []
    },
    {
      "cell_type": "code",
      "metadata": {
        "id": "xufOKyQkYvTe",
        "colab_type": "code",
        "colab": {
          "base_uri": "https://localhost:8080/",
          "height": 377
        },
        "outputId": "34861805-23f1-4336-b6df-6371dd1ff789"
      },
      "source": [
        "history = model.fit(xtr,ytr, validation_data=(xte,yte),epochs=10, batch_size=64)"
      ],
      "execution_count": 22,
      "outputs": [
        {
          "output_type": "stream",
          "text": [
            "Epoch 1/10\n",
            "782/782 [==============================] - 4s 5ms/step - loss: 1.3324 - accuracy: 0.5242 - val_loss: 1.4472 - val_accuracy: 0.4905\n",
            "Epoch 2/10\n",
            "782/782 [==============================] - 4s 5ms/step - loss: 1.3170 - accuracy: 0.5309 - val_loss: 1.4231 - val_accuracy: 0.4986\n",
            "Epoch 3/10\n",
            "782/782 [==============================] - 4s 5ms/step - loss: 1.3075 - accuracy: 0.5310 - val_loss: 1.4817 - val_accuracy: 0.4831\n",
            "Epoch 4/10\n",
            "782/782 [==============================] - 4s 5ms/step - loss: 1.2923 - accuracy: 0.5394 - val_loss: 1.4224 - val_accuracy: 0.5070\n",
            "Epoch 5/10\n",
            "782/782 [==============================] - 4s 5ms/step - loss: 1.2825 - accuracy: 0.5414 - val_loss: 1.4669 - val_accuracy: 0.4885\n",
            "Epoch 6/10\n",
            "782/782 [==============================] - 4s 5ms/step - loss: 1.2746 - accuracy: 0.5433 - val_loss: 1.4368 - val_accuracy: 0.5006\n",
            "Epoch 7/10\n",
            "782/782 [==============================] - 4s 5ms/step - loss: 1.2601 - accuracy: 0.5481 - val_loss: 1.4077 - val_accuracy: 0.5077\n",
            "Epoch 8/10\n",
            "782/782 [==============================] - 4s 5ms/step - loss: 1.2491 - accuracy: 0.5513 - val_loss: 1.4457 - val_accuracy: 0.5004\n",
            "Epoch 9/10\n",
            "782/782 [==============================] - 4s 5ms/step - loss: 1.2473 - accuracy: 0.5525 - val_loss: 1.4652 - val_accuracy: 0.5025\n",
            "Epoch 10/10\n",
            "782/782 [==============================] - 4s 5ms/step - loss: 1.2267 - accuracy: 0.5597 - val_loss: 1.4353 - val_accuracy: 0.4962\n"
          ],
          "name": "stdout"
        }
      ]
    },
    {
      "cell_type": "code",
      "metadata": {
        "id": "EInMzdXLd5o8",
        "colab_type": "code",
        "colab": {
          "base_uri": "https://localhost:8080/",
          "height": 51
        },
        "outputId": "bfa4ffac-d7e3-403d-9b7a-51667732de56"
      },
      "source": [
        "model.evaluate(xtr,ytr)"
      ],
      "execution_count": 23,
      "outputs": [
        {
          "output_type": "stream",
          "text": [
            "1563/1563 [==============================] - 5s 3ms/step - loss: 1.1962 - accuracy: 0.5646\n"
          ],
          "name": "stdout"
        },
        {
          "output_type": "execute_result",
          "data": {
            "text/plain": [
              "[1.19620680809021, 0.5645599961280823]"
            ]
          },
          "metadata": {
            "tags": []
          },
          "execution_count": 23
        }
      ]
    },
    {
      "cell_type": "code",
      "metadata": {
        "id": "NX3dcCLwOTP4",
        "colab_type": "code",
        "colab": {
          "base_uri": "https://localhost:8080/",
          "height": 34
        },
        "outputId": "6da9e00b-33cf-452b-c7ad-40218ced8861"
      },
      "source": [
        "score = model.evaluate(xte,yte)"
      ],
      "execution_count": 24,
      "outputs": [
        {
          "output_type": "stream",
          "text": [
            "313/313 [==============================] - 1s 3ms/step - loss: 1.4353 - accuracy: 0.4962\n"
          ],
          "name": "stdout"
        }
      ]
    },
    {
      "cell_type": "code",
      "metadata": {
        "id": "SHmlsgxbA_Bk",
        "colab_type": "code",
        "colab": {
          "base_uri": "https://localhost:8080/",
          "height": 51
        },
        "outputId": "c540ce3c-0a51-4d3b-b035-1052a4661f6e"
      },
      "source": [
        "print('Test loss:', score[0])\n",
        "print('Test accuracy:', score[1])"
      ],
      "execution_count": 25,
      "outputs": [
        {
          "output_type": "stream",
          "text": [
            "Test loss: 1.4352881908416748\n",
            "Test accuracy: 0.49619999527931213\n"
          ],
          "name": "stdout"
        }
      ]
    },
    {
      "cell_type": "code",
      "metadata": {
        "id": "EGHODHTGBUyv",
        "colab_type": "code",
        "colab": {
          "base_uri": "https://localhost:8080/",
          "height": 295
        },
        "outputId": "808c0d7d-3ea3-48c8-9569-d4957e39cb71"
      },
      "source": [
        "plt.plot(history.history['accuracy'])\n",
        "plt.plot(history.history['val_accuracy'])\n",
        "plt.title('model accuracy')\n",
        "plt.ylabel('accuracy')\n",
        "plt.xlabel('epoch')\n",
        "plt.legend(['train', 'test'], loc='upper left')\n",
        "plt.show()"
      ],
      "execution_count": 26,
      "outputs": [
        {
          "output_type": "display_data",
          "data": {
            "image/png": "[encoded data removed]",
            "text/plain": [
              "<Figure size 432x288 with 1 Axes>"
            ]
          },
          "metadata": {
            "tags": [],
            "needs_background": "light"
          }
        }
      ]
    },
    {
      "cell_type": "code",
      "metadata": {
        "id": "WyN_Wd31kLKS",
        "colab_type": "code",
        "colab": {
          "base_uri": "https://localhost:8080/",
          "height": 295
        },
        "outputId": "4707139d-79dd-4b01-a177-ae01c843e4fd"
      },
      "source": [
        "plt.plot(history.history['loss'])\n",
        "plt.plot(history.history['val_loss'])\n",
        "plt.title('model loss')\n",
        "plt.ylabel('loss')\n",
        "plt.xlabel('epoch')\n",
        "plt.legend(['train', 'test'], loc='upper left')\n",
        "plt.show()"
      ],
      "execution_count": 27,
      "outputs": [
        {
          "output_type": "display_data",
          "data": {
            "image/png": "[encoded data removed]",
            "text/plain": [
              "<Figure size 432x288 with 1 Axes>"
            ]
          },
          "metadata": {
            "tags": [],
            "needs_background": "light"
          }
        }
      ]
    },
    {
      "cell_type": "code",
      "metadata": {
        "id": "CX5SOvdwzsv_",
        "colab_type": "code",
        "colab": {}
      },
      "source": [
        ""
      ],
      "execution_count": 27,
      "outputs": []
    }
  ]
}