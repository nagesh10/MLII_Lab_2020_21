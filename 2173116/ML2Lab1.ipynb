{
  "nbformat": 4,
  "nbformat_minor": 0,
  "metadata": {
    "colab": {
      "name": "ML2Lab1.ipynb",
      "provenance": []
    },
    "kernelspec": {
      "name": "python3",
      "display_name": "Python 3"
    },
    "accelerator": "GPU"
  },
  "cells": [
    {
      "cell_type": "code",
      "metadata": {
        "id": "dTXe7NYkpSiU",
        "colab_type": "code",
        "colab": {
          "resources": {
            "http://localhost:8080/nbextensions/google.colab/files.js": {
              "data": "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",
              "ok": true,
              "headers": [
                [
                  "content-type",
                  "application/javascript"
                ]
              ],
              "status": 200,
              "status_text": ""
            }
          },
          "base_uri": "https://localhost:8080/",
          "height": 73
        },
        "outputId": "9009f6d7-eeea-457f-c605-bf9d3765499b"
      },
      "source": [
        "from google.colab import files\n",
        "uploaded = files.upload()"
      ],
      "execution_count": 1,
      "outputs": [
        {
          "output_type": "display_data",
          "data": {
            "text/html": [
              "\n",
              "     <input type=\"file\" id=\"files-eea34722-ddc3-4f75-bbf5-dfd9ea60b469\" name=\"files[]\" multiple disabled\n",
              "        style=\"border:none\" />\n",
              "     <output id=\"result-eea34722-ddc3-4f75-bbf5-dfd9ea60b469\">\n",
              "      Upload widget is only available when the cell has been executed in the\n",
              "      current browser session. Please rerun this cell to enable.\n",
              "      </output>\n",
              "      <script src=\"/nbextensions/google.colab/files.js\"></script> "
            ],
            "text/plain": [
              "<IPython.core.display.HTML object>"
            ]
          },
          "metadata": {
            "tags": []
          }
        },
        {
          "output_type": "stream",
          "text": [
            "Saving diabetes.csv to diabetes (3).csv\n"
          ],
          "name": "stdout"
        }
      ]
    },
    {
      "cell_type": "code",
      "metadata": {
        "id": "qdA94W_fqJT_",
        "colab_type": "code",
        "colab": {}
      },
      "source": [
        "import cv2\n",
        "from google.colab.patches import cv2_imshow \n",
        "import numpy as np\n",
        "from matplotlib import pyplot as plt\n",
        "import pandas as pd\n",
        "import seaborn as sns\n",
        "from sklearn.metrics import classification_report ,confusion_matrix\n",
        "from sklearn.impute import SimpleImputer\n",
        "from sklearn.model_selection import train_test_split\n",
        "%matplotlib inline"
      ],
      "execution_count": 3,
      "outputs": []
    },
    {
      "cell_type": "code",
      "metadata": {
        "id": "vLAPh8vvpuyk",
        "colab_type": "code",
        "colab": {}
      },
      "source": [
        "df = pd.read_csv('diabetes.csv')"
      ],
      "execution_count": 4,
      "outputs": []
    },
    {
      "cell_type": "code",
      "metadata": {
        "id": "we60eAY4qBvT",
        "colab_type": "code",
        "colab": {
          "base_uri": "https://localhost:8080/",
          "height": 297
        },
        "outputId": "0e343b8c-a0e2-4c72-bcc9-04cb7dbe7a7e"
      },
      "source": [
        "df.describe()"
      ],
      "execution_count": 5,
      "outputs": [
        {
          "output_type": "execute_result",
          "data": {
            "text/html": [
              "<div>\n",
              "<style scoped>\n",
              "    .dataframe tbody tr th:only-of-type {\n",
              "        vertical-align: middle;\n",
              "    }\n",
              "\n",
              "    .dataframe tbody tr th {\n",
              "        vertical-align: top;\n",
              "    }\n",
              "\n",
              "    .dataframe thead th {\n",
              "        text-align: right;\n",
              "    }\n",
              "</style>\n",
              "<table border=\"1\" class=\"dataframe\">\n",
              "  <thead>\n",
              "    <tr style=\"text-align: right;\">\n",
              "      <th></th>\n",
              "      <th>Pregnancies</th>\n",
              "      <th>Glucose</th>\n",
              "      <th>BloodPressure</th>\n",
              "      <th>SkinThickness</th>\n",
              "      <th>Insulin</th>\n",
              "      <th>BMI</th>\n",
              "      <th>DiabetesPedigreeFunction</th>\n",
              "      <th>Age</th>\n",
              "      <th>Outcome</th>\n",
              "    </tr>\n",
              "  </thead>\n",
              "  <tbody>\n",
              "    <tr>\n",
              "      <th>count</th>\n",
              "      <td>768.000000</td>\n",
              "      <td>768.000000</td>\n",
              "      <td>768.000000</td>\n",
              "      <td>768.000000</td>\n",
              "      <td>768.000000</td>\n",
              "      <td>768.000000</td>\n",
              "      <td>768.000000</td>\n",
              "      <td>768.000000</td>\n",
              "      <td>768.000000</td>\n",
              "    </tr>\n",
              "    <tr>\n",
              "      <th>mean</th>\n",
              "      <td>3.845052</td>\n",
              "      <td>120.894531</td>\n",
              "      <td>69.105469</td>\n",
              "      <td>20.536458</td>\n",
              "      <td>79.799479</td>\n",
              "      <td>31.992578</td>\n",
              "      <td>0.471876</td>\n",
              "      <td>33.240885</td>\n",
              "      <td>0.348958</td>\n",
              "    </tr>\n",
              "    <tr>\n",
              "      <th>std</th>\n",
              "      <td>3.369578</td>\n",
              "      <td>31.972618</td>\n",
              "      <td>19.355807</td>\n",
              "      <td>15.952218</td>\n",
              "      <td>115.244002</td>\n",
              "      <td>7.884160</td>\n",
              "      <td>0.331329</td>\n",
              "      <td>11.760232</td>\n",
              "      <td>0.476951</td>\n",
              "    </tr>\n",
              "    <tr>\n",
              "      <th>min</th>\n",
              "      <td>0.000000</td>\n",
              "      <td>0.000000</td>\n",
              "      <td>0.000000</td>\n",
              "      <td>0.000000</td>\n",
              "      <td>0.000000</td>\n",
              "      <td>0.000000</td>\n",
              "      <td>0.078000</td>\n",
              "      <td>21.000000</td>\n",
              "      <td>0.000000</td>\n",
              "    </tr>\n",
              "    <tr>\n",
              "      <th>25%</th>\n",
              "      <td>1.000000</td>\n",
              "      <td>99.000000</td>\n",
              "      <td>62.000000</td>\n",
              "      <td>0.000000</td>\n",
              "      <td>0.000000</td>\n",
              "      <td>27.300000</td>\n",
              "      <td>0.243750</td>\n",
              "      <td>24.000000</td>\n",
              "      <td>0.000000</td>\n",
              "    </tr>\n",
              "    <tr>\n",
              "      <th>50%</th>\n",
              "      <td>3.000000</td>\n",
              "      <td>117.000000</td>\n",
              "      <td>72.000000</td>\n",
              "      <td>23.000000</td>\n",
              "      <td>30.500000</td>\n",
              "      <td>32.000000</td>\n",
              "      <td>0.372500</td>\n",
              "      <td>29.000000</td>\n",
              "      <td>0.000000</td>\n",
              "    </tr>\n",
              "    <tr>\n",
              "      <th>75%</th>\n",
              "      <td>6.000000</td>\n",
              "      <td>140.250000</td>\n",
              "      <td>80.000000</td>\n",
              "      <td>32.000000</td>\n",
              "      <td>127.250000</td>\n",
              "      <td>36.600000</td>\n",
              "      <td>0.626250</td>\n",
              "      <td>41.000000</td>\n",
              "      <td>1.000000</td>\n",
              "    </tr>\n",
              "    <tr>\n",
              "      <th>max</th>\n",
              "      <td>17.000000</td>\n",
              "      <td>199.000000</td>\n",
              "      <td>122.000000</td>\n",
              "      <td>99.000000</td>\n",
              "      <td>846.000000</td>\n",
              "      <td>67.100000</td>\n",
              "      <td>2.420000</td>\n",
              "      <td>81.000000</td>\n",
              "      <td>1.000000</td>\n",
              "    </tr>\n",
              "  </tbody>\n",
              "</table>\n",
              "</div>"
            ],
            "text/plain": [
              "       Pregnancies     Glucose  ...         Age     Outcome\n",
              "count   768.000000  768.000000  ...  768.000000  768.000000\n",
              "mean      3.845052  120.894531  ...   33.240885    0.348958\n",
              "std       3.369578   31.972618  ...   11.760232    0.476951\n",
              "min       0.000000    0.000000  ...   21.000000    0.000000\n",
              "25%       1.000000   99.000000  ...   24.000000    0.000000\n",
              "50%       3.000000  117.000000  ...   29.000000    0.000000\n",
              "75%       6.000000  140.250000  ...   41.000000    1.000000\n",
              "max      17.000000  199.000000  ...   81.000000    1.000000\n",
              "\n",
              "[8 rows x 9 columns]"
            ]
          },
          "metadata": {
            "tags": []
          },
          "execution_count": 5
        }
      ]
    },
    {
      "cell_type": "code",
      "metadata": {
        "id": "SdRvF3B2qSOW",
        "colab_type": "code",
        "colab": {
          "base_uri": "https://localhost:8080/",
          "height": 777
        },
        "outputId": "0afe9d90-ff09-49c4-d140-be1093b605bc"
      },
      "source": [
        "df.hist(figsize=(10,10))"
      ],
      "execution_count": 6,
      "outputs": [
        {
          "output_type": "execute_result",
          "data": {
            "text/plain": [
              "array([[<matplotlib.axes._subplots.AxesSubplot object at 0x7f2ebcc9d128>,\n",
              "        <matplotlib.axes._subplots.AxesSubplot object at 0x7f2ebcc70390>,\n",
              "        <matplotlib.axes._subplots.AxesSubplot object at 0x7f2ebcc255f8>],\n",
              "       [<matplotlib.axes._subplots.AxesSubplot object at 0x7f2ebcbd8860>,\n",
              "        <matplotlib.axes._subplots.AxesSubplot object at 0x7f2ebcc0dac8>,\n",
              "        <matplotlib.axes._subplots.AxesSubplot object at 0x7f2ebcbbed30>],\n",
              "       [<matplotlib.axes._subplots.AxesSubplot object at 0x7f2ebcb72f98>,\n",
              "        <matplotlib.axes._subplots.AxesSubplot object at 0x7f2ebcb35208>,\n",
              "        <matplotlib.axes._subplots.AxesSubplot object at 0x7f2ebcb35278>]],\n",
              "      dtype=object)"
            ]
          },
          "metadata": {
            "tags": []
          },
          "execution_count": 6
        },
        {
          "output_type": "display_data",
          "data": {
            "image/png": "[encoded data removed]",
            "text/plain": [
              "<Figure size 720x720 with 9 Axes>"
            ]
          },
          "metadata": {
            "tags": [],
            "needs_background": "light"
          }
        }
      ]
    },
    {
      "cell_type": "code",
      "metadata": {
        "id": "wMhw3ptrqZcG",
        "colab_type": "code",
        "colab": {
          "base_uri": "https://localhost:8080/",
          "height": 187
        },
        "outputId": "0c42c71a-d9d2-40f0-94c2-b21bcd3b094a"
      },
      "source": [
        "df.isnull().sum()"
      ],
      "execution_count": 7,
      "outputs": [
        {
          "output_type": "execute_result",
          "data": {
            "text/plain": [
              "Pregnancies                 0\n",
              "Glucose                     0\n",
              "BloodPressure               0\n",
              "SkinThickness               0\n",
              "Insulin                     0\n",
              "BMI                         0\n",
              "DiabetesPedigreeFunction    0\n",
              "Age                         0\n",
              "Outcome                     0\n",
              "dtype: int64"
            ]
          },
          "metadata": {
            "tags": []
          },
          "execution_count": 7
        }
      ]
    },
    {
      "cell_type": "code",
      "metadata": {
        "id": "V4EHeBrerTpp",
        "colab_type": "code",
        "colab": {}
      },
      "source": [
        "x = df.iloc[:, :-1]  \n",
        "y = df.iloc[:, -1] "
      ],
      "execution_count": 8,
      "outputs": []
    },
    {
      "cell_type": "code",
      "metadata": {
        "id": "RtmuuTRTtgnM",
        "colab_type": "code",
        "colab": {}
      },
      "source": [
        "from sklearn.preprocessing import StandardScaler\n",
        "scaler = StandardScaler()\n",
        "x=scaler.fit_transform(x)"
      ],
      "execution_count": 9,
      "outputs": []
    },
    {
      "cell_type": "code",
      "metadata": {
        "id": "eMqY1fTytsjE",
        "colab_type": "code",
        "colab": {}
      },
      "source": [
        "X_train, X_val_and_test, Y_train, Y_val_and_test = train_test_split(x, y, test_size=0.3)\n",
        "X_val, X_test, Y_val, Y_test = train_test_split(X_val_and_test, Y_val_and_test, test_size=0.5)"
      ],
      "execution_count": 10,
      "outputs": []
    },
    {
      "cell_type": "code",
      "metadata": {
        "id": "bA-4ogxot8DU",
        "colab_type": "code",
        "colab": {
          "base_uri": "https://localhost:8080/",
          "height": 34
        },
        "outputId": "2989d8bb-773e-42a5-fae0-634dac741cb7"
      },
      "source": [
        "print(X_train.shape, X_val.shape, X_test.shape, Y_train.shape, Y_val.shape, Y_test.shape)"
      ],
      "execution_count": 11,
      "outputs": [
        {
          "output_type": "stream",
          "text": [
            "(537, 8) (115, 8) (116, 8) (537,) (115,) (116,)\n"
          ],
          "name": "stdout"
        }
      ]
    },
    {
      "cell_type": "code",
      "metadata": {
        "id": "qt4V4delu-9w",
        "colab_type": "code",
        "colab": {
          "base_uri": "https://localhost:8080/",
          "height": 1000
        },
        "outputId": "f90e6055-174a-4bf0-906b-56964963c124"
      },
      "source": [
        "from keras.models import Sequential\n",
        "from keras.layers import Dense\n",
        "model = Sequential([Dense(32,activation='relu',input_shape=(8,)),Dense(32, activation='relu'),Dense(1, activation='sigmoid'),])\n",
        "model.compile(optimizer='adam',loss='binary_crossentropy',metrics=['accuracy'])\n",
        "hist = model.fit(X_train, Y_train,batch_size=32, epochs=100,validation_data=(X_val, Y_val))"
      ],
      "execution_count": 12,
      "outputs": [
        {
          "output_type": "stream",
          "text": [
            "Epoch 1/100\n",
            "17/17 [==============================] - 0s 11ms/step - loss: 0.6633 - accuracy: 0.6462 - val_loss: 0.6624 - val_accuracy: 0.6609\n",
            "Epoch 2/100\n",
            "17/17 [==============================] - 0s 3ms/step - loss: 0.5988 - accuracy: 0.7393 - val_loss: 0.6253 - val_accuracy: 0.6696\n",
            "Epoch 3/100\n",
            "17/17 [==============================] - 0s 3ms/step - loss: 0.5576 - accuracy: 0.7561 - val_loss: 0.5925 - val_accuracy: 0.6435\n",
            "Epoch 4/100\n",
            "17/17 [==============================] - 0s 3ms/step - loss: 0.5212 - accuracy: 0.7803 - val_loss: 0.5702 - val_accuracy: 0.6609\n",
            "Epoch 5/100\n",
            "17/17 [==============================] - 0s 3ms/step - loss: 0.4941 - accuracy: 0.7896 - val_loss: 0.5524 - val_accuracy: 0.6783\n",
            "Epoch 6/100\n",
            "17/17 [==============================] - 0s 3ms/step - loss: 0.4727 - accuracy: 0.7933 - val_loss: 0.5355 - val_accuracy: 0.7043\n",
            "Epoch 7/100\n",
            "17/17 [==============================] - 0s 3ms/step - loss: 0.4568 - accuracy: 0.7877 - val_loss: 0.5314 - val_accuracy: 0.7217\n",
            "Epoch 8/100\n",
            "17/17 [==============================] - 0s 3ms/step - loss: 0.4472 - accuracy: 0.7914 - val_loss: 0.5316 - val_accuracy: 0.7217\n",
            "Epoch 9/100\n",
            "17/17 [==============================] - 0s 4ms/step - loss: 0.4386 - accuracy: 0.7970 - val_loss: 0.5344 - val_accuracy: 0.7217\n",
            "Epoch 10/100\n",
            "17/17 [==============================] - 0s 3ms/step - loss: 0.4318 - accuracy: 0.8045 - val_loss: 0.5345 - val_accuracy: 0.7304\n",
            "Epoch 11/100\n",
            "17/17 [==============================] - 0s 3ms/step - loss: 0.4263 - accuracy: 0.8045 - val_loss: 0.5374 - val_accuracy: 0.7217\n",
            "Epoch 12/100\n",
            "17/17 [==============================] - 0s 3ms/step - loss: 0.4221 - accuracy: 0.8063 - val_loss: 0.5431 - val_accuracy: 0.7304\n",
            "Epoch 13/100\n",
            "17/17 [==============================] - 0s 3ms/step - loss: 0.4189 - accuracy: 0.8138 - val_loss: 0.5473 - val_accuracy: 0.7304\n",
            "Epoch 14/100\n",
            "17/17 [==============================] - 0s 3ms/step - loss: 0.4149 - accuracy: 0.8045 - val_loss: 0.5456 - val_accuracy: 0.7391\n",
            "Epoch 15/100\n",
            "17/17 [==============================] - 0s 3ms/step - loss: 0.4111 - accuracy: 0.8119 - val_loss: 0.5505 - val_accuracy: 0.7304\n",
            "Epoch 16/100\n",
            "17/17 [==============================] - 0s 4ms/step - loss: 0.4095 - accuracy: 0.8138 - val_loss: 0.5600 - val_accuracy: 0.7130\n",
            "Epoch 17/100\n",
            "17/17 [==============================] - 0s 3ms/step - loss: 0.4065 - accuracy: 0.8231 - val_loss: 0.5554 - val_accuracy: 0.7391\n",
            "Epoch 18/100\n",
            "17/17 [==============================] - 0s 3ms/step - loss: 0.4058 - accuracy: 0.8119 - val_loss: 0.5577 - val_accuracy: 0.7217\n",
            "Epoch 19/100\n",
            "17/17 [==============================] - 0s 3ms/step - loss: 0.4024 - accuracy: 0.8212 - val_loss: 0.5598 - val_accuracy: 0.7304\n",
            "Epoch 20/100\n",
            "17/17 [==============================] - 0s 3ms/step - loss: 0.4001 - accuracy: 0.8212 - val_loss: 0.5651 - val_accuracy: 0.7130\n",
            "Epoch 21/100\n",
            "17/17 [==============================] - 0s 3ms/step - loss: 0.3986 - accuracy: 0.8175 - val_loss: 0.5633 - val_accuracy: 0.7217\n",
            "Epoch 22/100\n",
            "17/17 [==============================] - 0s 3ms/step - loss: 0.3948 - accuracy: 0.8194 - val_loss: 0.5653 - val_accuracy: 0.7304\n",
            "Epoch 23/100\n",
            "17/17 [==============================] - 0s 3ms/step - loss: 0.3933 - accuracy: 0.8231 - val_loss: 0.5701 - val_accuracy: 0.7304\n",
            "Epoch 24/100\n",
            "17/17 [==============================] - 0s 3ms/step - loss: 0.3923 - accuracy: 0.8231 - val_loss: 0.5709 - val_accuracy: 0.7217\n",
            "Epoch 25/100\n",
            "17/17 [==============================] - 0s 3ms/step - loss: 0.3917 - accuracy: 0.8250 - val_loss: 0.5681 - val_accuracy: 0.7217\n",
            "Epoch 26/100\n",
            "17/17 [==============================] - 0s 4ms/step - loss: 0.3884 - accuracy: 0.8231 - val_loss: 0.5733 - val_accuracy: 0.7217\n",
            "Epoch 27/100\n",
            "17/17 [==============================] - 0s 3ms/step - loss: 0.3883 - accuracy: 0.8305 - val_loss: 0.5774 - val_accuracy: 0.7130\n",
            "Epoch 28/100\n",
            "17/17 [==============================] - 0s 3ms/step - loss: 0.3858 - accuracy: 0.8250 - val_loss: 0.5763 - val_accuracy: 0.7304\n",
            "Epoch 29/100\n",
            "17/17 [==============================] - 0s 3ms/step - loss: 0.3837 - accuracy: 0.8324 - val_loss: 0.5760 - val_accuracy: 0.7304\n",
            "Epoch 30/100\n",
            "17/17 [==============================] - 0s 3ms/step - loss: 0.3830 - accuracy: 0.8305 - val_loss: 0.5817 - val_accuracy: 0.7130\n",
            "Epoch 31/100\n",
            "17/17 [==============================] - 0s 3ms/step - loss: 0.3805 - accuracy: 0.8343 - val_loss: 0.5805 - val_accuracy: 0.7304\n",
            "Epoch 32/100\n",
            "17/17 [==============================] - 0s 3ms/step - loss: 0.3808 - accuracy: 0.8268 - val_loss: 0.5841 - val_accuracy: 0.7304\n",
            "Epoch 33/100\n",
            "17/17 [==============================] - 0s 4ms/step - loss: 0.3781 - accuracy: 0.8343 - val_loss: 0.5861 - val_accuracy: 0.7217\n",
            "Epoch 34/100\n",
            "17/17 [==============================] - 0s 3ms/step - loss: 0.3778 - accuracy: 0.8343 - val_loss: 0.5889 - val_accuracy: 0.7217\n",
            "Epoch 35/100\n",
            "17/17 [==============================] - 0s 3ms/step - loss: 0.3749 - accuracy: 0.8324 - val_loss: 0.5860 - val_accuracy: 0.7304\n",
            "Epoch 36/100\n",
            "17/17 [==============================] - 0s 3ms/step - loss: 0.3734 - accuracy: 0.8343 - val_loss: 0.5867 - val_accuracy: 0.7478\n",
            "Epoch 37/100\n",
            "17/17 [==============================] - 0s 3ms/step - loss: 0.3717 - accuracy: 0.8399 - val_loss: 0.5938 - val_accuracy: 0.7217\n",
            "Epoch 38/100\n",
            "17/17 [==============================] - 0s 3ms/step - loss: 0.3705 - accuracy: 0.8343 - val_loss: 0.5909 - val_accuracy: 0.7391\n",
            "Epoch 39/100\n",
            "17/17 [==============================] - 0s 3ms/step - loss: 0.3715 - accuracy: 0.8324 - val_loss: 0.5912 - val_accuracy: 0.7304\n",
            "Epoch 40/100\n",
            "17/17 [==============================] - 0s 3ms/step - loss: 0.3668 - accuracy: 0.8380 - val_loss: 0.5990 - val_accuracy: 0.7304\n",
            "Epoch 41/100\n",
            "17/17 [==============================] - 0s 3ms/step - loss: 0.3666 - accuracy: 0.8380 - val_loss: 0.5955 - val_accuracy: 0.7304\n",
            "Epoch 42/100\n",
            "17/17 [==============================] - 0s 3ms/step - loss: 0.3647 - accuracy: 0.8380 - val_loss: 0.5943 - val_accuracy: 0.7478\n",
            "Epoch 43/100\n",
            "17/17 [==============================] - 0s 4ms/step - loss: 0.3632 - accuracy: 0.8324 - val_loss: 0.6013 - val_accuracy: 0.7304\n",
            "Epoch 44/100\n",
            "17/17 [==============================] - 0s 3ms/step - loss: 0.3618 - accuracy: 0.8380 - val_loss: 0.6052 - val_accuracy: 0.7304\n",
            "Epoch 45/100\n",
            "17/17 [==============================] - 0s 3ms/step - loss: 0.3601 - accuracy: 0.8399 - val_loss: 0.5980 - val_accuracy: 0.7478\n",
            "Epoch 46/100\n",
            "17/17 [==============================] - 0s 3ms/step - loss: 0.3606 - accuracy: 0.8305 - val_loss: 0.6023 - val_accuracy: 0.7391\n",
            "Epoch 47/100\n",
            "17/17 [==============================] - 0s 3ms/step - loss: 0.3580 - accuracy: 0.8399 - val_loss: 0.6063 - val_accuracy: 0.7130\n",
            "Epoch 48/100\n",
            "17/17 [==============================] - 0s 3ms/step - loss: 0.3585 - accuracy: 0.8361 - val_loss: 0.6026 - val_accuracy: 0.7391\n",
            "Epoch 49/100\n",
            "17/17 [==============================] - 0s 3ms/step - loss: 0.3568 - accuracy: 0.8399 - val_loss: 0.6057 - val_accuracy: 0.7391\n",
            "Epoch 50/100\n",
            "17/17 [==============================] - 0s 4ms/step - loss: 0.3535 - accuracy: 0.8399 - val_loss: 0.6104 - val_accuracy: 0.7217\n",
            "Epoch 51/100\n",
            "17/17 [==============================] - 0s 3ms/step - loss: 0.3542 - accuracy: 0.8361 - val_loss: 0.6093 - val_accuracy: 0.7304\n",
            "Epoch 52/100\n",
            "17/17 [==============================] - 0s 4ms/step - loss: 0.3529 - accuracy: 0.8436 - val_loss: 0.6067 - val_accuracy: 0.7304\n",
            "Epoch 53/100\n",
            "17/17 [==============================] - 0s 3ms/step - loss: 0.3500 - accuracy: 0.8380 - val_loss: 0.6128 - val_accuracy: 0.7304\n",
            "Epoch 54/100\n",
            "17/17 [==============================] - 0s 3ms/step - loss: 0.3478 - accuracy: 0.8399 - val_loss: 0.6117 - val_accuracy: 0.7304\n",
            "Epoch 55/100\n",
            "17/17 [==============================] - 0s 3ms/step - loss: 0.3478 - accuracy: 0.8380 - val_loss: 0.6166 - val_accuracy: 0.7217\n",
            "Epoch 56/100\n",
            "17/17 [==============================] - 0s 3ms/step - loss: 0.3453 - accuracy: 0.8473 - val_loss: 0.6190 - val_accuracy: 0.7217\n",
            "Epoch 57/100\n",
            "17/17 [==============================] - 0s 3ms/step - loss: 0.3442 - accuracy: 0.8454 - val_loss: 0.6153 - val_accuracy: 0.7304\n",
            "Epoch 58/100\n",
            "17/17 [==============================] - 0s 3ms/step - loss: 0.3429 - accuracy: 0.8417 - val_loss: 0.6200 - val_accuracy: 0.7304\n",
            "Epoch 59/100\n",
            "17/17 [==============================] - 0s 3ms/step - loss: 0.3415 - accuracy: 0.8454 - val_loss: 0.6181 - val_accuracy: 0.7217\n",
            "Epoch 60/100\n",
            "17/17 [==============================] - 0s 3ms/step - loss: 0.3410 - accuracy: 0.8473 - val_loss: 0.6211 - val_accuracy: 0.7217\n",
            "Epoch 61/100\n",
            "17/17 [==============================] - 0s 3ms/step - loss: 0.3393 - accuracy: 0.8454 - val_loss: 0.6267 - val_accuracy: 0.7217\n",
            "Epoch 62/100\n",
            "17/17 [==============================] - 0s 3ms/step - loss: 0.3380 - accuracy: 0.8436 - val_loss: 0.6267 - val_accuracy: 0.7130\n",
            "Epoch 63/100\n",
            "17/17 [==============================] - 0s 3ms/step - loss: 0.3396 - accuracy: 0.8492 - val_loss: 0.6279 - val_accuracy: 0.7130\n",
            "Epoch 64/100\n",
            "17/17 [==============================] - 0s 3ms/step - loss: 0.3349 - accuracy: 0.8547 - val_loss: 0.6210 - val_accuracy: 0.7304\n",
            "Epoch 65/100\n",
            "17/17 [==============================] - 0s 3ms/step - loss: 0.3334 - accuracy: 0.8529 - val_loss: 0.6306 - val_accuracy: 0.7130\n",
            "Epoch 66/100\n",
            "17/17 [==============================] - 0s 3ms/step - loss: 0.3333 - accuracy: 0.8547 - val_loss: 0.6289 - val_accuracy: 0.7217\n",
            "Epoch 67/100\n",
            "17/17 [==============================] - 0s 3ms/step - loss: 0.3309 - accuracy: 0.8547 - val_loss: 0.6308 - val_accuracy: 0.7304\n",
            "Epoch 68/100\n",
            "17/17 [==============================] - 0s 3ms/step - loss: 0.3302 - accuracy: 0.8603 - val_loss: 0.6390 - val_accuracy: 0.7043\n",
            "Epoch 69/100\n",
            "17/17 [==============================] - 0s 3ms/step - loss: 0.3284 - accuracy: 0.8547 - val_loss: 0.6326 - val_accuracy: 0.7043\n",
            "Epoch 70/100\n",
            "17/17 [==============================] - 0s 3ms/step - loss: 0.3265 - accuracy: 0.8547 - val_loss: 0.6360 - val_accuracy: 0.7130\n",
            "Epoch 71/100\n",
            "17/17 [==============================] - 0s 3ms/step - loss: 0.3258 - accuracy: 0.8622 - val_loss: 0.6428 - val_accuracy: 0.7217\n",
            "Epoch 72/100\n",
            "17/17 [==============================] - 0s 3ms/step - loss: 0.3283 - accuracy: 0.8585 - val_loss: 0.6441 - val_accuracy: 0.7217\n",
            "Epoch 73/100\n",
            "17/17 [==============================] - 0s 3ms/step - loss: 0.3243 - accuracy: 0.8678 - val_loss: 0.6349 - val_accuracy: 0.7217\n",
            "Epoch 74/100\n",
            "17/17 [==============================] - 0s 4ms/step - loss: 0.3257 - accuracy: 0.8585 - val_loss: 0.6468 - val_accuracy: 0.6957\n",
            "Epoch 75/100\n",
            "17/17 [==============================] - 0s 4ms/step - loss: 0.3202 - accuracy: 0.8622 - val_loss: 0.6402 - val_accuracy: 0.7217\n",
            "Epoch 76/100\n",
            "17/17 [==============================] - 0s 3ms/step - loss: 0.3207 - accuracy: 0.8678 - val_loss: 0.6457 - val_accuracy: 0.7304\n",
            "Epoch 77/100\n",
            "17/17 [==============================] - 0s 3ms/step - loss: 0.3179 - accuracy: 0.8696 - val_loss: 0.6455 - val_accuracy: 0.7043\n",
            "Epoch 78/100\n",
            "17/17 [==============================] - 0s 3ms/step - loss: 0.3160 - accuracy: 0.8678 - val_loss: 0.6487 - val_accuracy: 0.7130\n",
            "Epoch 79/100\n",
            "17/17 [==============================] - 0s 3ms/step - loss: 0.3169 - accuracy: 0.8622 - val_loss: 0.6475 - val_accuracy: 0.7217\n",
            "Epoch 80/100\n",
            "17/17 [==============================] - 0s 3ms/step - loss: 0.3144 - accuracy: 0.8622 - val_loss: 0.6507 - val_accuracy: 0.7391\n",
            "Epoch 81/100\n",
            "17/17 [==============================] - 0s 3ms/step - loss: 0.3154 - accuracy: 0.8641 - val_loss: 0.6532 - val_accuracy: 0.7130\n",
            "Epoch 82/100\n",
            "17/17 [==============================] - 0s 3ms/step - loss: 0.3122 - accuracy: 0.8641 - val_loss: 0.6548 - val_accuracy: 0.7043\n",
            "Epoch 83/100\n",
            "17/17 [==============================] - 0s 3ms/step - loss: 0.3108 - accuracy: 0.8752 - val_loss: 0.6558 - val_accuracy: 0.7130\n",
            "Epoch 84/100\n",
            "17/17 [==============================] - 0s 4ms/step - loss: 0.3094 - accuracy: 0.8734 - val_loss: 0.6537 - val_accuracy: 0.7304\n",
            "Epoch 85/100\n",
            "17/17 [==============================] - 0s 3ms/step - loss: 0.3075 - accuracy: 0.8678 - val_loss: 0.6594 - val_accuracy: 0.7130\n",
            "Epoch 86/100\n",
            "17/17 [==============================] - 0s 3ms/step - loss: 0.3055 - accuracy: 0.8771 - val_loss: 0.6630 - val_accuracy: 0.6957\n",
            "Epoch 87/100\n",
            "17/17 [==============================] - 0s 3ms/step - loss: 0.3048 - accuracy: 0.8752 - val_loss: 0.6639 - val_accuracy: 0.7304\n",
            "Epoch 88/100\n",
            "17/17 [==============================] - 0s 3ms/step - loss: 0.3037 - accuracy: 0.8696 - val_loss: 0.6642 - val_accuracy: 0.6957\n",
            "Epoch 89/100\n",
            "17/17 [==============================] - 0s 3ms/step - loss: 0.3016 - accuracy: 0.8790 - val_loss: 0.6679 - val_accuracy: 0.7217\n",
            "Epoch 90/100\n",
            "17/17 [==============================] - 0s 3ms/step - loss: 0.3018 - accuracy: 0.8715 - val_loss: 0.6687 - val_accuracy: 0.7217\n",
            "Epoch 91/100\n",
            "17/17 [==============================] - 0s 3ms/step - loss: 0.2997 - accuracy: 0.8827 - val_loss: 0.6757 - val_accuracy: 0.7130\n",
            "Epoch 92/100\n",
            "17/17 [==============================] - 0s 3ms/step - loss: 0.2986 - accuracy: 0.8808 - val_loss: 0.6706 - val_accuracy: 0.7130\n",
            "Epoch 93/100\n",
            "17/17 [==============================] - 0s 3ms/step - loss: 0.2962 - accuracy: 0.8845 - val_loss: 0.6661 - val_accuracy: 0.7217\n",
            "Epoch 94/100\n",
            "17/17 [==============================] - 0s 3ms/step - loss: 0.2953 - accuracy: 0.8752 - val_loss: 0.6750 - val_accuracy: 0.7130\n",
            "Epoch 95/100\n",
            "17/17 [==============================] - 0s 3ms/step - loss: 0.2924 - accuracy: 0.8827 - val_loss: 0.6833 - val_accuracy: 0.7304\n",
            "Epoch 96/100\n",
            "17/17 [==============================] - 0s 3ms/step - loss: 0.2924 - accuracy: 0.8845 - val_loss: 0.6831 - val_accuracy: 0.7130\n",
            "Epoch 97/100\n",
            "17/17 [==============================] - 0s 3ms/step - loss: 0.2905 - accuracy: 0.8790 - val_loss: 0.6853 - val_accuracy: 0.7130\n",
            "Epoch 98/100\n",
            "17/17 [==============================] - 0s 3ms/step - loss: 0.2914 - accuracy: 0.8771 - val_loss: 0.6796 - val_accuracy: 0.7217\n",
            "Epoch 99/100\n",
            "17/17 [==============================] - 0s 3ms/step - loss: 0.2871 - accuracy: 0.8976 - val_loss: 0.6852 - val_accuracy: 0.7217\n",
            "Epoch 100/100\n",
            "17/17 [==============================] - 0s 3ms/step - loss: 0.2856 - accuracy: 0.8883 - val_loss: 0.6890 - val_accuracy: 0.7130\n"
          ],
          "name": "stdout"
        }
      ]
    },
    {
      "cell_type": "code",
      "metadata": {
        "id": "_Fnr8nOFvKJm",
        "colab_type": "code",
        "colab": {
          "base_uri": "https://localhost:8080/",
          "height": 51
        },
        "outputId": "b258334c-13f3-440b-82a9-b3cf2dbd864b"
      },
      "source": [
        "model.evaluate(X_test, Y_test)"
      ],
      "execution_count": 14,
      "outputs": [
        {
          "output_type": "stream",
          "text": [
            "4/4 [==============================] - 0s 2ms/step - loss: 0.5721 - accuracy: 0.7500\n"
          ],
          "name": "stdout"
        },
        {
          "output_type": "execute_result",
          "data": {
            "text/plain": [
              "[0.5721232891082764, 0.75]"
            ]
          },
          "metadata": {
            "tags": []
          },
          "execution_count": 14
        }
      ]
    },
    {
      "cell_type": "code",
      "metadata": {
        "id": "nEd7UMqXwe9-",
        "colab_type": "code",
        "colab": {
          "base_uri": "https://localhost:8080/",
          "height": 1000
        },
        "outputId": "46915ac9-c5b6-4433-d009-19215a261c54"
      },
      "source": [
        "model2 = Sequential([Dense(32,activation='relu',input_shape=(8,)),Dense(40, activation='relu'),Dense(1, activation='sigmoid'),])\n",
        "model2.compile(optimizer='sgd',loss='binary_crossentropy',metrics=['accuracy'])\n",
        "hist2 = model.fit(X_train, Y_train,batch_size=32, epochs=100,validation_data=(X_val, Y_val))"
      ],
      "execution_count": 20,
      "outputs": [
        {
          "output_type": "stream",
          "text": [
            "Epoch 1/100\n",
            "17/17 [==============================] - 0s 5ms/step - loss: 0.1488 - accuracy: 0.9590 - val_loss: 0.9411 - val_accuracy: 0.6870\n",
            "Epoch 2/100\n",
            "17/17 [==============================] - 0s 3ms/step - loss: 0.1470 - accuracy: 0.9590 - val_loss: 0.9589 - val_accuracy: 0.6870\n",
            "Epoch 3/100\n",
            "17/17 [==============================] - 0s 3ms/step - loss: 0.1470 - accuracy: 0.9609 - val_loss: 0.9472 - val_accuracy: 0.6870\n",
            "Epoch 4/100\n",
            "17/17 [==============================] - 0s 3ms/step - loss: 0.1450 - accuracy: 0.9572 - val_loss: 0.9577 - val_accuracy: 0.6957\n",
            "Epoch 5/100\n",
            "17/17 [==============================] - 0s 3ms/step - loss: 0.1450 - accuracy: 0.9553 - val_loss: 0.9620 - val_accuracy: 0.6870\n",
            "Epoch 6/100\n",
            "17/17 [==============================] - 0s 3ms/step - loss: 0.1431 - accuracy: 0.9628 - val_loss: 0.9604 - val_accuracy: 0.6783\n",
            "Epoch 7/100\n",
            "17/17 [==============================] - 0s 3ms/step - loss: 0.1403 - accuracy: 0.9628 - val_loss: 0.9878 - val_accuracy: 0.6957\n",
            "Epoch 8/100\n",
            "17/17 [==============================] - 0s 3ms/step - loss: 0.1421 - accuracy: 0.9572 - val_loss: 0.9624 - val_accuracy: 0.6870\n",
            "Epoch 9/100\n",
            "17/17 [==============================] - 0s 3ms/step - loss: 0.1404 - accuracy: 0.9665 - val_loss: 0.9813 - val_accuracy: 0.6696\n",
            "Epoch 10/100\n",
            "17/17 [==============================] - 0s 3ms/step - loss: 0.1402 - accuracy: 0.9628 - val_loss: 0.9880 - val_accuracy: 0.6870\n",
            "Epoch 11/100\n",
            "17/17 [==============================] - 0s 3ms/step - loss: 0.1377 - accuracy: 0.9628 - val_loss: 0.9872 - val_accuracy: 0.6870\n",
            "Epoch 12/100\n",
            "17/17 [==============================] - 0s 3ms/step - loss: 0.1371 - accuracy: 0.9628 - val_loss: 0.9780 - val_accuracy: 0.6696\n",
            "Epoch 13/100\n",
            "17/17 [==============================] - 0s 3ms/step - loss: 0.1365 - accuracy: 0.9665 - val_loss: 0.9961 - val_accuracy: 0.6696\n",
            "Epoch 14/100\n",
            "17/17 [==============================] - 0s 4ms/step - loss: 0.1356 - accuracy: 0.9590 - val_loss: 0.9959 - val_accuracy: 0.6783\n",
            "Epoch 15/100\n",
            "17/17 [==============================] - 0s 3ms/step - loss: 0.1327 - accuracy: 0.9646 - val_loss: 1.0018 - val_accuracy: 0.6783\n",
            "Epoch 16/100\n",
            "17/17 [==============================] - 0s 3ms/step - loss: 0.1324 - accuracy: 0.9646 - val_loss: 1.0084 - val_accuracy: 0.6783\n",
            "Epoch 17/100\n",
            "17/17 [==============================] - 0s 3ms/step - loss: 0.1322 - accuracy: 0.9646 - val_loss: 1.0009 - val_accuracy: 0.6609\n",
            "Epoch 18/100\n",
            "17/17 [==============================] - 0s 4ms/step - loss: 0.1325 - accuracy: 0.9646 - val_loss: 1.0115 - val_accuracy: 0.6783\n",
            "Epoch 19/100\n",
            "17/17 [==============================] - 0s 3ms/step - loss: 0.1293 - accuracy: 0.9628 - val_loss: 1.0274 - val_accuracy: 0.6696\n",
            "Epoch 20/100\n",
            "17/17 [==============================] - 0s 3ms/step - loss: 0.1277 - accuracy: 0.9628 - val_loss: 1.0350 - val_accuracy: 0.6783\n",
            "Epoch 21/100\n",
            "17/17 [==============================] - 0s 3ms/step - loss: 0.1266 - accuracy: 0.9683 - val_loss: 1.0298 - val_accuracy: 0.6783\n",
            "Epoch 22/100\n",
            "17/17 [==============================] - 0s 3ms/step - loss: 0.1259 - accuracy: 0.9683 - val_loss: 1.0332 - val_accuracy: 0.6609\n",
            "Epoch 23/100\n",
            "17/17 [==============================] - 0s 3ms/step - loss: 0.1249 - accuracy: 0.9646 - val_loss: 1.0351 - val_accuracy: 0.6696\n",
            "Epoch 24/100\n",
            "17/17 [==============================] - 0s 3ms/step - loss: 0.1258 - accuracy: 0.9646 - val_loss: 1.0545 - val_accuracy: 0.6696\n",
            "Epoch 25/100\n",
            "17/17 [==============================] - 0s 4ms/step - loss: 0.1275 - accuracy: 0.9646 - val_loss: 1.0619 - val_accuracy: 0.6696\n",
            "Epoch 26/100\n",
            "17/17 [==============================] - 0s 4ms/step - loss: 0.1238 - accuracy: 0.9702 - val_loss: 1.0401 - val_accuracy: 0.6696\n",
            "Epoch 27/100\n",
            "17/17 [==============================] - 0s 4ms/step - loss: 0.1222 - accuracy: 0.9646 - val_loss: 1.0790 - val_accuracy: 0.6696\n",
            "Epoch 28/100\n",
            "17/17 [==============================] - 0s 3ms/step - loss: 0.1210 - accuracy: 0.9665 - val_loss: 1.0593 - val_accuracy: 0.6609\n",
            "Epoch 29/100\n",
            "17/17 [==============================] - 0s 4ms/step - loss: 0.1210 - accuracy: 0.9665 - val_loss: 1.0771 - val_accuracy: 0.6696\n",
            "Epoch 30/100\n",
            "17/17 [==============================] - 0s 4ms/step - loss: 0.1217 - accuracy: 0.9646 - val_loss: 1.0990 - val_accuracy: 0.6783\n",
            "Epoch 31/100\n",
            "17/17 [==============================] - 0s 3ms/step - loss: 0.1176 - accuracy: 0.9702 - val_loss: 1.0714 - val_accuracy: 0.6609\n",
            "Epoch 32/100\n",
            "17/17 [==============================] - 0s 3ms/step - loss: 0.1170 - accuracy: 0.9683 - val_loss: 1.0724 - val_accuracy: 0.6609\n",
            "Epoch 33/100\n",
            "17/17 [==============================] - 0s 3ms/step - loss: 0.1172 - accuracy: 0.9665 - val_loss: 1.0781 - val_accuracy: 0.6435\n",
            "Epoch 34/100\n",
            "17/17 [==============================] - 0s 3ms/step - loss: 0.1173 - accuracy: 0.9683 - val_loss: 1.1031 - val_accuracy: 0.6783\n",
            "Epoch 35/100\n",
            "17/17 [==============================] - 0s 4ms/step - loss: 0.1149 - accuracy: 0.9646 - val_loss: 1.0861 - val_accuracy: 0.6435\n",
            "Epoch 36/100\n",
            "17/17 [==============================] - 0s 4ms/step - loss: 0.1142 - accuracy: 0.9721 - val_loss: 1.1096 - val_accuracy: 0.6609\n",
            "Epoch 37/100\n",
            "17/17 [==============================] - 0s 3ms/step - loss: 0.1108 - accuracy: 0.9758 - val_loss: 1.0993 - val_accuracy: 0.6348\n",
            "Epoch 38/100\n",
            "17/17 [==============================] - 0s 3ms/step - loss: 0.1126 - accuracy: 0.9702 - val_loss: 1.1028 - val_accuracy: 0.6435\n",
            "Epoch 39/100\n",
            "17/17 [==============================] - 0s 3ms/step - loss: 0.1111 - accuracy: 0.9758 - val_loss: 1.1062 - val_accuracy: 0.6609\n",
            "Epoch 40/100\n",
            "17/17 [==============================] - 0s 3ms/step - loss: 0.1111 - accuracy: 0.9702 - val_loss: 1.1225 - val_accuracy: 0.6609\n",
            "Epoch 41/100\n",
            "17/17 [==============================] - 0s 4ms/step - loss: 0.1099 - accuracy: 0.9739 - val_loss: 1.1207 - val_accuracy: 0.6435\n",
            "Epoch 42/100\n",
            "17/17 [==============================] - 0s 3ms/step - loss: 0.1071 - accuracy: 0.9758 - val_loss: 1.1402 - val_accuracy: 0.6696\n",
            "Epoch 43/100\n",
            "17/17 [==============================] - 0s 3ms/step - loss: 0.1070 - accuracy: 0.9739 - val_loss: 1.1273 - val_accuracy: 0.6522\n",
            "Epoch 44/100\n",
            "17/17 [==============================] - 0s 3ms/step - loss: 0.1079 - accuracy: 0.9739 - val_loss: 1.1387 - val_accuracy: 0.6435\n",
            "Epoch 45/100\n",
            "17/17 [==============================] - 0s 3ms/step - loss: 0.1058 - accuracy: 0.9721 - val_loss: 1.1328 - val_accuracy: 0.6348\n",
            "Epoch 46/100\n",
            "17/17 [==============================] - 0s 4ms/step - loss: 0.1041 - accuracy: 0.9777 - val_loss: 1.1554 - val_accuracy: 0.6522\n",
            "Epoch 47/100\n",
            "17/17 [==============================] - 0s 3ms/step - loss: 0.1044 - accuracy: 0.9814 - val_loss: 1.1532 - val_accuracy: 0.6522\n",
            "Epoch 48/100\n",
            "17/17 [==============================] - 0s 3ms/step - loss: 0.1031 - accuracy: 0.9795 - val_loss: 1.1514 - val_accuracy: 0.6609\n",
            "Epoch 49/100\n",
            "17/17 [==============================] - 0s 3ms/step - loss: 0.1018 - accuracy: 0.9777 - val_loss: 1.1493 - val_accuracy: 0.6348\n",
            "Epoch 50/100\n",
            "17/17 [==============================] - 0s 3ms/step - loss: 0.1028 - accuracy: 0.9758 - val_loss: 1.1718 - val_accuracy: 0.6696\n",
            "Epoch 51/100\n",
            "17/17 [==============================] - 0s 3ms/step - loss: 0.1008 - accuracy: 0.9814 - val_loss: 1.1769 - val_accuracy: 0.6522\n",
            "Epoch 52/100\n",
            "17/17 [==============================] - 0s 3ms/step - loss: 0.0997 - accuracy: 0.9814 - val_loss: 1.1904 - val_accuracy: 0.6609\n",
            "Epoch 53/100\n",
            "17/17 [==============================] - 0s 4ms/step - loss: 0.1001 - accuracy: 0.9814 - val_loss: 1.1694 - val_accuracy: 0.6348\n",
            "Epoch 54/100\n",
            "17/17 [==============================] - 0s 3ms/step - loss: 0.1001 - accuracy: 0.9758 - val_loss: 1.1814 - val_accuracy: 0.6435\n",
            "Epoch 55/100\n",
            "17/17 [==============================] - 0s 3ms/step - loss: 0.0986 - accuracy: 0.9832 - val_loss: 1.1966 - val_accuracy: 0.6609\n",
            "Epoch 56/100\n",
            "17/17 [==============================] - 0s 3ms/step - loss: 0.0977 - accuracy: 0.9814 - val_loss: 1.1763 - val_accuracy: 0.6522\n",
            "Epoch 57/100\n",
            "17/17 [==============================] - 0s 4ms/step - loss: 0.0979 - accuracy: 0.9814 - val_loss: 1.2117 - val_accuracy: 0.6609\n",
            "Epoch 58/100\n",
            "17/17 [==============================] - 0s 3ms/step - loss: 0.0956 - accuracy: 0.9814 - val_loss: 1.1973 - val_accuracy: 0.6522\n",
            "Epoch 59/100\n",
            "17/17 [==============================] - 0s 3ms/step - loss: 0.0954 - accuracy: 0.9814 - val_loss: 1.2146 - val_accuracy: 0.6609\n",
            "Epoch 60/100\n",
            "17/17 [==============================] - 0s 3ms/step - loss: 0.0944 - accuracy: 0.9814 - val_loss: 1.2097 - val_accuracy: 0.6435\n",
            "Epoch 61/100\n",
            "17/17 [==============================] - 0s 4ms/step - loss: 0.0927 - accuracy: 0.9814 - val_loss: 1.2148 - val_accuracy: 0.6609\n",
            "Epoch 62/100\n",
            "17/17 [==============================] - 0s 3ms/step - loss: 0.0926 - accuracy: 0.9795 - val_loss: 1.2227 - val_accuracy: 0.6435\n",
            "Epoch 63/100\n",
            "17/17 [==============================] - 0s 4ms/step - loss: 0.0921 - accuracy: 0.9795 - val_loss: 1.2206 - val_accuracy: 0.6435\n",
            "Epoch 64/100\n",
            "17/17 [==============================] - 0s 3ms/step - loss: 0.0905 - accuracy: 0.9832 - val_loss: 1.2507 - val_accuracy: 0.6522\n",
            "Epoch 65/100\n",
            "17/17 [==============================] - 0s 3ms/step - loss: 0.0904 - accuracy: 0.9832 - val_loss: 1.2251 - val_accuracy: 0.6522\n",
            "Epoch 66/100\n",
            "17/17 [==============================] - 0s 3ms/step - loss: 0.0896 - accuracy: 0.9814 - val_loss: 1.2253 - val_accuracy: 0.6435\n",
            "Epoch 67/100\n",
            "17/17 [==============================] - 0s 3ms/step - loss: 0.0902 - accuracy: 0.9777 - val_loss: 1.2532 - val_accuracy: 0.6435\n",
            "Epoch 68/100\n",
            "17/17 [==============================] - 0s 3ms/step - loss: 0.0881 - accuracy: 0.9814 - val_loss: 1.2451 - val_accuracy: 0.6435\n",
            "Epoch 69/100\n",
            "17/17 [==============================] - 0s 3ms/step - loss: 0.0864 - accuracy: 0.9851 - val_loss: 1.2621 - val_accuracy: 0.6435\n",
            "Epoch 70/100\n",
            "17/17 [==============================] - 0s 3ms/step - loss: 0.0871 - accuracy: 0.9814 - val_loss: 1.2369 - val_accuracy: 0.6435\n",
            "Epoch 71/100\n",
            "17/17 [==============================] - 0s 3ms/step - loss: 0.0858 - accuracy: 0.9851 - val_loss: 1.2617 - val_accuracy: 0.6435\n",
            "Epoch 72/100\n",
            "17/17 [==============================] - 0s 3ms/step - loss: 0.0846 - accuracy: 0.9851 - val_loss: 1.2677 - val_accuracy: 0.6522\n",
            "Epoch 73/100\n",
            "17/17 [==============================] - 0s 3ms/step - loss: 0.0841 - accuracy: 0.9832 - val_loss: 1.2740 - val_accuracy: 0.6348\n",
            "Epoch 74/100\n",
            "17/17 [==============================] - 0s 4ms/step - loss: 0.0826 - accuracy: 0.9851 - val_loss: 1.2738 - val_accuracy: 0.6435\n",
            "Epoch 75/100\n",
            "17/17 [==============================] - 0s 3ms/step - loss: 0.0838 - accuracy: 0.9795 - val_loss: 1.2658 - val_accuracy: 0.6522\n",
            "Epoch 76/100\n",
            "17/17 [==============================] - 0s 3ms/step - loss: 0.0845 - accuracy: 0.9795 - val_loss: 1.2693 - val_accuracy: 0.6435\n",
            "Epoch 77/100\n",
            "17/17 [==============================] - 0s 3ms/step - loss: 0.0847 - accuracy: 0.9795 - val_loss: 1.3142 - val_accuracy: 0.6522\n",
            "Epoch 78/100\n",
            "17/17 [==============================] - 0s 3ms/step - loss: 0.0826 - accuracy: 0.9814 - val_loss: 1.2891 - val_accuracy: 0.6435\n",
            "Epoch 79/100\n",
            "17/17 [==============================] - 0s 3ms/step - loss: 0.0823 - accuracy: 0.9814 - val_loss: 1.2823 - val_accuracy: 0.6522\n",
            "Epoch 80/100\n",
            "17/17 [==============================] - 0s 3ms/step - loss: 0.0818 - accuracy: 0.9851 - val_loss: 1.2940 - val_accuracy: 0.6522\n",
            "Epoch 81/100\n",
            "17/17 [==============================] - 0s 3ms/step - loss: 0.0803 - accuracy: 0.9851 - val_loss: 1.3133 - val_accuracy: 0.6522\n",
            "Epoch 82/100\n",
            "17/17 [==============================] - 0s 3ms/step - loss: 0.0798 - accuracy: 0.9777 - val_loss: 1.3082 - val_accuracy: 0.6609\n",
            "Epoch 83/100\n",
            "17/17 [==============================] - 0s 3ms/step - loss: 0.0786 - accuracy: 0.9851 - val_loss: 1.3110 - val_accuracy: 0.6522\n",
            "Epoch 84/100\n",
            "17/17 [==============================] - 0s 3ms/step - loss: 0.0798 - accuracy: 0.9870 - val_loss: 1.3215 - val_accuracy: 0.6522\n",
            "Epoch 85/100\n",
            "17/17 [==============================] - 0s 3ms/step - loss: 0.0791 - accuracy: 0.9795 - val_loss: 1.3181 - val_accuracy: 0.6522\n",
            "Epoch 86/100\n",
            "17/17 [==============================] - 0s 3ms/step - loss: 0.0757 - accuracy: 0.9851 - val_loss: 1.3229 - val_accuracy: 0.6435\n",
            "Epoch 87/100\n",
            "17/17 [==============================] - 0s 3ms/step - loss: 0.0748 - accuracy: 0.9870 - val_loss: 1.3307 - val_accuracy: 0.6435\n",
            "Epoch 88/100\n",
            "17/17 [==============================] - 0s 3ms/step - loss: 0.0736 - accuracy: 0.9870 - val_loss: 1.3323 - val_accuracy: 0.6522\n",
            "Epoch 89/100\n",
            "17/17 [==============================] - 0s 3ms/step - loss: 0.0756 - accuracy: 0.9851 - val_loss: 1.3790 - val_accuracy: 0.6609\n",
            "Epoch 90/100\n",
            "17/17 [==============================] - 0s 4ms/step - loss: 0.0754 - accuracy: 0.9870 - val_loss: 1.3455 - val_accuracy: 0.6435\n",
            "Epoch 91/100\n",
            "17/17 [==============================] - 0s 3ms/step - loss: 0.0736 - accuracy: 0.9888 - val_loss: 1.3359 - val_accuracy: 0.6435\n",
            "Epoch 92/100\n",
            "17/17 [==============================] - 0s 3ms/step - loss: 0.0718 - accuracy: 0.9851 - val_loss: 1.3501 - val_accuracy: 0.6609\n",
            "Epoch 93/100\n",
            "17/17 [==============================] - 0s 3ms/step - loss: 0.0733 - accuracy: 0.9851 - val_loss: 1.3504 - val_accuracy: 0.6522\n",
            "Epoch 94/100\n",
            "17/17 [==============================] - 0s 3ms/step - loss: 0.0715 - accuracy: 0.9870 - val_loss: 1.3502 - val_accuracy: 0.6435\n",
            "Epoch 95/100\n",
            "17/17 [==============================] - 0s 3ms/step - loss: 0.0717 - accuracy: 0.9870 - val_loss: 1.3672 - val_accuracy: 0.6522\n",
            "Epoch 96/100\n",
            "17/17 [==============================] - 0s 4ms/step - loss: 0.0725 - accuracy: 0.9851 - val_loss: 1.3479 - val_accuracy: 0.6435\n",
            "Epoch 97/100\n",
            "17/17 [==============================] - 0s 3ms/step - loss: 0.0692 - accuracy: 0.9870 - val_loss: 1.3943 - val_accuracy: 0.6522\n",
            "Epoch 98/100\n",
            "17/17 [==============================] - 0s 3ms/step - loss: 0.0703 - accuracy: 0.9851 - val_loss: 1.3684 - val_accuracy: 0.6348\n",
            "Epoch 99/100\n",
            "17/17 [==============================] - 0s 3ms/step - loss: 0.0690 - accuracy: 0.9888 - val_loss: 1.3828 - val_accuracy: 0.6435\n",
            "Epoch 100/100\n",
            "17/17 [==============================] - 0s 4ms/step - loss: 0.0678 - accuracy: 0.9870 - val_loss: 1.3641 - val_accuracy: 0.6522\n"
          ],
          "name": "stdout"
        }
      ]
    },
    {
      "cell_type": "code",
      "metadata": {
        "id": "iXzqZhPTwuh_",
        "colab_type": "code",
        "colab": {
          "base_uri": "https://localhost:8080/",
          "height": 51
        },
        "outputId": "d42a5f0d-9146-4659-d11d-122e467d1bab"
      },
      "source": [
        "model2.evaluate(X_test, Y_test)"
      ],
      "execution_count": 16,
      "outputs": [
        {
          "output_type": "stream",
          "text": [
            "4/4 [==============================] - 0s 2ms/step - loss: 0.7237 - accuracy: 0.3966\n"
          ],
          "name": "stdout"
        },
        {
          "output_type": "execute_result",
          "data": {
            "text/plain": [
              "[0.7236900925636292, 0.3965517282485962]"
            ]
          },
          "metadata": {
            "tags": []
          },
          "execution_count": 16
        }
      ]
    },
    {
      "cell_type": "code",
      "metadata": {
        "id": "2R8DILL_fsAt",
        "colab_type": "code",
        "colab": {
          "base_uri": "https://localhost:8080/",
          "height": 295
        },
        "outputId": "dc334e4f-492f-4290-fc9b-ff42dfa18297"
      },
      "source": [
        "plt.plot(hist.history['val_loss'])\n",
        "plt.plot(hist.history['val_accuracy'])\n",
        "plt.title('ADAM')\n",
        "plt.ylabel('Loss')\n",
        "plt.xlabel('Epoch')\n",
        "plt.legend(['Train', 'Val'], loc='upper right')\n",
        "plt.show()"
      ],
      "execution_count": 18,
      "outputs": [
        {
          "output_type": "display_data",
          "data": {
            "image/png": "[encoded data removed]",
            "text/plain": [
              "<Figure size 432x288 with 1 Axes>"
            ]
          },
          "metadata": {
            "tags": [],
            "needs_background": "light"
          }
        }
      ]
    },
    {
      "cell_type": "code",
      "metadata": {
        "id": "8biwC5s9iFMp",
        "colab_type": "code",
        "colab": {
          "base_uri": "https://localhost:8080/",
          "height": 295
        },
        "outputId": "168bd275-48d6-4730-9429-9b563d844760"
      },
      "source": [
        "plt.plot(hist2.history['val_accuracy'])\n",
        "plt.plot(hist2.history['val_loss'])\n",
        "plt.title('SGD')\n",
        "plt.ylabel('Loss')\n",
        "plt.xlabel('Epoch')\n",
        "plt.legend(['Train', 'Val'], loc='upper right')\n",
        "plt.show()"
      ],
      "execution_count": 21,
      "outputs": [
        {
          "output_type": "display_data",
          "data": {
            "image/png": "[encoded data removed]",
            "text/plain": [
              "<Figure size 432x288 with 1 Axes>"
            ]
          },
          "metadata": {
            "tags": [],
            "needs_background": "light"
          }
        }
      ]
    },
    {
      "cell_type": "code",
      "metadata": {
        "id": "oHx7w6UxiIXH",
        "colab_type": "code",
        "colab": {
          "base_uri": "https://localhost:8080/",
          "height": 295
        },
        "outputId": "285c8ca6-4ec0-4dde-9eff-0e8ae0f0afc3"
      },
      "source": [
        "plt.plot(hist.history['val_accuracy'])\n",
        "plt.plot(hist2.history['val_accuracy'])\n",
        "plt.title('Comparing Adam and SGD')\n",
        "plt.ylabel('Accuracy')\n",
        "plt.xlabel('Epoch')\n",
        "plt.legend(['Adam', 'SGD'], loc='upper right')\n",
        "plt.show()"
      ],
      "execution_count": 25,
      "outputs": [
        {
          "output_type": "display_data",
          "data": {
            "image/png": "[encoded data removed]",
            "text/plain": [
              "<Figure size 432x288 with 1 Axes>"
            ]
          },
          "metadata": {
            "tags": [],
            "needs_background": "light"
          }
        }
      ]
    },
    {
      "cell_type": "code",
      "metadata": {
        "id": "tULrSF5Zm434",
        "colab_type": "code",
        "colab": {
          "base_uri": "https://localhost:8080/",
          "height": 295
        },
        "outputId": "2567feff-3dc9-46cf-c018-0624cb2f5fc8"
      },
      "source": [
        "plt.plot(hist.history['val_loss'])\n",
        "plt.plot(hist2.history['val_loss'])\n",
        "plt.title('Comparing Adam and SGD')\n",
        "plt.ylabel('Loss')\n",
        "plt.xlabel('Epoch')\n",
        "plt.legend(['Adam', 'SGD'], loc='upper right')\n",
        "plt.show()"
      ],
      "execution_count": 26,
      "outputs": [
        {
          "output_type": "display_data",
          "data": {
            "image/png": "[encoded data removed]",
            "text/plain": [
              "<Figure size 432x288 with 1 Axes>"
            ]
          },
          "metadata": {
            "tags": [],
            "needs_background": "light"
          }
        }
      ]
    },
    {
      "cell_type": "code",
      "metadata": {
        "id": "UsckOa7Tnmx4",
        "colab_type": "code",
        "colab": {}
      },
      "source": [
        ""
      ],
      "execution_count": null,
      "outputs": []
    }
  ]
}